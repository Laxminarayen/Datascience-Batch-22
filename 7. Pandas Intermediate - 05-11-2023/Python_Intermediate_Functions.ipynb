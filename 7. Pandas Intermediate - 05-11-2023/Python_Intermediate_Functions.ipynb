{
 "cells": [
  {
   "cell_type": "code",
   "execution_count": 3,
   "metadata": {},
   "outputs": [],
   "source": [
    "def square(y):\n",
    "    return y*y"
   ]
  },
  {
   "cell_type": "code",
   "execution_count": 4,
   "metadata": {},
   "outputs": [
    {
     "data": {
      "text/plain": [
       "4"
      ]
     },
     "execution_count": 4,
     "metadata": {},
     "output_type": "execute_result"
    }
   ],
   "source": [
    "square(2)"
   ]
  },
  {
   "cell_type": "markdown",
   "metadata": {},
   "source": [
    "Anonymous Function: because it has no name\n",
    "## Lambda function\n",
    "Syntax:\n",
    "lambda arguments: operation"
   ]
  },
  {
   "cell_type": "code",
   "execution_count": 31,
   "metadata": {},
   "outputs": [
    {
     "name": "stdout",
     "output_type": "stream",
     "text": [
      "4\n"
     ]
    }
   ],
   "source": [
    "s = lambda y: y*y\n",
    "print(s(2))"
   ]
  },
  {
   "cell_type": "markdown",
   "metadata": {},
   "source": [
    "## Map\n",
    "syntax: map(function, *itreators)\n",
    "Init signature: map(self, /, *args, **kwargs)\n",
    "Docstring:     \n",
    "map(func, *iterables) --> map object\n",
    "\n",
    "Make an iterator that computes the function using arguments from\n",
    "each of the iterables.  Stops when the shortest iterable is exhausted."
   ]
  },
  {
   "cell_type": "markdown",
   "metadata": {},
   "source": [
    "## Without map"
   ]
  },
  {
   "cell_type": "code",
   "execution_count": 7,
   "metadata": {},
   "outputs": [
    {
     "data": {
      "text/plain": [
       "['JACK', 'SPARROW', 'HARRY', 'POTTER']"
      ]
     },
     "execution_count": 7,
     "metadata": {},
     "output_type": "execute_result"
    }
   ],
   "source": [
    "myfriends = ['jack','sparrow','harry','potter']\n",
    "uppercase = []\n",
    "\n",
    "for names in myfriends:\n",
    "    name_upper = names.upper()\n",
    "    uppercase.append(name_upper)\n",
    "uppercase"
   ]
  },
  {
   "cell_type": "code",
   "execution_count": 8,
   "metadata": {},
   "outputs": [
    {
     "data": {
      "text/plain": [
       "<map at 0x26b4fb23588>"
      ]
     },
     "execution_count": 8,
     "metadata": {},
     "output_type": "execute_result"
    }
   ],
   "source": [
    "map(str.upper,myfriends)"
   ]
  },
  {
   "cell_type": "code",
   "execution_count": 12,
   "metadata": {},
   "outputs": [],
   "source": [
    "myfriends = ['jack','sparrow','harry','potter']\n",
    "\n",
    "uppercase = list(map(str.upper,myfriends))"
   ]
  },
  {
   "cell_type": "code",
   "execution_count": 13,
   "metadata": {},
   "outputs": [
    {
     "data": {
      "text/plain": [
       "['JACK', 'SPARROW', 'HARRY', 'POTTER']"
      ]
     },
     "execution_count": 13,
     "metadata": {},
     "output_type": "execute_result"
    }
   ],
   "source": [
    "uppercase"
   ]
  },
  {
   "cell_type": "code",
   "execution_count": 14,
   "metadata": {
    "collapsed": true
   },
   "outputs": [
    {
     "ename": "TypeError",
     "evalue": "descriptor 'upper' requires a 'str' object but received a 'int'",
     "output_type": "error",
     "traceback": [
      "\u001b[1;31m---------------------------------------------------------------------------\u001b[0m",
      "\u001b[1;31mTypeError\u001b[0m                                 Traceback (most recent call last)",
      "\u001b[1;32m<ipython-input-14-23dbe739c798>\u001b[0m in \u001b[0;36m<module>\u001b[1;34m()\u001b[0m\n\u001b[0;32m      1\u001b[0m \u001b[0mmyfriends\u001b[0m \u001b[1;33m=\u001b[0m \u001b[1;33m[\u001b[0m\u001b[1;34m'jack'\u001b[0m\u001b[1;33m,\u001b[0m\u001b[1;34m'sparrow'\u001b[0m\u001b[1;33m,\u001b[0m\u001b[1;34m'harry'\u001b[0m\u001b[1;33m,\u001b[0m\u001b[1;34m'potter'\u001b[0m\u001b[1;33m,\u001b[0m\u001b[1;36m1\u001b[0m\u001b[1;33m]\u001b[0m\u001b[1;33m\u001b[0m\u001b[0m\n\u001b[0;32m      2\u001b[0m \u001b[1;33m\u001b[0m\u001b[0m\n\u001b[1;32m----> 3\u001b[1;33m \u001b[0muppercase\u001b[0m \u001b[1;33m=\u001b[0m \u001b[0mlist\u001b[0m\u001b[1;33m(\u001b[0m\u001b[0mmap\u001b[0m\u001b[1;33m(\u001b[0m\u001b[0mstr\u001b[0m\u001b[1;33m.\u001b[0m\u001b[0mupper\u001b[0m\u001b[1;33m,\u001b[0m\u001b[0mmyfriends\u001b[0m\u001b[1;33m)\u001b[0m\u001b[1;33m)\u001b[0m\u001b[1;33m\u001b[0m\u001b[0m\n\u001b[0m",
      "\u001b[1;31mTypeError\u001b[0m: descriptor 'upper' requires a 'str' object but received a 'int'"
     ]
    }
   ],
   "source": [
    "myfriends = ['jack','sparrow','harry','potter',1]\n",
    "\n",
    "uppercase = list(map(str.upper,myfriends))"
   ]
  },
  {
   "cell_type": "code",
   "execution_count": 15,
   "metadata": {},
   "outputs": [],
   "source": [
    "float_numbers = [4.77,2.33,9.02,10.67,0.66,4.67]\n",
    "\n",
    "round_numbers = list(map(round,float_numbers))"
   ]
  },
  {
   "cell_type": "code",
   "execution_count": 16,
   "metadata": {},
   "outputs": [
    {
     "data": {
      "text/plain": [
       "[5, 2, 9, 11, 1, 5]"
      ]
     },
     "execution_count": 16,
     "metadata": {},
     "output_type": "execute_result"
    }
   ],
   "source": [
    "round_numbers"
   ]
  },
  {
   "cell_type": "markdown",
   "metadata": {},
   "source": [
    "## NOT anonymous\n",
    "## Zip and Enumerate"
   ]
  },
  {
   "cell_type": "markdown",
   "metadata": {},
   "source": [
    "## Zip\n",
    "Iterate over two lists in parallel"
   ]
  },
  {
   "cell_type": "code",
   "execution_count": 21,
   "metadata": {
    "collapsed": true
   },
   "outputs": [
    {
     "name": "stdout",
     "output_type": "stream",
     "text": [
      "6\n",
      "14\n",
      "24\n",
      "36\n",
      "50\n"
     ]
    }
   ],
   "source": [
    "a = [1,2,3,4,5]\n",
    "b = [6,7,8,9,10]\n",
    "for i,j in zip(a,b):\n",
    "    print(i*j)\n",
    "    "
   ]
  },
  {
   "cell_type": "markdown",
   "metadata": {},
   "source": [
    "## Zip is not nested loop"
   ]
  },
  {
   "cell_type": "code",
   "execution_count": 22,
   "metadata": {
    "collapsed": true
   },
   "outputs": [
    {
     "name": "stdout",
     "output_type": "stream",
     "text": [
      "6\n",
      "7\n",
      "8\n",
      "9\n",
      "10\n",
      "12\n",
      "14\n",
      "16\n",
      "18\n",
      "20\n",
      "18\n",
      "21\n",
      "24\n",
      "27\n",
      "30\n",
      "24\n",
      "28\n",
      "32\n",
      "36\n",
      "40\n",
      "30\n",
      "35\n",
      "40\n",
      "45\n",
      "50\n"
     ]
    }
   ],
   "source": [
    "for i in a:\n",
    "    for j in b:\n",
    "        print(i*j)"
   ]
  },
  {
   "cell_type": "code",
   "execution_count": 23,
   "metadata": {},
   "outputs": [
    {
     "name": "stdout",
     "output_type": "stream",
     "text": [
      "6\n",
      "14\n",
      "24\n",
      "36\n"
     ]
    }
   ],
   "source": [
    "a = [1,2,3,4,5]\n",
    "b = [6,7,8,9]\n",
    "for i,j in zip(a,b):\n",
    "    print(i*j)\n",
    "    "
   ]
  },
  {
   "cell_type": "markdown",
   "metadata": {},
   "source": [
    "## Enumerate"
   ]
  },
  {
   "cell_type": "code",
   "execution_count": 25,
   "metadata": {},
   "outputs": [
    {
     "name": "stdout",
     "output_type": "stream",
     "text": [
      "0 a\n",
      "1 b\n",
      "2 c\n",
      "3 d\n"
     ]
    }
   ],
   "source": [
    "a = ['a','b','c','d']\n",
    "for i,a in enumerate(a):\n",
    "    print(i,a)"
   ]
  },
  {
   "cell_type": "code",
   "execution_count": 28,
   "metadata": {},
   "outputs": [
    {
     "name": "stdout",
     "output_type": "stream",
     "text": [
      "40 0\n",
      "160 1\n",
      "300 2\n",
      "480 3\n"
     ]
    }
   ],
   "source": [
    "a = [20,40,50,60]\n",
    "b = [2,4,6,8]\n",
    "\n",
    "for i,(a_i,b_i) in enumerate(zip(a,b)):\n",
    "    print(a_i*b_i,i)"
   ]
  },
  {
   "cell_type": "code",
   "execution_count": 29,
   "metadata": {},
   "outputs": [
    {
     "name": "stdout",
     "output_type": "stream",
     "text": [
      "[('jack', 1), ('sparrow', 2), ('harry', 3), ('potter', 4)]\n"
     ]
    }
   ],
   "source": [
    "names = ['jack','sparrow','harry','potter']\n",
    "index = [1,2,3,4]\n",
    "with_index = list(zip(names,index))\n",
    "print(with_index)"
   ]
  },
  {
   "cell_type": "markdown",
   "metadata": {},
   "source": [
    "## Make use of Map and Lambda to generate the same:\n",
    "[('jack', 1), ('sparrow', 2), ('harry', 3), ('potter', 4)]"
   ]
  },
  {
   "cell_type": "code",
   "execution_count": 30,
   "metadata": {},
   "outputs": [
    {
     "data": {
      "text/plain": [
       "[('jack', 1), ('sparrow', 2), ('harry', 3), ('potter', 4)]"
      ]
     },
     "execution_count": 30,
     "metadata": {},
     "output_type": "execute_result"
    }
   ],
   "source": [
    "names = ['jack','sparrow','harry','potter']\n",
    "index = [1,2,3,4]\n",
    "\n",
    "list(map(lambda i,j: (i,j),names,index))"
   ]
  },
  {
   "cell_type": "markdown",
   "metadata": {},
   "source": [
    "## Filter\n",
    "Init signature: filter(self, /, *args, **kwargs)\n",
    "Docstring:     \n",
    "filter(function or None, iterable) --> filter object\n",
    "\n",
    "Return an iterator yielding those items of iterable for which function(item)\n",
    "is true. If function is None, return the items that are true."
   ]
  },
  {
   "cell_type": "code",
   "execution_count": 32,
   "metadata": {},
   "outputs": [],
   "source": [
    "#without filter"
   ]
  },
  {
   "cell_type": "code",
   "execution_count": 34,
   "metadata": {},
   "outputs": [
    {
     "name": "stdout",
     "output_type": "stream",
     "text": [
      "35000\n",
      "25000\n"
     ]
    }
   ],
   "source": [
    "salary = [50000,35000,25000,60000]\n",
    "def lower_salary(salaries):\n",
    "    return salaries < 50000\n",
    "\n",
    "for i in salary:\n",
    "    if(lower_salary(i)):\n",
    "        print(i)"
   ]
  },
  {
   "cell_type": "code",
   "execution_count": 38,
   "metadata": {},
   "outputs": [
    {
     "name": "stdout",
     "output_type": "stream",
     "text": [
      "False\n",
      "True\n",
      "True\n",
      "False\n"
     ]
    }
   ],
   "source": [
    "#MAP VS FILTER In terms of for loops\n",
    "#MAP\n",
    "salary = [50000,35000,25000,60000]\n",
    "def lower_salary(salaries):\n",
    "    return salaries < 50000\n",
    "\n",
    "for i in salary:\n",
    "    print(lower_salary(i))"
   ]
  },
  {
   "cell_type": "code",
   "execution_count": 39,
   "metadata": {},
   "outputs": [
    {
     "name": "stdout",
     "output_type": "stream",
     "text": [
      "35000\n",
      "25000\n"
     ]
    }
   ],
   "source": [
    "#Filter\n",
    "salary = [50000,35000,25000,60000]\n",
    "def lower_salary(salaries):\n",
    "    return salaries < 50000\n",
    "\n",
    "for i in salary:\n",
    "    if(lower_salary(i)):\n",
    "        print(i)"
   ]
  },
  {
   "cell_type": "code",
   "execution_count": 41,
   "metadata": {},
   "outputs": [
    {
     "data": {
      "text/plain": [
       "[False, True, True, False]"
      ]
     },
     "execution_count": 41,
     "metadata": {},
     "output_type": "execute_result"
    }
   ],
   "source": [
    "list(map(lower_salary,salary))"
   ]
  },
  {
   "cell_type": "code",
   "execution_count": 37,
   "metadata": {},
   "outputs": [
    {
     "data": {
      "text/plain": [
       "<filter at 0x26b4fb42860>"
      ]
     },
     "execution_count": 37,
     "metadata": {},
     "output_type": "execute_result"
    }
   ],
   "source": [
    "filter(lower_salary,salary)"
   ]
  },
  {
   "cell_type": "code",
   "execution_count": 42,
   "metadata": {},
   "outputs": [
    {
     "data": {
      "text/plain": [
       "[35000, 25000]"
      ]
     },
     "execution_count": 42,
     "metadata": {},
     "output_type": "execute_result"
    }
   ],
   "source": [
    "list(filter(lower_salary,salary))"
   ]
  },
  {
   "cell_type": "markdown",
   "metadata": {},
   "source": [
    "## List Comprehension"
   ]
  },
  {
   "cell_type": "code",
   "execution_count": 83,
   "metadata": {},
   "outputs": [],
   "source": [
    "words = ['inceptz','batch13','pythn','class']\n",
    "vowels = ['a','e','i','o','u']"
   ]
  },
  {
   "cell_type": "code",
   "execution_count": 104,
   "metadata": {},
   "outputs": [
    {
     "name": "stdout",
     "output_type": "stream",
     "text": [
      "inceptz\n",
      "inceptz\n",
      "batch13\n",
      "class\n",
      "0:00:00.997000\n"
     ]
    }
   ],
   "source": [
    "import datetime \n",
    "start = datetime.datetime.now()\n",
    "for i in words: \n",
    "    for j in i:\n",
    "        if(j in vowels):\n",
    "            print(i)\n",
    "print((datetime.datetime.now() - start)*1000)"
   ]
  },
  {
   "cell_type": "code",
   "execution_count": 105,
   "metadata": {},
   "outputs": [
    {
     "name": "stdout",
     "output_type": "stream",
     "text": [
      "inceptz\n",
      "batch13\n",
      "class\n",
      "0:00:00.986000\n"
     ]
    }
   ],
   "source": [
    "start = datetime.datetime.now()\n",
    "for i in words: \n",
    "    word = list(i)\n",
    "    #print(word)\n",
    "    if(any(k in vowels for k in word)):\n",
    "        print(i)\n",
    "print((datetime.datetime.now() - start)*1000)    "
   ]
  },
  {
   "cell_type": "code",
   "execution_count": 107,
   "metadata": {},
   "outputs": [
    {
     "name": "stdout",
     "output_type": "stream",
     "text": [
      "0:00:00\n"
     ]
    }
   ],
   "source": [
    "start = datetime.datetime.now()\n",
    "hal = [i for i in words for k in i if k in vowels]\n",
    "print((datetime.datetime.now() - start)*1000)  "
   ]
  },
  {
   "cell_type": "code",
   "execution_count": 109,
   "metadata": {},
   "outputs": [
    {
     "data": {
      "text/plain": [
       "[10, 20, 50, 60]"
      ]
     },
     "execution_count": 109,
     "metadata": {},
     "output_type": "execute_result"
    }
   ],
   "source": [
    "list_10 = [10,20,50,60]\n",
    "[i for i in list_10]"
   ]
  }
 ],
 "metadata": {
  "kernelspec": {
   "display_name": "Python 3",
   "language": "python",
   "name": "python3"
  },
  "language_info": {
   "codemirror_mode": {
    "name": "ipython",
    "version": 3
   },
   "file_extension": ".py",
   "mimetype": "text/x-python",
   "name": "python",
   "nbconvert_exporter": "python",
   "pygments_lexer": "ipython3",
   "version": "3.7.0"
  }
 },
 "nbformat": 4,
 "nbformat_minor": 2
}
