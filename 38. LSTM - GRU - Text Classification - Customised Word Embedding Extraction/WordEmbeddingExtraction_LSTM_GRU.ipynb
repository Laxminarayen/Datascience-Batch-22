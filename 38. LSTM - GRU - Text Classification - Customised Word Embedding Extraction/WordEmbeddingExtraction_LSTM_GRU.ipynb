{
  "nbformat": 4,
  "nbformat_minor": 0,
  "metadata": {
    "colab": {
      "provenance": [],
      "gpuType": "T4"
    },
    "kernelspec": {
      "name": "python3",
      "display_name": "Python 3"
    },
    "language_info": {
      "name": "python"
    },
    "accelerator": "GPU"
  },
  "cells": [
    {
      "cell_type": "code",
      "source": [
        "!pip install contractions\n",
        "!pip install textsearch\n",
        "!pip install tqdm\n",
        "import nltk\n",
        "nltk.download('punkt')"
      ],
      "metadata": {
        "colab": {
          "base_uri": "https://localhost:8080/"
        },
        "id": "MVa8YMXfd1jM",
        "outputId": "2b52a036-7ef7-4961-8fb2-cad6a2fa24e3"
      },
      "execution_count": 1,
      "outputs": [
        {
          "output_type": "stream",
          "name": "stdout",
          "text": [
            "Collecting contractions\n",
            "  Downloading contractions-0.1.73-py2.py3-none-any.whl.metadata (1.2 kB)\n",
            "Collecting textsearch>=0.0.21 (from contractions)\n",
            "  Downloading textsearch-0.0.24-py2.py3-none-any.whl.metadata (1.2 kB)\n",
            "Collecting anyascii (from textsearch>=0.0.21->contractions)\n",
            "  Downloading anyascii-0.3.2-py3-none-any.whl.metadata (1.5 kB)\n",
            "Collecting pyahocorasick (from textsearch>=0.0.21->contractions)\n",
            "  Downloading pyahocorasick-2.1.0-cp310-cp310-manylinux_2_5_x86_64.manylinux1_x86_64.manylinux_2_12_x86_64.manylinux2010_x86_64.whl.metadata (13 kB)\n",
            "Downloading contractions-0.1.73-py2.py3-none-any.whl (8.7 kB)\n",
            "Downloading textsearch-0.0.24-py2.py3-none-any.whl (7.6 kB)\n",
            "Downloading anyascii-0.3.2-py3-none-any.whl (289 kB)\n",
            "\u001b[2K   \u001b[90m━━━━━━━━━━━━━━━━━━━━━━━━━━━━━━━━━━━━━━━━\u001b[0m \u001b[32m289.9/289.9 kB\u001b[0m \u001b[31m9.8 MB/s\u001b[0m eta \u001b[36m0:00:00\u001b[0m\n",
            "\u001b[?25hDownloading pyahocorasick-2.1.0-cp310-cp310-manylinux_2_5_x86_64.manylinux1_x86_64.manylinux_2_12_x86_64.manylinux2010_x86_64.whl (110 kB)\n",
            "\u001b[2K   \u001b[90m━━━━━━━━━━━━━━━━━━━━━━━━━━━━━━━━━━━━━━━━\u001b[0m \u001b[32m110.7/110.7 kB\u001b[0m \u001b[31m5.0 MB/s\u001b[0m eta \u001b[36m0:00:00\u001b[0m\n",
            "\u001b[?25hInstalling collected packages: pyahocorasick, anyascii, textsearch, contractions\n",
            "Successfully installed anyascii-0.3.2 contractions-0.1.73 pyahocorasick-2.1.0 textsearch-0.0.24\n",
            "Requirement already satisfied: textsearch in /usr/local/lib/python3.10/dist-packages (0.0.24)\n",
            "Requirement already satisfied: anyascii in /usr/local/lib/python3.10/dist-packages (from textsearch) (0.3.2)\n",
            "Requirement already satisfied: pyahocorasick in /usr/local/lib/python3.10/dist-packages (from textsearch) (2.1.0)\n",
            "Requirement already satisfied: tqdm in /usr/local/lib/python3.10/dist-packages (4.66.4)\n"
          ]
        },
        {
          "output_type": "stream",
          "name": "stderr",
          "text": [
            "[nltk_data] Downloading package punkt to /root/nltk_data...\n",
            "[nltk_data]   Unzipping tokenizers/punkt.zip.\n"
          ]
        },
        {
          "output_type": "execute_result",
          "data": {
            "text/plain": [
              "True"
            ]
          },
          "metadata": {},
          "execution_count": 1
        }
      ]
    },
    {
      "cell_type": "code",
      "source": [
        "import pandas as pd\n",
        "from bs4 import BeautifulSoup\n",
        "import numpy as np\n",
        "import re\n",
        "import tqdm\n",
        "import unicodedata\n",
        "\n",
        "dataset = pd.read_csv(\"/content/drive/MyDrive/movie_reviews.csv.bz2\")\n",
        "dataset.info()"
      ],
      "metadata": {
        "colab": {
          "base_uri": "https://localhost:8080/"
        },
        "id": "9dBYC3N_g5Lv",
        "outputId": "2266de61-3683-4db1-9a3e-6fa602c1a9f2"
      },
      "execution_count": 3,
      "outputs": [
        {
          "output_type": "stream",
          "name": "stdout",
          "text": [
            "<class 'pandas.core.frame.DataFrame'>\n",
            "RangeIndex: 50000 entries, 0 to 49999\n",
            "Data columns (total 2 columns):\n",
            " #   Column     Non-Null Count  Dtype \n",
            "---  ------     --------------  ----- \n",
            " 0   review     50000 non-null  object\n",
            " 1   sentiment  50000 non-null  object\n",
            "dtypes: object(2)\n",
            "memory usage: 781.4+ KB\n"
          ]
        }
      ]
    },
    {
      "cell_type": "code",
      "source": [
        "def strip_html_tags(text):\n",
        "  soup = BeautifulSoup(text,'html.parser')\n",
        "  stripped_text = soup.get_text()\n",
        "  stripped_text = re.sub(r'[\\r|\\n|\\r\\n]+','\\n',stripped_text)\n",
        "  return stripped_text"
      ],
      "metadata": {
        "id": "BT30ZLNpg6gA"
      },
      "execution_count": 4,
      "outputs": []
    },
    {
      "cell_type": "code",
      "source": [
        "def remove_accented_characters(text):\n",
        "  text = unicodedata.normalize(\"NFKD\",text).encode(\"ascii\",'ignore').decode('utf-8','ignore')\n",
        "  return text"
      ],
      "metadata": {
        "id": "AuG4nvEFhCip"
      },
      "execution_count": 5,
      "outputs": []
    },
    {
      "cell_type": "code",
      "source": [
        "def pre_process_corpus(texts):\n",
        "  preprocessed_text = []\n",
        "  for doc in tqdm.tqdm(texts):\n",
        "    doc = strip_html_tags(doc)\n",
        "    #doc = doc.translate(doc.maketrans(\"\\n\\t\\r\",'   '))\n",
        "    doc = doc.lower()\n",
        "    doc = remove_accented_characters(doc)\n",
        "    #Do remove contractions as well and check the results\n",
        "    doc = re.sub(r'[^a-zA-Z0-9\\s]','',doc,re.I|re.A)\n",
        "    doc = re.sub(r' +',' ',doc)\n",
        "    doc = doc.strip()\n",
        "    #doc = \"\".join(doc)\n",
        "    preprocessed_text.append(doc)\n",
        "  return preprocessed_text"
      ],
      "metadata": {
        "id": "9Jj18M5zhHq6"
      },
      "execution_count": 6,
      "outputs": []
    },
    {
      "cell_type": "code",
      "source": [
        "reviews  = dataset['review'].values\n",
        "sentiment = dataset['sentiment'].values\n",
        "\n",
        "train_reviews = reviews[:35000]\n",
        "train_sentiment = sentiment[:35000]\n",
        "\n",
        "test_reviews = reviews[35000:]\n",
        "test_sentiment = sentiment[35000:]\n"
      ],
      "metadata": {
        "id": "qOp3hTnGhIIl"
      },
      "execution_count": 7,
      "outputs": []
    },
    {
      "cell_type": "code",
      "source": [
        "%%time\n",
        "norm_train_reviews = pre_process_corpus(train_reviews)\n",
        "norm_test_reviews = pre_process_corpus(test_reviews)"
      ],
      "metadata": {
        "id": "_9ZVvWTPhKSY",
        "colab": {
          "base_uri": "https://localhost:8080/"
        },
        "outputId": "cc0bceaa-9600-441d-df73-3975f3245c01"
      },
      "execution_count": 8,
      "outputs": [
        {
          "output_type": "stream",
          "name": "stderr",
          "text": [
            "  2%|▏         | 673/35000 [00:00<00:15, 2245.23it/s]<ipython-input-4-46650b581e77>:2: MarkupResemblesLocatorWarning: The input looks more like a filename than markup. You may want to open this file and pass the filehandle into Beautiful Soup.\n",
            "  soup = BeautifulSoup(text,'html.parser')\n",
            "100%|██████████| 35000/35000 [00:19<00:00, 1827.02it/s]\n",
            "100%|██████████| 15000/15000 [00:08<00:00, 1807.14it/s]"
          ]
        },
        {
          "output_type": "stream",
          "name": "stdout",
          "text": [
            "CPU times: user 19.7 s, sys: 141 ms, total: 19.8 s\n",
            "Wall time: 27.5 s\n"
          ]
        },
        {
          "output_type": "stream",
          "name": "stderr",
          "text": [
            "\n"
          ]
        }
      ]
    },
    {
      "cell_type": "code",
      "source": [
        "import tensorflow as tf\n",
        "\n",
        "t = tf.keras.preprocessing.text.Tokenizer(filters='!\"#$%&()*+,-./:;<=>?@[\\\\]^_`{|}~',oov_token = 'UNK')"
      ],
      "metadata": {
        "id": "zl-Iu6XuiRIl"
      },
      "execution_count": 9,
      "outputs": []
    },
    {
      "cell_type": "code",
      "source": [
        "norm_train_reviews[0]"
      ],
      "metadata": {
        "colab": {
          "base_uri": "https://localhost:8080/",
          "height": 268
        },
        "id": "SbFot6ZPlGes",
        "outputId": "d3262106-7074-4b5c-99a0-403c95bf3987"
      },
      "execution_count": 21,
      "outputs": [
        {
          "output_type": "execute_result",
          "data": {
            "text/plain": [
              "'one of the other reviewers has mentioned that after watching just 1 oz episode youll be hooked they are right as this is exactly what happened with methe first thing that struck me about oz was its brutality and unflinching scenes of violence which set in right from the word go trust me this is not a show for the faint hearted or timid this show pulls no punches with regards to drugs sex or violence its is hardcore in the classic use of the wordit is called oz as that is the nickname given to the oswald maximum security state penitentary it focuses mainly on emerald city an experimental section of the prison where all the cells have glass fronts and face inwards so privacy is not high on the agenda em city is home to manyaryans muslims gangstas latinos christians italians irish and moreso scuffles death stares dodgy dealings and shady agreements are never far awayi would say the main appeal of the show is due to the fact that it goes where other shows wouldnt dare forget pretty pictures painted for mainstream audiences forget charm forget romanceoz doesnt mess around the first episode i ever saw struck me as so nasty it was surreal i couldnt say i was ready for it but as i watched more i developed a taste for oz and got accustomed to the high levels of graphic violence not just violence but injustice crooked guards wholl be sold out for a nickel inmates wholl kill on order and get away with it well mannered middle class inmates being turned into prison bitches due to their lack of street skills or prison experience watching oz you may become comfortable with what is uncomfortable viewingthats if you can get in touch with your darker side'"
            ],
            "application/vnd.google.colaboratory.intrinsic+json": {
              "type": "string"
            }
          },
          "metadata": {},
          "execution_count": 21
        }
      ]
    },
    {
      "cell_type": "code",
      "source": [
        "t.fit_on_texts(norm_train_reviews)"
      ],
      "metadata": {
        "id": "27pWZCrjjKG-"
      },
      "execution_count": 10,
      "outputs": []
    },
    {
      "cell_type": "code",
      "source": [
        "t.word_index['UNK'] = 0"
      ],
      "metadata": {
        "id": "rO6gezYHjP0-"
      },
      "execution_count": 11,
      "outputs": []
    },
    {
      "cell_type": "code",
      "source": [
        "train_sequences = t.texts_to_sequences(norm_train_reviews)\n",
        "test_sequences = t.texts_to_sequences(norm_test_reviews)"
      ],
      "metadata": {
        "id": "PCF0ziTmjrtw"
      },
      "execution_count": 12,
      "outputs": []
    },
    {
      "cell_type": "code",
      "source": [
        "train_sequences[0]"
      ],
      "metadata": {
        "id": "p-h689yxjygu"
      },
      "execution_count": null,
      "outputs": []
    },
    {
      "cell_type": "code",
      "source": [
        "len(t.word_index)"
      ],
      "metadata": {
        "colab": {
          "base_uri": "https://localhost:8080/"
        },
        "id": "iy55R4vxj2G7",
        "outputId": "982f845b-87d3-4388-ef51-8ca66832bf9b"
      },
      "execution_count": 15,
      "outputs": [
        {
          "output_type": "execute_result",
          "data": {
            "text/plain": [
              "176890"
            ]
          },
          "metadata": {},
          "execution_count": 15
        }
      ]
    },
    {
      "cell_type": "code",
      "source": [
        "t.document_count"
      ],
      "metadata": {
        "colab": {
          "base_uri": "https://localhost:8080/"
        },
        "id": "o7KwFoTYkIVp",
        "outputId": "1669350d-2c1d-464b-a429-28d440cae091"
      },
      "execution_count": 16,
      "outputs": [
        {
          "output_type": "execute_result",
          "data": {
            "text/plain": [
              "35000"
            ]
          },
          "metadata": {},
          "execution_count": 16
        }
      ]
    },
    {
      "cell_type": "code",
      "source": [
        "MAX_SEQUENCE_LENGTH = 1000"
      ],
      "metadata": {
        "id": "aOZze0VSkO5q"
      },
      "execution_count": 17,
      "outputs": []
    },
    {
      "cell_type": "code",
      "source": [
        "X_train = tf.keras.preprocessing.sequence.pad_sequences(train_sequences,maxlen = MAX_SEQUENCE_LENGTH)\n",
        "X_test = tf.keras.preprocessing.sequence.pad_sequences(test_sequences,maxlen = MAX_SEQUENCE_LENGTH)"
      ],
      "metadata": {
        "id": "ErAcTquJkS-W"
      },
      "execution_count": 18,
      "outputs": []
    },
    {
      "cell_type": "code",
      "source": [
        "from sklearn.preprocessing import LabelEncoder\n",
        "le = LabelEncoder()\n",
        "num_classes = 2"
      ],
      "metadata": {
        "id": "fb_Y__Kwkk2Q"
      },
      "execution_count": 22,
      "outputs": []
    },
    {
      "cell_type": "code",
      "source": [
        "y_train = le.fit_transform(train_sentiment)\n",
        "y_test = le.transform(test_sentiment)"
      ],
      "metadata": {
        "id": "_vVlo746qJEs"
      },
      "execution_count": 23,
      "outputs": []
    },
    {
      "cell_type": "code",
      "source": [
        "VOCAB_SIZE = len(t.word_index)"
      ],
      "metadata": {
        "id": "zpe6r-h_qRSy"
      },
      "execution_count": 24,
      "outputs": []
    },
    {
      "cell_type": "code",
      "source": [
        "EMBEDDING_DIM = 300"
      ],
      "metadata": {
        "id": "uJOEJBtnqU6q"
      },
      "execution_count": 25,
      "outputs": []
    },
    {
      "cell_type": "code",
      "source": [
        "model = tf.keras.models.Sequential()\n",
        "model.add(tf.keras.layers.Embedding(input_dim = VOCAB_SIZE,output_dim = EMBEDDING_DIM,input_length = MAX_SEQUENCE_LENGTH))\n",
        "model.add(tf.keras.layers.GRU(128,return_sequences=False))\n",
        "model.add(tf.keras.layers.Dense(256,activation = 'relu'))\n",
        "model.add(tf.keras.layers.Dense(1,activation='sigmoid'))\n",
        "\n",
        "model.compile(loss = 'binary_crossentropy',optimizer = 'adam', metrics = ['accuracy'])"
      ],
      "metadata": {
        "colab": {
          "base_uri": "https://localhost:8080/"
        },
        "id": "jJUxykYIqcTw",
        "outputId": "f98771d7-51f8-4b0a-dc80-0213bb3b9078"
      },
      "execution_count": 29,
      "outputs": [
        {
          "output_type": "stream",
          "name": "stderr",
          "text": [
            "/usr/local/lib/python3.10/dist-packages/keras/src/layers/core/embedding.py:90: UserWarning: Argument `input_length` is deprecated. Just remove it.\n",
            "  warnings.warn(\n"
          ]
        }
      ]
    },
    {
      "cell_type": "code",
      "source": [
        "model.summary()"
      ],
      "metadata": {
        "colab": {
          "base_uri": "https://localhost:8080/",
          "height": 265
        },
        "id": "L2Klr-I_rP4Y",
        "outputId": "c715eb91-9b70-41b7-9ae1-20edc2d9d8bf"
      },
      "execution_count": 30,
      "outputs": [
        {
          "output_type": "display_data",
          "data": {
            "text/plain": [
              "\u001b[1mModel: \"sequential_1\"\u001b[0m\n"
            ],
            "text/html": [
              "<pre style=\"white-space:pre;overflow-x:auto;line-height:normal;font-family:Menlo,'DejaVu Sans Mono',consolas,'Courier New',monospace\"><span style=\"font-weight: bold\">Model: \"sequential_1\"</span>\n",
              "</pre>\n"
            ]
          },
          "metadata": {}
        },
        {
          "output_type": "display_data",
          "data": {
            "text/plain": [
              "┏━━━━━━━━━━━━━━━━━━━━━━━━━━━━━━━━━━━━━━┳━━━━━━━━━━━━━━━━━━━━━━━━━━━━━┳━━━━━━━━━━━━━━━━━┓\n",
              "┃\u001b[1m \u001b[0m\u001b[1mLayer (type)                        \u001b[0m\u001b[1m \u001b[0m┃\u001b[1m \u001b[0m\u001b[1mOutput Shape               \u001b[0m\u001b[1m \u001b[0m┃\u001b[1m \u001b[0m\u001b[1m        Param #\u001b[0m\u001b[1m \u001b[0m┃\n",
              "┡━━━━━━━━━━━━━━━━━━━━━━━━━━━━━━━━━━━━━━╇━━━━━━━━━━━━━━━━━━━━━━━━━━━━━╇━━━━━━━━━━━━━━━━━┩\n",
              "│ embedding (\u001b[38;5;33mEmbedding\u001b[0m)                │ ?                           │     \u001b[38;5;34m0\u001b[0m (unbuilt) │\n",
              "├──────────────────────────────────────┼─────────────────────────────┼─────────────────┤\n",
              "│ gru (\u001b[38;5;33mGRU\u001b[0m)                            │ ?                           │     \u001b[38;5;34m0\u001b[0m (unbuilt) │\n",
              "├──────────────────────────────────────┼─────────────────────────────┼─────────────────┤\n",
              "│ dense (\u001b[38;5;33mDense\u001b[0m)                        │ ?                           │     \u001b[38;5;34m0\u001b[0m (unbuilt) │\n",
              "├──────────────────────────────────────┼─────────────────────────────┼─────────────────┤\n",
              "│ dense_1 (\u001b[38;5;33mDense\u001b[0m)                      │ ?                           │     \u001b[38;5;34m0\u001b[0m (unbuilt) │\n",
              "└──────────────────────────────────────┴─────────────────────────────┴─────────────────┘\n"
            ],
            "text/html": [
              "<pre style=\"white-space:pre;overflow-x:auto;line-height:normal;font-family:Menlo,'DejaVu Sans Mono',consolas,'Courier New',monospace\">┏━━━━━━━━━━━━━━━━━━━━━━━━━━━━━━━━━━━━━━┳━━━━━━━━━━━━━━━━━━━━━━━━━━━━━┳━━━━━━━━━━━━━━━━━┓\n",
              "┃<span style=\"font-weight: bold\"> Layer (type)                         </span>┃<span style=\"font-weight: bold\"> Output Shape                </span>┃<span style=\"font-weight: bold\">         Param # </span>┃\n",
              "┡━━━━━━━━━━━━━━━━━━━━━━━━━━━━━━━━━━━━━━╇━━━━━━━━━━━━━━━━━━━━━━━━━━━━━╇━━━━━━━━━━━━━━━━━┩\n",
              "│ embedding (<span style=\"color: #0087ff; text-decoration-color: #0087ff\">Embedding</span>)                │ ?                           │     <span style=\"color: #00af00; text-decoration-color: #00af00\">0</span> (unbuilt) │\n",
              "├──────────────────────────────────────┼─────────────────────────────┼─────────────────┤\n",
              "│ gru (<span style=\"color: #0087ff; text-decoration-color: #0087ff\">GRU</span>)                            │ ?                           │     <span style=\"color: #00af00; text-decoration-color: #00af00\">0</span> (unbuilt) │\n",
              "├──────────────────────────────────────┼─────────────────────────────┼─────────────────┤\n",
              "│ dense (<span style=\"color: #0087ff; text-decoration-color: #0087ff\">Dense</span>)                        │ ?                           │     <span style=\"color: #00af00; text-decoration-color: #00af00\">0</span> (unbuilt) │\n",
              "├──────────────────────────────────────┼─────────────────────────────┼─────────────────┤\n",
              "│ dense_1 (<span style=\"color: #0087ff; text-decoration-color: #0087ff\">Dense</span>)                      │ ?                           │     <span style=\"color: #00af00; text-decoration-color: #00af00\">0</span> (unbuilt) │\n",
              "└──────────────────────────────────────┴─────────────────────────────┴─────────────────┘\n",
              "</pre>\n"
            ]
          },
          "metadata": {}
        },
        {
          "output_type": "display_data",
          "data": {
            "text/plain": [
              "\u001b[1m Total params: \u001b[0m\u001b[38;5;34m0\u001b[0m (0.00 B)\n"
            ],
            "text/html": [
              "<pre style=\"white-space:pre;overflow-x:auto;line-height:normal;font-family:Menlo,'DejaVu Sans Mono',consolas,'Courier New',monospace\"><span style=\"font-weight: bold\"> Total params: </span><span style=\"color: #00af00; text-decoration-color: #00af00\">0</span> (0.00 B)\n",
              "</pre>\n"
            ]
          },
          "metadata": {}
        },
        {
          "output_type": "display_data",
          "data": {
            "text/plain": [
              "\u001b[1m Trainable params: \u001b[0m\u001b[38;5;34m0\u001b[0m (0.00 B)\n"
            ],
            "text/html": [
              "<pre style=\"white-space:pre;overflow-x:auto;line-height:normal;font-family:Menlo,'DejaVu Sans Mono',consolas,'Courier New',monospace\"><span style=\"font-weight: bold\"> Trainable params: </span><span style=\"color: #00af00; text-decoration-color: #00af00\">0</span> (0.00 B)\n",
              "</pre>\n"
            ]
          },
          "metadata": {}
        },
        {
          "output_type": "display_data",
          "data": {
            "text/plain": [
              "\u001b[1m Non-trainable params: \u001b[0m\u001b[38;5;34m0\u001b[0m (0.00 B)\n"
            ],
            "text/html": [
              "<pre style=\"white-space:pre;overflow-x:auto;line-height:normal;font-family:Menlo,'DejaVu Sans Mono',consolas,'Courier New',monospace\"><span style=\"font-weight: bold\"> Non-trainable params: </span><span style=\"color: #00af00; text-decoration-color: #00af00\">0</span> (0.00 B)\n",
              "</pre>\n"
            ]
          },
          "metadata": {}
        }
      ]
    },
    {
      "cell_type": "code",
      "source": [
        "model.fit(X_train,y_train,epochs =2,batch_size = 100,shuffle = True,validation_data=(X_test,y_test))"
      ],
      "metadata": {
        "colab": {
          "base_uri": "https://localhost:8080/"
        },
        "id": "-z0svcW2rXjN",
        "outputId": "d47d36da-84ea-4e83-c645-a487141cad63"
      },
      "execution_count": 31,
      "outputs": [
        {
          "output_type": "stream",
          "name": "stdout",
          "text": [
            "Epoch 1/2\n",
            "\u001b[1m350/350\u001b[0m \u001b[32m━━━━━━━━━━━━━━━━━━━━\u001b[0m\u001b[37m\u001b[0m \u001b[1m45s\u001b[0m 104ms/step - accuracy: 0.6664 - loss: 0.6024 - val_accuracy: 0.8407 - val_loss: 0.3947\n",
            "Epoch 2/2\n",
            "\u001b[1m350/350\u001b[0m \u001b[32m━━━━━━━━━━━━━━━━━━━━\u001b[0m\u001b[37m\u001b[0m \u001b[1m37s\u001b[0m 105ms/step - accuracy: 0.9226 - loss: 0.2026 - val_accuracy: 0.8815 - val_loss: 0.2848\n"
          ]
        },
        {
          "output_type": "execute_result",
          "data": {
            "text/plain": [
              "<keras.src.callbacks.history.History at 0x7af3e00aad70>"
            ]
          },
          "metadata": {},
          "execution_count": 31
        }
      ]
    },
    {
      "cell_type": "code",
      "source": [
        "score = model.evaluate(X_test,y_test)\n",
        "print(\"Accuracy: \",score[1]*100)"
      ],
      "metadata": {
        "colab": {
          "base_uri": "https://localhost:8080/"
        },
        "id": "_TIv-97yrmNR",
        "outputId": "dd77ba77-7107-421c-d073-1b13946614f7"
      },
      "execution_count": 33,
      "outputs": [
        {
          "output_type": "stream",
          "name": "stdout",
          "text": [
            "\u001b[1m469/469\u001b[0m \u001b[32m━━━━━━━━━━━━━━━━━━━━\u001b[0m\u001b[37m\u001b[0m \u001b[1m8s\u001b[0m 17ms/step - accuracy: 0.8848 - loss: 0.2883\n",
            "Accuracy:  88.15333247184753\n"
          ]
        }
      ]
    },
    {
      "cell_type": "code",
      "source": [
        "embedding_layer = model.get_layer('embedding')"
      ],
      "metadata": {
        "id": "VywKL1iYsC-Y"
      },
      "execution_count": 34,
      "outputs": []
    },
    {
      "cell_type": "code",
      "source": [
        "embedding_weights = embedding_layer.get_weights()[0]\n",
        "\n",
        "word_index = t.word_index\n",
        "word_embeddings = {}\n",
        "\n",
        "for word, idx in word_index.items():\n",
        "  if idx <VOCAB_SIZE:\n",
        "    word_embeddings[word] = embedding_weights[idx]\n",
        "\n",
        "for word, embedding in list(word_embeddings.items())[10:15]:\n",
        "  print(f'Word: {word}, Embedding: {embedding}')"
      ],
      "metadata": {
        "colab": {
          "base_uri": "https://localhost:8080/"
        },
        "id": "3kMBLEeOsRCo",
        "outputId": "9a4c661d-e56d-4adc-d99e-9f59457e0daa"
      },
      "execution_count": 35,
      "outputs": [
        {
          "output_type": "stream",
          "name": "stdout",
          "text": [
            "Word: i, Embedding: [-0.00539925 -0.01367678 -0.02983657 -0.03418371 -0.01613618  0.04503\n",
            "  0.00827715  0.02524475 -0.0188555  -0.03432133 -0.0179191   0.0331763\n",
            " -0.01469888 -0.01173743  0.02749514 -0.00380506 -0.00804417  0.06400453\n",
            "  0.01750441  0.03776209 -0.03621191 -0.01569487 -0.01854014 -0.02996394\n",
            "  0.01991318 -0.01040881  0.04260404  0.02522049 -0.01786766 -0.03241784\n",
            " -0.00079969  0.00624748 -0.00656252  0.05214302 -0.0243632  -0.00530692\n",
            "  0.07642546  0.00650386 -0.01468953  0.02107304 -0.03234603  0.033338\n",
            " -0.0321713   0.00608536  0.02215634  0.0056362  -0.03389269  0.03745358\n",
            " -0.02332874  0.04589349  0.01492599 -0.08124716  0.03414188 -0.0073094\n",
            "  0.00873965  0.00687322  0.01176066  0.03051621  0.05194023 -0.04453512\n",
            "  0.0247214   0.02554815  0.02629643 -0.02492854 -0.03383877  0.00918781\n",
            "  0.0407359  -0.02549986 -0.05578196  0.07285712  0.04078901  0.03758783\n",
            "  0.03484802  0.01640773 -0.0084839  -0.05433102  0.03277331  0.02143932\n",
            " -0.05888581  0.03057802 -0.04902388 -0.01782976  0.08306216  0.04478075\n",
            "  0.04747305  0.0764737   0.02384177 -0.02240802  0.06579216  0.00267862\n",
            " -0.03326691 -0.00085257 -0.03185312  0.00549603 -0.00689004  0.00993265\n",
            " -0.0308594   0.04561929  0.05440577  0.04851311  0.01907794 -0.02952433\n",
            " -0.09446442 -0.03455858 -0.02232654  0.00353355  0.031856    0.07875171\n",
            " -0.12063328 -0.00351346 -0.02893761  0.03009634 -0.02854459 -0.02510296\n",
            "  0.02314993  0.02669982 -0.00123896 -0.07414699 -0.03764297 -0.01544045\n",
            "  0.01786553 -0.02853881  0.05098926 -0.02639445 -0.00049966 -0.04526341\n",
            " -0.03206826  0.03117524  0.00846018 -0.00945006 -0.02364848 -0.00208454\n",
            "  0.00161986  0.00807251 -0.02542939  0.02863016 -0.01324442  0.0126061\n",
            "  0.01814423  0.01197849 -0.05846468 -0.00905337  0.04010466 -0.03192732\n",
            "  0.03303893  0.0024662  -0.01620129 -0.03523951 -0.06290423 -0.02149318\n",
            " -0.03945611  0.05031888 -0.00534331  0.00332325 -0.05642876  0.00760881\n",
            " -0.02575642  0.06557251  0.04387114  0.06842545  0.03454198 -0.04734651\n",
            "  0.01581295  0.00131525 -0.04802569 -0.03033341 -0.00111578 -0.03193286\n",
            "  0.01922042  0.00113181  0.00497574  0.00299965 -0.00774168  0.00960214\n",
            "  0.00873732 -0.0513963  -0.02782588 -0.0300776   0.03119888  0.06172761\n",
            "  0.05511415 -0.09403208 -0.03905854  0.02308657 -0.02497709 -0.07587653\n",
            " -0.02368064  0.01693739  0.00963774  0.05247559  0.01854891  0.01125349\n",
            "  0.03033524  0.03876114 -0.00413494  0.03241748 -0.02415718  0.04729103\n",
            "  0.03633    -0.03368503 -0.03226187 -0.03497323 -0.02945257 -0.00405606\n",
            " -0.03407535  0.01937689 -0.00562274  0.00938257 -0.05709726 -0.01439369\n",
            " -0.0201421  -0.00996502 -0.00403635 -0.04277208 -0.00937117 -0.03623806\n",
            " -0.02850221 -0.04753343  0.01243481  0.0310482   0.02659435  0.0096535\n",
            "  0.05773104 -0.0094667  -0.01608074 -0.03483485 -0.02255711 -0.00243849\n",
            " -0.00480076 -0.05152197  0.02653419  0.01043752 -0.05240731  0.10758077\n",
            " -0.01695674 -0.04028912 -0.00132927  0.01265482  0.00737471 -0.02746336\n",
            "  0.03970321 -0.01178725 -0.00020237  0.01714208  0.02276006 -0.00219039\n",
            "  0.03930002 -0.01220941 -0.03132253 -0.05962171 -0.02337727 -0.01081464\n",
            " -0.00228326  0.03954097 -0.03070117  0.00294754 -0.08716667 -0.05003946\n",
            "  0.01203123 -0.06690733  0.04245519 -0.02167178 -0.01036124 -0.03324427\n",
            "  0.01024991  0.02576561  0.00173258  0.01874132 -0.02983111 -0.02587194\n",
            " -0.01569209  0.02580555  0.00630853  0.02909673 -0.00825978 -0.00354006\n",
            " -0.04916696  0.04992522 -0.03864454 -0.06761558 -0.0042435   0.04924463\n",
            "  0.01870215 -0.02528878 -0.04281025  0.00625393 -0.04880988  0.03158988\n",
            "  0.00831041  0.03678583 -0.00800513 -0.03178351 -0.02101733 -0.01568064\n",
            " -0.0573832   0.01253929  0.00436778 -0.01238867  0.03370842 -0.04579761]\n",
            "Word: that, Embedding: [ 0.00022537 -0.00189239 -0.00356088 -0.03600824 -0.00557028  0.0485631\n",
            "  0.01018627  0.01975183 -0.10315079 -0.00938805 -0.00064745 -0.02655053\n",
            " -0.01277375 -0.02266159  0.02361678  0.02124476 -0.03783657  0.06963814\n",
            "  0.0111488   0.01708726 -0.00260405  0.01668395  0.04256162  0.00500522\n",
            "  0.04763007 -0.04627419  0.05946517 -0.06582054 -0.08703808  0.04171547\n",
            "  0.04083698 -0.03042259 -0.03484101 -0.01007376 -0.04905126 -0.0074951\n",
            "  0.00106942  0.00806271  0.03347821  0.01803095 -0.00577239  0.0126929\n",
            " -0.03678549 -0.04517613  0.03764546 -0.03618212  0.01908996  0.0864797\n",
            "  0.01620308  0.03875559 -0.02843912 -0.01194053 -0.00966358  0.02569181\n",
            "  0.03265724 -0.00797585  0.01438474  0.05628406  0.0311319  -0.02890716\n",
            "  0.00353512 -0.01913338 -0.01917583 -0.02526792 -0.00875729  0.06841283\n",
            "  0.0230426   0.02912772  0.03055046 -0.009916    0.06121352 -0.08840666\n",
            " -0.00710922 -0.02426722  0.03317187  0.06527563 -0.04621715 -0.0377487\n",
            "  0.02932376  0.01463842  0.00341954 -0.0470885  -0.04479982  0.02460776\n",
            " -0.03260702  0.01082917  0.00246692  0.01816906  0.00247024 -0.0622029\n",
            "  0.01696802 -0.03723204 -0.04509396  0.03413596 -0.01272175 -0.01847893\n",
            "  0.0376582   0.01976992 -0.02927691  0.00411576 -0.00184633 -0.0077079\n",
            " -0.08279308 -0.04715112  0.10992371 -0.01578031  0.00481162  0.0634214\n",
            " -0.04934475  0.05198301 -0.04477696  0.01561296 -0.01179599 -0.05248609\n",
            "  0.00579674  0.01668544  0.01492701 -0.07469741  0.01886736  0.0289681\n",
            " -0.04163479  0.01833414 -0.01848399  0.02512079  0.05921976 -0.02269633\n",
            "  0.0569497   0.01172356  0.01975038  0.01876463 -0.03174586 -0.04840135\n",
            " -0.02881721  0.05963623 -0.07016875 -0.05249733 -0.00142472  0.04056744\n",
            " -0.03478468  0.00649712 -0.01138829  0.04785636  0.04512269 -0.00753162\n",
            "  0.00822873  0.03066189 -0.00364945  0.01637466  0.05774316  0.00971816\n",
            " -0.01166973 -0.00479544  0.01580199 -0.04099434  0.03517418  0.03918546\n",
            "  0.04240169 -0.0248849   0.03428102  0.05664147  0.00320361  0.03331379\n",
            " -0.01764373  0.03922532 -0.01454918 -0.07621968  0.04661029 -0.06383907\n",
            "  0.00564059  0.09364189 -0.0229365   0.00395482 -0.04372123  0.06508379\n",
            " -0.04465031  0.04719231 -0.02423597 -0.04407318  0.03153142  0.00504679\n",
            " -0.04433491 -0.03561584 -0.1191949  -0.06840619  0.01920746 -0.00820796\n",
            " -0.05856456  0.06741586 -0.04056058  0.02559889  0.02568119  0.00058846\n",
            "  0.00624834  0.01056827  0.04417598  0.01198658 -0.03870776 -0.04804514\n",
            "  0.05193573  0.07676438 -0.04249687  0.02057148 -0.01195368 -0.03309235\n",
            " -0.03055452 -0.0507443  -0.03821437  0.04261396 -0.01166118  0.04909242\n",
            "  0.04246304 -0.01627755  0.06155005  0.01683133 -0.06697417 -0.01238845\n",
            "  0.04026023 -0.01729001  0.00512546 -0.02690032  0.04164447 -0.01491847\n",
            "  0.03569644  0.03823572  0.00962812  0.05154795  0.03137723  0.00540695\n",
            " -0.05065628  0.05437106 -0.04538669  0.02265534 -0.00104266  0.12378249\n",
            "  0.03364713 -0.03276673 -0.03296178 -0.02088324 -0.02541152  0.00222536\n",
            "  0.03781135  0.02661617 -0.03635977  0.00733574  0.04054526  0.04508947\n",
            "  0.09722234 -0.02976581  0.03382474 -0.01926728  0.02306625 -0.01875561\n",
            "  0.02331975 -0.00592267 -0.04359665 -0.06666083  0.00389533  0.0381448\n",
            " -0.05315195 -0.0851301  -0.01138953  0.03648461  0.02530231 -0.01190222\n",
            "  0.02202419 -0.03448892  0.0225472  -0.00286195 -0.04438242  0.04148338\n",
            " -0.03405361  0.02461144  0.03358568  0.00016498  0.00098852 -0.01093453\n",
            "  0.02744607  0.08785526 -0.04607825  0.03144129  0.05043414 -0.03700935\n",
            "  0.03281206 -0.03998532  0.04208387 -0.02919343  0.0066583   0.05871322\n",
            "  0.01448536 -0.00817354 -0.0620142  -0.02788967 -0.00627997  0.00686434\n",
            " -0.08360809  0.02187944  0.05519368 -0.00895283  0.03556402 -0.02060592]\n",
            "Word: was, Embedding: [ 1.03498930e-02  2.58773398e-02 -1.08932834e-02 -3.70604843e-02\n",
            "  4.82066971e-05 -5.84892258e-02 -4.15771231e-02  5.59704239e-03\n",
            " -2.35588700e-02  4.82638329e-02  1.43600916e-02 -3.21734184e-03\n",
            " -1.90866794e-02 -2.03645304e-02 -2.40283515e-02 -2.78072362e-03\n",
            " -2.81449407e-03  4.60200608e-02  3.68192531e-02 -5.83179742e-02\n",
            " -5.84334657e-02  1.07922442e-02 -1.57502200e-02  4.64160629e-02\n",
            "  1.94065962e-02  5.48981391e-02  6.91871569e-02  1.09209232e-02\n",
            "  3.17486823e-02  6.55881688e-02  3.23765376e-03  2.07568761e-02\n",
            " -2.94040777e-02  3.69769260e-02  1.33441074e-03 -5.81799215e-03\n",
            " -2.90403562e-03 -3.87969725e-02  3.24776918e-02  5.55732921e-02\n",
            "  4.66381852e-03 -1.90047193e-02  4.68796641e-02 -2.47737411e-02\n",
            " -4.86683473e-02 -9.11001414e-02 -2.28827223e-02 -1.61313657e-02\n",
            "  2.82459483e-02 -4.88051102e-02  5.59943020e-02 -1.89487878e-02\n",
            " -3.53983119e-02  4.91979383e-02 -6.86198622e-02 -3.31535935e-02\n",
            " -5.11230230e-02 -1.53712498e-03  3.46922167e-02 -1.18079428e-02\n",
            " -2.86027864e-02 -3.21417255e-03  2.84212511e-02  1.97308883e-02\n",
            "  1.53198186e-02  1.28483819e-02  3.36425938e-02 -3.30104344e-02\n",
            " -2.01556720e-02  2.65172701e-02 -2.92355511e-02  2.09165365e-02\n",
            "  1.87292118e-02 -4.90417257e-02 -5.05379923e-02 -3.78495455e-02\n",
            "  3.29177752e-02 -6.97167218e-03 -8.09808150e-02  1.45154912e-02\n",
            " -2.93957000e-03 -3.78899761e-02  2.92468220e-02  5.05790394e-03\n",
            "  3.50016840e-02  3.44122052e-02 -4.08105031e-02 -1.89993903e-02\n",
            "  5.67325838e-02 -7.19063776e-03  4.93235886e-02  7.74373189e-02\n",
            "  3.00685409e-03  1.83333233e-02  2.86886655e-02  1.16346572e-02\n",
            "  7.09765032e-03  3.66036519e-02 -5.16917221e-02  5.29025942e-02\n",
            "  3.09105106e-02  1.29729381e-03 -8.39202777e-02 -8.28028098e-03\n",
            " -2.51881927e-02  1.00200623e-03  4.79589589e-02 -2.10595187e-02\n",
            " -9.30925757e-02 -7.38711236e-03  3.88186388e-02 -4.37519234e-03\n",
            " -1.92282740e-02  3.77763808e-02 -1.41813122e-02 -1.83838122e-02\n",
            "  3.39967012e-02 -5.90947196e-02 -3.01084504e-03 -1.52897434e-02\n",
            "  2.54783463e-02  1.91618130e-03 -6.14478290e-02 -4.92024533e-02\n",
            "  2.77623050e-02  1.66562181e-02  3.46636660e-02  7.02546015e-02\n",
            "  3.83758061e-02 -2.44085789e-02  2.59461403e-02 -1.03499815e-02\n",
            "  3.30060422e-02 -5.86890196e-03  3.37903388e-02  4.92949970e-02\n",
            " -4.43621948e-02 -3.12345102e-02  1.99846784e-03 -3.42782363e-02\n",
            "  1.07894856e-02 -3.24275494e-02  7.75729259e-03  2.97154430e-02\n",
            " -7.90521037e-03  9.53769963e-03 -4.50981557e-02  2.54089311e-02\n",
            " -9.13675968e-03 -3.67133990e-02  3.63279879e-02  3.63796279e-02\n",
            "  1.71602909e-02  1.78978629e-02 -5.92885353e-02  3.30533981e-02\n",
            " -9.84784774e-03  6.13590926e-02 -1.38554228e-02  3.21302819e-03\n",
            " -2.81806570e-02  4.11280356e-02 -7.64394328e-02  8.88846442e-03\n",
            " -2.40545301e-03 -2.91506853e-03 -3.19998264e-02  4.42076661e-02\n",
            " -6.87191635e-02 -7.01720715e-02  7.41528068e-03 -1.66554935e-02\n",
            "  5.45042520e-03 -4.05258462e-02  1.51161375e-02  2.45844554e-02\n",
            "  6.98093250e-02 -2.79128328e-02  3.34728658e-02  2.21259911e-02\n",
            "  8.48715007e-03 -7.58643821e-02  4.92489897e-02  2.25974135e-02\n",
            " -8.82798061e-03 -6.33405820e-02 -4.65781502e-02 -3.81629728e-02\n",
            " -4.01771441e-03 -3.59393470e-02 -5.63128069e-02 -5.20237647e-02\n",
            " -5.41853309e-02 -5.39705604e-02 -2.74965968e-02 -5.71114756e-02\n",
            " -3.59315169e-03  4.28864583e-02  2.90380921e-02 -5.74884377e-02\n",
            " -1.26232337e-02  1.22372741e-02 -2.36876886e-02 -2.35427544e-02\n",
            " -4.41451557e-02  2.24953424e-02  7.69846439e-02  3.30072790e-02\n",
            "  4.27207537e-02 -2.79348460e-03 -9.33421031e-03  2.91413479e-02\n",
            " -1.22319825e-03  3.33388150e-02 -6.79826655e-04  1.53342346e-02\n",
            " -6.84671989e-03  2.69209184e-02 -2.70411056e-02 -3.71820219e-02\n",
            " -7.65986461e-03 -1.27851376e-02 -1.33905443e-03 -1.64082814e-02\n",
            " -2.76964474e-02 -2.18797289e-02 -2.14117169e-02  2.57263612e-02\n",
            " -4.17327136e-02  4.53578494e-02 -2.45596264e-02  2.91575789e-02\n",
            " -2.30216980e-02  5.99115752e-02  3.36030722e-02 -3.71407494e-02\n",
            "  1.29987570e-02 -5.17356507e-02 -2.99535338e-02  7.31143355e-02\n",
            " -2.65816525e-02  3.91024128e-02  1.01279812e-02  2.75243167e-02\n",
            " -2.91784909e-02 -1.94886886e-02  3.19469301e-03 -1.09834885e-02\n",
            "  3.53775918e-02  9.12308786e-03 -1.35333883e-03 -3.39870527e-02\n",
            " -6.99543357e-02  3.09911855e-02  1.36894861e-03  1.45595055e-02\n",
            " -9.05251247e-04  7.65793398e-03  2.17232239e-02  1.01168221e-02\n",
            "  1.93368420e-02 -2.22281050e-02  2.81509086e-02 -2.56722160e-02\n",
            "  1.84741244e-02 -2.72240471e-02  6.80523366e-02  2.25612819e-02\n",
            "  2.47412287e-02  3.06859817e-02 -1.42111890e-02 -2.61101872e-02\n",
            " -2.89955046e-02 -5.89685254e-02 -3.38056162e-02 -3.21784988e-03\n",
            " -3.07347402e-02 -6.20311797e-02  2.21057422e-02 -4.73262705e-02\n",
            "  2.23307274e-02  2.73497012e-02 -3.64670600e-03  3.46373655e-02\n",
            " -2.92010363e-02 -2.49524638e-02  8.55815038e-03 -3.68214138e-02\n",
            " -2.52419226e-02 -2.78589199e-03  5.73382787e-02 -5.25630973e-02\n",
            "  4.38390812e-03  2.38106921e-02  1.84381439e-04 -3.88002880e-02\n",
            " -3.25840376e-02  2.13394631e-02 -1.96054764e-02  8.54914635e-02]\n",
            "Word: as, Embedding: [ 3.40024084e-02 -1.16594851e-01 -2.95588356e-02  1.15331355e-02\n",
            " -4.52248100e-03  9.82231647e-03  2.71728495e-03  3.53507511e-02\n",
            " -1.32138208e-01 -2.94510908e-02  1.79386069e-03 -1.64609100e-03\n",
            " -5.34493551e-02  9.46629792e-03 -1.72140766e-02  6.11817576e-02\n",
            "  5.28523102e-02  6.07602783e-02  4.88131307e-03  5.85497059e-02\n",
            " -1.52411242e-03 -4.49057221e-02 -3.87791134e-02  1.42927412e-02\n",
            "  6.36528106e-03  2.54700575e-02  2.44240277e-02 -4.14562225e-03\n",
            " -3.36409919e-02 -4.73403139e-03  3.02860141e-02 -3.54470499e-02\n",
            "  2.91872192e-02 -1.54546434e-02  3.31256650e-02 -1.41561339e-02\n",
            " -4.55513829e-03 -2.85258107e-02 -4.27467860e-02 -1.89169236e-02\n",
            " -4.02071029e-02  1.41542237e-02  7.61855999e-03  6.31617056e-03\n",
            " -5.88258803e-02  3.17818671e-02  6.03691749e-02  3.76929753e-02\n",
            "  5.26650855e-03  4.68115322e-02 -3.75922560e-03 -3.73297073e-02\n",
            " -3.99851501e-02 -6.66355575e-03  1.76695790e-02 -1.33258468e-02\n",
            "  5.58619238e-02  2.79313847e-02 -2.08211374e-02 -5.06158024e-02\n",
            "  5.75304627e-02  1.31212585e-02  6.16725255e-03  9.31716617e-03\n",
            "  4.65083532e-02  2.02694535e-02  1.93170831e-02  2.83768773e-02\n",
            "  2.41924189e-02  2.14144066e-02 -2.52094101e-02 -1.47055509e-02\n",
            " -5.61609352e-03 -1.21715281e-03  4.83313613e-02  4.03465219e-02\n",
            " -2.97072046e-02 -1.36209037e-02 -4.14702334e-02  1.01738505e-03\n",
            " -4.65365825e-03  2.04548152e-04  3.31243239e-02 -1.51326172e-02\n",
            "  3.68556120e-02  6.78637028e-02  5.04084155e-02  1.19582772e-01\n",
            "  3.65769193e-02 -2.58080978e-02  4.13253158e-02 -1.73102859e-02\n",
            "  1.50559312e-02  2.81081162e-03  5.35768317e-03 -1.51483659e-02\n",
            "  6.26496524e-02  6.05875775e-02  6.87876903e-03  4.46140282e-02\n",
            " -2.43606754e-02  3.54505070e-02 -1.23132147e-01 -7.19027668e-02\n",
            "  1.91078167e-02 -2.85821371e-02  1.08063789e-02  1.99299250e-02\n",
            " -1.28655165e-01  1.36466725e-02 -6.35144264e-02  6.60370439e-02\n",
            "  7.29173720e-02  8.08926858e-03  3.73848937e-02  3.47387195e-02\n",
            "  6.45527020e-02 -9.61942002e-02  9.12064407e-03 -5.85871153e-02\n",
            " -1.73654109e-02  1.37176272e-03 -6.77081710e-03  1.80017129e-02\n",
            " -1.82243641e-02 -7.67268166e-02 -6.05126331e-03  5.50059155e-02\n",
            "  2.71801576e-02 -4.52888012e-03 -1.72940567e-02  8.19304585e-03\n",
            " -5.27629778e-02  1.92255396e-02 -2.38221828e-02 -6.26791036e-03\n",
            "  3.32863419e-03  3.77576984e-02  3.02442797e-02  1.94494966e-02\n",
            "  1.84106771e-02  5.38126379e-02  3.72608379e-02 -1.57231633e-02\n",
            "  3.40662338e-02 -3.53281163e-02  2.33939737e-02 -7.21798912e-02\n",
            " -1.81389637e-02  4.97470163e-02 -3.51369530e-02 -1.52887218e-02\n",
            "  6.95237517e-03 -4.41831909e-02 -2.10058857e-02  1.33255869e-02\n",
            "  2.38041375e-02  1.69675350e-02  4.67620380e-02  1.12098329e-01\n",
            " -4.31153411e-03 -5.10271117e-02  9.22885835e-02  2.37530023e-02\n",
            " -3.23855989e-02 -1.07634611e-01  7.96644855e-03 -7.38811120e-02\n",
            "  2.04257928e-02  1.29955336e-02 -1.49378553e-02 -4.73752581e-02\n",
            " -3.33945826e-02 -1.48395551e-02 -3.78273265e-03 -3.84118892e-02\n",
            "  1.89086273e-02 -2.15654895e-02  8.81948844e-02  4.81041297e-02\n",
            "  9.55484714e-03 -9.42166746e-02 -1.06625825e-01 -7.56693212e-03\n",
            " -4.33974415e-02  4.79414593e-05 -6.34744242e-02  4.37466055e-02\n",
            "  4.16301936e-02  3.92063186e-02  5.61236255e-02  8.72510225e-02\n",
            "  4.18870896e-02  1.97405014e-02  5.81786670e-02 -5.87624777e-03\n",
            " -6.38399795e-02 -1.54229151e-02  2.12685671e-02  1.36316735e-02\n",
            "  3.68420570e-03 -3.19265760e-02 -6.22365111e-03 -6.72243629e-03\n",
            "  2.88275909e-02  5.26544778e-03 -1.70753652e-03  3.06961574e-02\n",
            " -9.39986259e-02  1.83985103e-02 -6.18327633e-02  8.53831694e-03\n",
            "  1.54775036e-02 -2.59211976e-02  3.53393368e-02 -4.80884463e-02\n",
            " -2.55772322e-02 -3.99337709e-02 -1.96968839e-02  2.69054379e-02\n",
            "  1.38344439e-02  1.55837147e-03  8.80376715e-03  1.81735158e-02\n",
            " -3.04090828e-02  5.77218086e-03 -2.36794204e-02 -6.13317452e-02\n",
            "  1.59209827e-03 -1.81031972e-02 -7.30421767e-02 -1.91662218e-02\n",
            " -1.47561161e-02  7.64978454e-02 -6.28976747e-02 -7.37168640e-02\n",
            "  1.33524761e-02  1.56890880e-02 -2.61599626e-02 -6.86611906e-02\n",
            "  5.07514700e-02  2.38121022e-02  6.48944499e-03  3.10566975e-04\n",
            "  1.50946639e-02  7.76476134e-03  1.29729122e-01 -6.86638281e-02\n",
            "  1.21138468e-02 -5.65445498e-02 -6.30968958e-02  8.91034771e-03\n",
            " -3.46643142e-02  1.13772247e-02 -2.31153574e-02 -7.87684023e-02\n",
            " -4.68960255e-02 -2.89076157e-02  4.12485562e-02 -3.24756876e-02\n",
            "  6.14493601e-02 -2.71714702e-02 -9.85300448e-03  6.21732965e-04\n",
            "  4.56367582e-02  6.60454761e-03  6.92786090e-03  2.53620706e-02\n",
            "  2.06814092e-02 -6.30349144e-02 -1.20933792e-02  5.16925100e-03\n",
            " -2.70929392e-02  4.25406285e-02 -7.51465708e-02 -4.93870340e-02\n",
            " -4.23218869e-02 -5.43857217e-02  1.01605579e-02  1.40967406e-02\n",
            " -8.30737408e-03 -7.52140880e-02 -1.95025466e-02 -1.29763251e-02\n",
            "  2.73548029e-02  1.36786932e-02 -1.88455712e-02 -6.33218372e-03\n",
            " -2.03978270e-02 -6.09925017e-02 -1.44753465e-02 -7.01039955e-02\n",
            " -1.29516367e-02  4.03682292e-02  4.27494105e-03  3.84685360e-02\n",
            "  3.56957987e-02  1.23037798e-02 -2.27659568e-02 -1.06679611e-01]\n",
            "Word: with, Embedding: [ 0.02560272 -0.02124339 -0.05520322 -0.02030792  0.03646775  0.0245841\n",
            "  0.060457    0.02507431 -0.08314845 -0.02452529  0.00038766 -0.00854646\n",
            " -0.00963791 -0.02670738  0.00943792  0.03447133  0.05016939  0.07405827\n",
            "  0.0021465  -0.03250371  0.0791283  -0.01280675 -0.0010579  -0.03864413\n",
            "  0.01763816 -0.03649866  0.04346345 -0.00935217 -0.09575241 -0.02545826\n",
            "  0.03336163 -0.00390647 -0.0210392  -0.00196288 -0.02203709 -0.05009727\n",
            " -0.01504042  0.00525579  0.00130074 -0.01700419 -0.02825709  0.01585771\n",
            "  0.01721261 -0.03388286  0.00694768  0.01744427  0.01067109  0.0693854\n",
            "  0.06058536  0.02107413  0.06834115 -0.03060948  0.03377658  0.01570848\n",
            "  0.03490849  0.02563045  0.02811221  0.07098755  0.05957411 -0.02282285\n",
            "  0.04715907 -0.01631001 -0.0465407  -0.05061716  0.02601375  0.09791419\n",
            " -0.0388817   0.04622848  0.0293969   0.05059323  0.01506414  0.00026191\n",
            "  0.01333069 -0.01888329  0.03798897 -0.05631305 -0.0238834   0.01491175\n",
            " -0.00097327  0.01978382 -0.01889615 -0.02230544  0.02945279  0.0132662\n",
            "  0.06495335  0.11702503  0.05800485  0.02168981  0.04740116 -0.04552832\n",
            "  0.01400098 -0.03437535 -0.02775954 -0.03417932 -0.02930842 -0.01445789\n",
            "  0.05247858  0.03395732  0.00428672  0.05454599 -0.02568919 -0.00914206\n",
            " -0.04600191 -0.03353332  0.07788616  0.05583846 -0.03120077  0.09302714\n",
            " -0.05630251  0.00068258 -0.02432453  0.03298074 -0.02946424 -0.06662863\n",
            "  0.03108487  0.0347655  -0.046145   -0.04485796 -0.03131883  0.01689\n",
            "  0.02222129  0.02514709  0.04322707  0.03836609  0.07735311 -0.03051524\n",
            " -0.06147144  0.05943863  0.09675309  0.04708767  0.03453283 -0.06132792\n",
            " -0.01173523 -0.00320444 -0.09427437 -0.01644554 -0.04287651  0.02311795\n",
            "  0.01029164  0.05584665 -0.07119694  0.04795785  0.02192224 -0.02586959\n",
            "  0.01903397  0.0071695   0.06473558 -0.02298219 -0.06861189  0.01879094\n",
            " -0.0018817  -0.00023824 -0.01314603  0.01119352  0.02510563 -0.03561136\n",
            "  0.03373661  0.02342684  0.06648403  0.09373961  0.03670856  0.02852421\n",
            "  0.00928935  0.02654071 -0.04017517 -0.06485941 -0.01802723 -0.08700788\n",
            "  0.01437745  0.03733646  0.04294998 -0.0324194   0.01238161 -0.02167679\n",
            " -0.03615382 -0.07679988 -0.01717865  0.03161452  0.07118095  0.04398986\n",
            " -0.02426847 -0.08902659 -0.09161761 -0.06258036 -0.06478583 -0.02955109\n",
            "  0.00163559  0.01183186  0.0060779   0.02978547  0.03833989  0.04767352\n",
            " -0.02548309  0.01225235  0.03400913  0.0512113  -0.01826066 -0.00629425\n",
            "  0.04868071  0.01481923 -0.02404258 -0.02662476  0.00999559 -0.02100265\n",
            "  0.00200639  0.01491146 -0.01875734  0.09586851 -0.04527261  0.01041567\n",
            " -0.01531668 -0.01771947  0.06537881 -0.02258185  0.01961661 -0.0012221\n",
            "  0.03425366 -0.03598199  0.06167348 -0.00288105  0.0576908  -0.02916917\n",
            " -0.04121149 -0.03253523 -0.02469266  0.07856749  0.08320013 -0.00828367\n",
            " -0.03671393 -0.04566964 -0.00413025  0.02968575 -0.02116296  0.12932555\n",
            " -0.04106602 -0.07331251  0.00691286  0.01320274 -0.05329747 -0.06019704\n",
            "  0.04162203 -0.00274502 -0.02925411  0.01959948  0.05524516 -0.02700911\n",
            "  0.11139537 -0.04013547 -0.03916831 -0.04137012  0.00416226 -0.00288051\n",
            "  0.00395429 -0.01336787 -0.06081268 -0.02938575 -0.02972607 -0.00339141\n",
            "  0.00414011 -0.08292451  0.04739508  0.01762896  0.03770931 -0.05089963\n",
            " -0.02483427  0.02937441  0.06480688  0.02642539  0.05028899  0.01941888\n",
            " -0.04396552 -0.02811395 -0.04021667  0.01726222 -0.01715826 -0.05490074\n",
            " -0.00612822  0.05954477 -0.06552526 -0.07692841  0.01860642  0.01844259\n",
            " -0.00536234  0.0420795   0.03589712 -0.00478796  0.00278544  0.05996317\n",
            "  0.02924429  0.00607293 -0.00122252 -0.05034317  0.02144864 -0.01659642\n",
            " -0.01443061  0.03524486  0.01667131  0.04056918  0.02325551 -0.10540693]\n"
          ]
        }
      ]
    },
    {
      "cell_type": "code",
      "source": [
        "word_embeddings['good']"
      ],
      "metadata": {
        "colab": {
          "base_uri": "https://localhost:8080/"
        },
        "id": "kmEHAkl0s064",
        "outputId": "c5aea372-d624-4c07-e459-97f9e1781024"
      },
      "execution_count": 38,
      "outputs": [
        {
          "output_type": "execute_result",
          "data": {
            "text/plain": [
              "array([ 6.62169140e-03, -3.82755846e-02, -8.95390008e-03,  1.70599688e-02,\n",
              "       -4.23888414e-04,  6.97628558e-02,  4.40128669e-02,  1.53414859e-02,\n",
              "       -1.73390824e-02, -3.20590846e-02, -7.47125745e-02,  4.77860793e-02,\n",
              "       -5.25690727e-02, -5.01233377e-02,  2.67270743e-03,  2.02439222e-02,\n",
              "        2.51235086e-02,  2.08378341e-02,  9.03537124e-03,  2.13452708e-02,\n",
              "       -6.54197484e-03, -3.45219229e-03,  4.80022281e-05, -2.58062277e-02,\n",
              "        3.59780602e-02,  1.49994530e-02, -2.12820489e-02, -7.63605610e-02,\n",
              "       -2.24578027e-02,  2.21043229e-02,  6.63881153e-02,  2.47939490e-03,\n",
              "       -4.59611835e-03,  2.09681857e-02, -4.36918028e-02,  6.11550175e-03,\n",
              "        2.01940406e-02, -7.58442003e-03, -2.39894744e-02, -9.48134810e-02,\n",
              "        2.52138749e-02,  5.48775727e-03, -4.07170281e-02,  4.92653698e-02,\n",
              "       -3.98882888e-02,  3.01728975e-02,  2.07668301e-02, -9.20865871e-03,\n",
              "       -1.50745427e-02,  4.84044757e-03, -1.90226361e-02,  2.58528329e-02,\n",
              "        4.25519757e-02, -5.49269328e-03,  9.13334545e-03,  2.90373880e-02,\n",
              "        7.80513883e-02, -2.03080624e-02,  4.82934080e-02, -5.55126108e-02,\n",
              "        2.23036390e-03,  6.57589212e-02, -7.24022761e-02,  2.95641664e-02,\n",
              "        8.36394578e-02, -2.87538264e-02,  6.08539172e-02, -4.55584414e-02,\n",
              "        2.78289132e-02, -4.58762385e-02,  7.38885105e-02, -2.88014151e-02,\n",
              "        5.19658253e-02, -2.53095379e-04,  7.39806518e-02,  1.56389568e-02,\n",
              "       -4.98010442e-02, -3.90942469e-02,  6.80895522e-02, -6.79545328e-02,\n",
              "       -7.67104104e-02,  6.81926729e-03,  3.89388315e-02, -4.01298292e-02,\n",
              "       -3.05594746e-02, -6.74903840e-02,  2.51756702e-03, -3.13845836e-02,\n",
              "       -1.21649797e-03, -2.91162059e-02, -7.15705752e-03, -2.42964029e-02,\n",
              "        3.34930979e-02, -1.51944300e-03, -1.80347618e-02, -4.22972143e-02,\n",
              "        2.82717980e-02, -2.70437077e-02,  7.23915547e-02, -3.03065795e-02,\n",
              "       -1.72838382e-02,  8.52443802e-04,  2.58186087e-02, -3.53281386e-02,\n",
              "        4.60431017e-02,  3.28721255e-02,  5.06452192e-03, -1.20784920e-02,\n",
              "       -3.80775183e-02,  6.59030005e-02,  1.47730880e-03,  8.36740881e-02,\n",
              "       -2.89803767e-03, -5.26279036e-05, -9.95763694e-04,  7.17213228e-02,\n",
              "       -5.46543263e-02,  2.44341232e-02, -3.43979672e-02, -4.54466827e-02,\n",
              "       -3.40457000e-02,  1.40841864e-02,  5.25426865e-02,  1.30336694e-02,\n",
              "        5.12435734e-02,  7.15520009e-02, -8.56898353e-03,  3.96884456e-02,\n",
              "       -2.86420602e-02, -2.36114562e-02, -8.84576328e-03, -6.87743118e-03,\n",
              "       -1.67438053e-02,  1.33360093e-02,  3.53659317e-02, -4.28305380e-03,\n",
              "        2.68846061e-02,  1.60530508e-02,  4.63233218e-02,  5.23237176e-02,\n",
              "        2.73081101e-02,  4.76009622e-02,  1.41533725e-02, -2.42355317e-02,\n",
              "        7.38928691e-02, -3.97236831e-03,  1.02353850e-02,  2.69477163e-03,\n",
              "       -2.67475564e-02,  4.26794104e-02, -1.78035963e-02,  1.07770795e-02,\n",
              "       -6.54441267e-02, -7.62052536e-02, -2.42278241e-02, -3.26629020e-02,\n",
              "        5.51468022e-02,  2.21788827e-02, -1.42848333e-02,  2.85771564e-02,\n",
              "        4.06093411e-02, -7.41241872e-02,  2.19626743e-02,  7.68583789e-02,\n",
              "        3.97781171e-02, -2.76396256e-02, -1.64041631e-02, -2.25212798e-03,\n",
              "        4.15491275e-02,  2.32694317e-02,  2.79726554e-03, -7.04771578e-02,\n",
              "       -3.80076654e-02,  5.34129143e-02, -5.81022054e-02,  5.80387563e-03,\n",
              "       -1.04612643e-02, -6.51178658e-02,  2.10334770e-02,  4.78069931e-02,\n",
              "       -9.25718807e-03,  2.85420883e-02, -2.62537319e-02,  8.50413740e-03,\n",
              "        1.50005110e-02, -3.32125532e-03, -9.43217147e-03,  3.92300114e-02,\n",
              "        2.98075192e-02,  4.06844430e-02,  2.97336672e-02,  5.90182170e-02,\n",
              "        6.46107942e-02,  8.73631507e-05,  5.57304509e-02,  2.48911791e-02,\n",
              "       -5.64888678e-02,  1.86780505e-02,  1.61358565e-02,  1.00103207e-03,\n",
              "       -5.27989604e-02,  9.38992295e-03,  3.06480788e-02,  1.37788774e-02,\n",
              "       -2.11502928e-02, -6.19865768e-02,  2.13098768e-02,  2.30756309e-02,\n",
              "        9.35775042e-03, -8.81794095e-03, -3.48605774e-02,  6.53344169e-02,\n",
              "       -2.92947553e-02, -9.93609577e-02, -9.93824378e-03, -2.48487536e-02,\n",
              "        3.25698853e-02, -4.16286550e-02,  5.16460054e-02, -6.21573292e-02,\n",
              "        2.80609764e-02, -8.96376558e-03,  7.07732886e-02, -7.10208192e-02,\n",
              "        4.86137462e-04,  4.92447093e-02, -1.26313102e-02,  2.04928089e-02,\n",
              "        3.13860551e-03, -7.13165104e-02, -7.52020627e-02, -5.69740543e-03,\n",
              "        1.42762680e-02,  3.45558338e-02,  1.18458541e-02,  4.47725412e-03,\n",
              "        5.34014963e-02, -3.93500924e-02, -3.78858335e-02, -1.17013324e-02,\n",
              "        5.32082431e-02,  2.95935795e-02, -4.90932278e-02,  4.33301292e-02,\n",
              "       -4.87790117e-03, -3.61508466e-02,  2.26675570e-02, -7.30893984e-02,\n",
              "       -4.26552212e-03, -3.55283432e-02, -2.35367306e-02,  4.28889543e-02,\n",
              "        1.26949633e-02, -6.76249713e-02,  1.17618805e-02, -3.59185226e-02,\n",
              "       -3.84096913e-02, -1.07572693e-02, -2.73732040e-02, -1.33026121e-02,\n",
              "        7.57448599e-02,  2.31979042e-02,  7.94191565e-03, -6.09300472e-02,\n",
              "        1.13253323e-02,  6.86443448e-02, -3.82101275e-02, -1.12572806e-02,\n",
              "       -1.07184965e-02,  1.20822648e-02, -1.78584103e-02,  4.04818496e-03,\n",
              "       -7.02532567e-03, -9.92420362e-04, -4.59964462e-02, -2.20324639e-02,\n",
              "       -5.54189384e-02,  6.45086840e-02, -1.13103148e-02, -9.83938482e-03,\n",
              "       -2.48062750e-03,  7.03561008e-02,  1.39839435e-02,  4.68993634e-02,\n",
              "       -5.67627605e-04,  2.68362649e-02,  1.54344887e-02,  5.45719415e-02,\n",
              "        1.62739828e-02, -4.73043323e-02, -6.68673962e-02,  8.79823696e-03,\n",
              "       -1.91317592e-02,  3.54936197e-02, -2.13613175e-02, -4.57290933e-03,\n",
              "        1.24150552e-02, -6.26056269e-02, -5.21871145e-04, -1.82654653e-02],\n",
              "      dtype=float32)"
            ]
          },
          "metadata": {},
          "execution_count": 38
        }
      ]
    },
    {
      "cell_type": "code",
      "source": [
        "model = tf.keras.models.Sequential()\n",
        "model.add(tf.keras.layers.Embedding(input_dim = VOCAB_SIZE,output_dim = EMBEDDING_DIM,input_length = MAX_SEQUENCE_LENGTH))\n",
        "model.add(tf.keras.layers.Bidirectional(tf.keras.layers.LSTM(128,return_sequences=False)))\n",
        "model.add(tf.keras.layers.Dense(256,activation = 'relu'))\n",
        "model.add(tf.keras.layers.Dense(1,activation='sigmoid'))\n",
        "\n",
        "model.compile(loss = 'binary_crossentropy',optimizer = 'adam', metrics = ['accuracy'])"
      ],
      "metadata": {
        "colab": {
          "base_uri": "https://localhost:8080/"
        },
        "id": "7Ox-sadZttpK",
        "outputId": "fbe35ff8-8b70-4d5b-98a4-32f4ddc82e0e"
      },
      "execution_count": 39,
      "outputs": [
        {
          "output_type": "stream",
          "name": "stderr",
          "text": [
            "/usr/local/lib/python3.10/dist-packages/keras/src/layers/core/embedding.py:90: UserWarning: Argument `input_length` is deprecated. Just remove it.\n",
            "  warnings.warn(\n"
          ]
        }
      ]
    },
    {
      "cell_type": "code",
      "source": [
        "model.summary()"
      ],
      "metadata": {
        "colab": {
          "base_uri": "https://localhost:8080/",
          "height": 265
        },
        "id": "atDuctdJxmJR",
        "outputId": "60f48906-d3eb-4780-8348-4d3387617eab"
      },
      "execution_count": 40,
      "outputs": [
        {
          "output_type": "display_data",
          "data": {
            "text/plain": [
              "\u001b[1mModel: \"sequential_2\"\u001b[0m\n"
            ],
            "text/html": [
              "<pre style=\"white-space:pre;overflow-x:auto;line-height:normal;font-family:Menlo,'DejaVu Sans Mono',consolas,'Courier New',monospace\"><span style=\"font-weight: bold\">Model: \"sequential_2\"</span>\n",
              "</pre>\n"
            ]
          },
          "metadata": {}
        },
        {
          "output_type": "display_data",
          "data": {
            "text/plain": [
              "┏━━━━━━━━━━━━━━━━━━━━━━━━━━━━━━━━━━━━━━┳━━━━━━━━━━━━━━━━━━━━━━━━━━━━━┳━━━━━━━━━━━━━━━━━┓\n",
              "┃\u001b[1m \u001b[0m\u001b[1mLayer (type)                        \u001b[0m\u001b[1m \u001b[0m┃\u001b[1m \u001b[0m\u001b[1mOutput Shape               \u001b[0m\u001b[1m \u001b[0m┃\u001b[1m \u001b[0m\u001b[1m        Param #\u001b[0m\u001b[1m \u001b[0m┃\n",
              "┡━━━━━━━━━━━━━━━━━━━━━━━━━━━━━━━━━━━━━━╇━━━━━━━━━━━━━━━━━━━━━━━━━━━━━╇━━━━━━━━━━━━━━━━━┩\n",
              "│ embedding_1 (\u001b[38;5;33mEmbedding\u001b[0m)              │ ?                           │     \u001b[38;5;34m0\u001b[0m (unbuilt) │\n",
              "├──────────────────────────────────────┼─────────────────────────────┼─────────────────┤\n",
              "│ bidirectional (\u001b[38;5;33mBidirectional\u001b[0m)        │ ?                           │     \u001b[38;5;34m0\u001b[0m (unbuilt) │\n",
              "├──────────────────────────────────────┼─────────────────────────────┼─────────────────┤\n",
              "│ dense_2 (\u001b[38;5;33mDense\u001b[0m)                      │ ?                           │     \u001b[38;5;34m0\u001b[0m (unbuilt) │\n",
              "├──────────────────────────────────────┼─────────────────────────────┼─────────────────┤\n",
              "│ dense_3 (\u001b[38;5;33mDense\u001b[0m)                      │ ?                           │     \u001b[38;5;34m0\u001b[0m (unbuilt) │\n",
              "└──────────────────────────────────────┴─────────────────────────────┴─────────────────┘\n"
            ],
            "text/html": [
              "<pre style=\"white-space:pre;overflow-x:auto;line-height:normal;font-family:Menlo,'DejaVu Sans Mono',consolas,'Courier New',monospace\">┏━━━━━━━━━━━━━━━━━━━━━━━━━━━━━━━━━━━━━━┳━━━━━━━━━━━━━━━━━━━━━━━━━━━━━┳━━━━━━━━━━━━━━━━━┓\n",
              "┃<span style=\"font-weight: bold\"> Layer (type)                         </span>┃<span style=\"font-weight: bold\"> Output Shape                </span>┃<span style=\"font-weight: bold\">         Param # </span>┃\n",
              "┡━━━━━━━━━━━━━━━━━━━━━━━━━━━━━━━━━━━━━━╇━━━━━━━━━━━━━━━━━━━━━━━━━━━━━╇━━━━━━━━━━━━━━━━━┩\n",
              "│ embedding_1 (<span style=\"color: #0087ff; text-decoration-color: #0087ff\">Embedding</span>)              │ ?                           │     <span style=\"color: #00af00; text-decoration-color: #00af00\">0</span> (unbuilt) │\n",
              "├──────────────────────────────────────┼─────────────────────────────┼─────────────────┤\n",
              "│ bidirectional (<span style=\"color: #0087ff; text-decoration-color: #0087ff\">Bidirectional</span>)        │ ?                           │     <span style=\"color: #00af00; text-decoration-color: #00af00\">0</span> (unbuilt) │\n",
              "├──────────────────────────────────────┼─────────────────────────────┼─────────────────┤\n",
              "│ dense_2 (<span style=\"color: #0087ff; text-decoration-color: #0087ff\">Dense</span>)                      │ ?                           │     <span style=\"color: #00af00; text-decoration-color: #00af00\">0</span> (unbuilt) │\n",
              "├──────────────────────────────────────┼─────────────────────────────┼─────────────────┤\n",
              "│ dense_3 (<span style=\"color: #0087ff; text-decoration-color: #0087ff\">Dense</span>)                      │ ?                           │     <span style=\"color: #00af00; text-decoration-color: #00af00\">0</span> (unbuilt) │\n",
              "└──────────────────────────────────────┴─────────────────────────────┴─────────────────┘\n",
              "</pre>\n"
            ]
          },
          "metadata": {}
        },
        {
          "output_type": "display_data",
          "data": {
            "text/plain": [
              "\u001b[1m Total params: \u001b[0m\u001b[38;5;34m0\u001b[0m (0.00 B)\n"
            ],
            "text/html": [
              "<pre style=\"white-space:pre;overflow-x:auto;line-height:normal;font-family:Menlo,'DejaVu Sans Mono',consolas,'Courier New',monospace\"><span style=\"font-weight: bold\"> Total params: </span><span style=\"color: #00af00; text-decoration-color: #00af00\">0</span> (0.00 B)\n",
              "</pre>\n"
            ]
          },
          "metadata": {}
        },
        {
          "output_type": "display_data",
          "data": {
            "text/plain": [
              "\u001b[1m Trainable params: \u001b[0m\u001b[38;5;34m0\u001b[0m (0.00 B)\n"
            ],
            "text/html": [
              "<pre style=\"white-space:pre;overflow-x:auto;line-height:normal;font-family:Menlo,'DejaVu Sans Mono',consolas,'Courier New',monospace\"><span style=\"font-weight: bold\"> Trainable params: </span><span style=\"color: #00af00; text-decoration-color: #00af00\">0</span> (0.00 B)\n",
              "</pre>\n"
            ]
          },
          "metadata": {}
        },
        {
          "output_type": "display_data",
          "data": {
            "text/plain": [
              "\u001b[1m Non-trainable params: \u001b[0m\u001b[38;5;34m0\u001b[0m (0.00 B)\n"
            ],
            "text/html": [
              "<pre style=\"white-space:pre;overflow-x:auto;line-height:normal;font-family:Menlo,'DejaVu Sans Mono',consolas,'Courier New',monospace\"><span style=\"font-weight: bold\"> Non-trainable params: </span><span style=\"color: #00af00; text-decoration-color: #00af00\">0</span> (0.00 B)\n",
              "</pre>\n"
            ]
          },
          "metadata": {}
        }
      ]
    },
    {
      "cell_type": "code",
      "source": [
        "model.fit(X_train,y_train,epochs =2,batch_size = 100,shuffle = True,validation_data=(X_test,y_test))"
      ],
      "metadata": {
        "colab": {
          "base_uri": "https://localhost:8080/"
        },
        "id": "L4Hv2QW0xo1T",
        "outputId": "21265c3f-dbb9-4f6d-a096-c5896311f1c7"
      },
      "execution_count": 41,
      "outputs": [
        {
          "output_type": "stream",
          "name": "stdout",
          "text": [
            "Epoch 1/2\n",
            "\u001b[1m350/350\u001b[0m \u001b[32m━━━━━━━━━━━━━━━━━━━━\u001b[0m\u001b[37m\u001b[0m \u001b[1m78s\u001b[0m 210ms/step - accuracy: 0.7327 - loss: 0.4999 - val_accuracy: 0.8641 - val_loss: 0.3379\n",
            "Epoch 2/2\n",
            "\u001b[1m350/350\u001b[0m \u001b[32m━━━━━━━━━━━━━━━━━━━━\u001b[0m\u001b[37m\u001b[0m \u001b[1m81s\u001b[0m 209ms/step - accuracy: 0.9230 - loss: 0.2133 - val_accuracy: 0.8727 - val_loss: 0.3051\n"
          ]
        },
        {
          "output_type": "execute_result",
          "data": {
            "text/plain": [
              "<keras.src.callbacks.history.History at 0x7af3cdca9f90>"
            ]
          },
          "metadata": {},
          "execution_count": 41
        }
      ]
    },
    {
      "cell_type": "code",
      "source": [
        "score = model.evaluate(X_test,y_test)\n",
        "print(\"Accuracy: \",score[1]*100)"
      ],
      "metadata": {
        "colab": {
          "base_uri": "https://localhost:8080/"
        },
        "id": "qDkFkC0txsnI",
        "outputId": "501b30e3-f978-415a-c3b5-f30eba112bfb"
      },
      "execution_count": 42,
      "outputs": [
        {
          "output_type": "stream",
          "name": "stdout",
          "text": [
            "\u001b[1m469/469\u001b[0m \u001b[32m━━━━━━━━━━━━━━━━━━━━\u001b[0m\u001b[37m\u001b[0m \u001b[1m15s\u001b[0m 31ms/step - accuracy: 0.8729 - loss: 0.3079\n",
            "Accuracy:  87.26666569709778\n"
          ]
        }
      ]
    },
    {
      "cell_type": "code",
      "source": [
        "embedding_layer = model.get_layer('embedding_1')"
      ],
      "metadata": {
        "id": "gmxN5P2syENj"
      },
      "execution_count": 43,
      "outputs": []
    },
    {
      "cell_type": "code",
      "source": [
        "embedding_weights = embedding_layer.get_weights()[0]\n",
        "\n",
        "word_index = t.word_index\n",
        "word_embeddings = {}\n",
        "\n",
        "for word, idx in word_index.items():\n",
        "  if idx <VOCAB_SIZE:\n",
        "    word_embeddings[word] = embedding_weights[idx]\n",
        "\n",
        "for word, embedding in list(word_embeddings.items())[10:15]:\n",
        "  print(f'Word: {word}, Embedding: {embedding}')"
      ],
      "metadata": {
        "colab": {
          "base_uri": "https://localhost:8080/"
        },
        "id": "n3c47s4tyFu-",
        "outputId": "8f2cd3d7-17f1-4c0d-a059-fdc9406af196"
      },
      "execution_count": 44,
      "outputs": [
        {
          "output_type": "stream",
          "name": "stdout",
          "text": [
            "Word: i, Embedding: [ 0.02161017  0.01016464 -0.0344336   0.00122708  0.00485192  0.02467518\n",
            "  0.04477451  0.00276823 -0.03736994  0.01093021  0.00318434  0.01560665\n",
            "  0.04214952  0.02867384  0.016883   -0.04266184  0.06286643  0.05429688\n",
            "  0.04263742  0.0273772  -0.0190854  -0.04935349  0.05905822  0.04074043\n",
            " -0.03213617  0.00608135  0.02824392  0.00992134 -0.02297647  0.03575327\n",
            "  0.01406809 -0.01752631  0.02756415  0.03398655  0.01430477 -0.02097004\n",
            " -0.0233241   0.0599719   0.00332613  0.03170693  0.04380341  0.01014346\n",
            " -0.0273118   0.00129605  0.02994707 -0.03650814 -0.02554997 -0.03154456\n",
            " -0.06282184  0.04919599  0.00662109  0.02789403  0.04158591 -0.05145029\n",
            " -0.00323008  0.01909375 -0.01300988 -0.00609357  0.0212041  -0.02955449\n",
            "  0.03869161 -0.02134361 -0.050593   -0.02602028 -0.05548182  0.02450823\n",
            " -0.03569289  0.00362536 -0.01686659  0.04656775 -0.01811399  0.07473809\n",
            "  0.04502587  0.00261415 -0.01302208 -0.04809745 -0.02153728 -0.02144432\n",
            " -0.01196803 -0.01013983  0.02247878  0.0147494  -0.02250909 -0.00486348\n",
            "  0.01812376 -0.00621351  0.01692531 -0.04320355  0.04659706  0.01031199\n",
            " -0.01514399 -0.00065206 -0.00535762  0.00788894 -0.02629715 -0.02401227\n",
            "  0.00775786 -0.01227937  0.03153028 -0.01718541  0.01854625 -0.02769549\n",
            "  0.01949491 -0.02080065 -0.0104295  -0.03088729 -0.02028352  0.03503966\n",
            " -0.0232325   0.02569167 -0.03032511  0.04455728  0.02630358 -0.0171232\n",
            "  0.00204746  0.00995032 -0.08429984  0.00700942  0.01216364 -0.0310273\n",
            " -0.04569443 -0.02432177  0.01695204 -0.00634839 -0.03690055 -0.0306416\n",
            "  0.06008714  0.01729532 -0.03249356  0.0432285  -0.01262076  0.01015168\n",
            "  0.03048722 -0.00986507 -0.02394842  0.00366826  0.02690048 -0.02564881\n",
            "  0.00820332 -0.02570333 -0.01420959 -0.03583217 -0.0209277  -0.01334935\n",
            " -0.03642919 -0.04764507 -0.02786758 -0.04976912 -0.03329503 -0.04343293\n",
            "  0.05065923  0.02625198 -0.02523529 -0.00407137  0.06887001 -0.0041207\n",
            "  0.00831459  0.02733976  0.06308842 -0.00456682 -0.06554589 -0.01935812\n",
            " -0.04815283  0.02047648 -0.02515098  0.00047433 -0.0222368  -0.02549987\n",
            " -0.01351207  0.06842154 -0.02269832 -0.0197908   0.0009351  -0.04679225\n",
            " -0.00480294 -0.00398372  0.01101263 -0.03709716 -0.02866761  0.00740853\n",
            " -0.02300935 -0.01109197  0.03269692 -0.02257646 -0.02148342 -0.05811746\n",
            " -0.01574153  0.00460352  0.034722   -0.00605476 -0.05545611  0.04677444\n",
            "  0.0015938   0.04796464 -0.0444872  -0.04294987 -0.00744413 -0.02124678\n",
            " -0.02958421  0.05432169  0.04600194 -0.00245028 -0.03159558 -0.04558085\n",
            "  0.00148406  0.00464219 -0.02655592  0.01667879  0.02558839  0.07049619\n",
            " -0.03808011  0.04541497  0.00055365  0.08155409 -0.03785093 -0.0310538\n",
            "  0.05330333 -0.03316682  0.04105927 -0.0040577   0.02188285  0.03902275\n",
            "  0.0101971  -0.01107431 -0.05463962  0.02927403 -0.01873074 -0.03529457\n",
            " -0.01389984  0.04301179  0.01162839  0.04732141  0.02630149  0.03493233\n",
            " -0.04526422 -0.0072334   0.01505011 -0.00333332 -0.02499482 -0.04148614\n",
            " -0.00920371 -0.03105475  0.01739711  0.04358645 -0.00038139  0.00164019\n",
            "  0.0288006   0.0280666  -0.01281497  0.09859011 -0.00058438  0.049219\n",
            " -0.04661556 -0.00913848 -0.03593991  0.01509302  0.04969772  0.0763966\n",
            "  0.0004734   0.00881035  0.02587579  0.09423334  0.01271217  0.00825493\n",
            "  0.01879368 -0.05061386  0.01335447 -0.00764918  0.03531894 -0.03251939\n",
            "  0.03355987  0.00483332  0.04505693 -0.04835697 -0.00227563  0.03252765\n",
            " -0.00743139  0.01908713  0.03809756 -0.02026968  0.04109044  0.02757585\n",
            " -0.00361598  0.02591339  0.05642732 -0.02386819 -0.01855737 -0.00894846\n",
            "  0.0279725  -0.0223177   0.00625715  0.00103315  0.03237717  0.01443356\n",
            "  0.04582856 -0.05206927  0.05511921 -0.01619099  0.00463445 -0.01988771]\n",
            "Word: that, Embedding: [ 6.36120215e-02  1.26944808e-02 -1.97207718e-03  3.73032019e-02\n",
            " -6.66080881e-03 -2.86659319e-02 -5.00305295e-02 -4.76344973e-02\n",
            " -2.13449616e-02  1.95329301e-02  3.87576828e-03 -2.41142176e-02\n",
            "  7.98450958e-04  5.16304281e-03  3.30063738e-02  3.82694125e-04\n",
            " -4.87484522e-02 -5.47362790e-02  1.18797924e-02  1.17059359e-02\n",
            "  1.94398570e-03  6.77993596e-02 -7.48905987e-02 -5.80877103e-02\n",
            " -1.54076945e-02  2.47166473e-02 -3.54545079e-02  2.12828573e-02\n",
            " -1.03964005e-02 -2.77623851e-02 -4.63104341e-03 -1.14970142e-02\n",
            "  3.56132239e-02  4.11939807e-02  2.40863729e-02 -5.38874976e-02\n",
            " -2.77538709e-02 -4.95651886e-02  2.75281463e-02  3.33157368e-02\n",
            " -2.99513489e-02  3.54353637e-02  1.17722098e-02 -4.14182059e-02\n",
            " -6.05119532e-03 -1.11629562e-02 -3.42304669e-02  5.51012419e-02\n",
            "  7.36759827e-02  5.00459634e-02 -1.75008625e-02  4.52319533e-02\n",
            "  7.10190565e-04  1.30960802e-02  3.19431238e-02 -3.38867940e-02\n",
            " -2.04043444e-02 -3.65839563e-02  5.89239877e-03 -1.45101538e-02\n",
            "  3.71758491e-02  4.83187735e-02 -2.55251192e-02  1.89540628e-02\n",
            "  3.06081213e-02 -3.08965128e-02 -1.26690920e-02  3.68676819e-02\n",
            "  3.75983305e-02 -2.73351464e-02  3.67745496e-02 -9.13318188e-04\n",
            " -3.70114483e-02  7.34116882e-03  4.17658174e-03  4.45262641e-02\n",
            " -1.33578954e-02  3.89921181e-02 -4.55919541e-02  2.01260410e-02\n",
            " -4.68338132e-02 -6.62943870e-02  7.72343995e-03  5.50850714e-03\n",
            " -2.76594441e-02 -4.98412624e-02 -5.93992546e-02  3.65618942e-03\n",
            "  4.29127663e-02 -1.65222883e-02 -1.38207050e-02  1.74114145e-02\n",
            "  4.64000292e-02 -1.65837526e-03  3.04655619e-02 -5.67498654e-02\n",
            "  7.92775489e-03  1.68143958e-02 -3.83101590e-03  3.70862195e-03\n",
            " -2.26747300e-02 -3.34938914e-02  7.30814086e-03  2.34387591e-02\n",
            "  2.73765568e-02 -3.60060334e-02 -7.10978566e-06 -2.42246687e-02\n",
            "  4.91033234e-02  3.99120525e-02 -2.18077004e-02  2.57036202e-02\n",
            "  4.85404767e-03 -4.70063649e-03 -5.24430424e-02 -5.72190508e-02\n",
            "  1.67215765e-02  6.85542300e-02  2.64686868e-02 -2.58434769e-02\n",
            "  8.00466724e-03  3.11242342e-02  4.17904854e-02 -2.84278784e-02\n",
            " -2.42152177e-02 -4.49781120e-02 -4.35127281e-02  2.12320425e-02\n",
            " -5.08523174e-02 -1.79565381e-02  3.43824774e-02 -2.77110725e-03\n",
            "  4.56765294e-03 -3.96244675e-02  4.75158403e-03  6.20840350e-03\n",
            " -2.36356296e-02  3.34737748e-02  4.11720388e-02 -1.02938171e-02\n",
            " -4.74625900e-02 -9.31574125e-03  1.06674014e-02  3.26341018e-02\n",
            "  1.29585415e-02  3.39961834e-02 -3.30968276e-02  1.91934425e-02\n",
            "  9.38962493e-03  4.54675853e-02  1.91469099e-02  5.03778681e-02\n",
            "  1.87094614e-04  1.94541737e-02  3.52862217e-02 -2.45314222e-02\n",
            " -3.05511020e-02  1.63847599e-02  3.72448638e-02 -2.87431311e-02\n",
            " -8.31763521e-02 -6.20380007e-02  6.46955520e-02 -3.45099904e-02\n",
            "  3.92331704e-02  2.01892722e-02 -5.80205880e-02 -5.04186377e-02\n",
            " -5.50861331e-03 -3.80565561e-02 -2.71754097e-02  1.68529954e-02\n",
            "  3.97619382e-02  6.73124800e-04  8.81805085e-03  2.68652178e-02\n",
            " -2.44151484e-02 -3.15589011e-02  4.12944071e-02 -3.15646566e-02\n",
            "  3.60133685e-02 -6.13644272e-02  3.50781046e-02 -1.95530825e-03\n",
            " -1.54708521e-02  4.09334376e-02  5.84654361e-02  4.57852334e-02\n",
            " -4.34843935e-02  2.08490025e-02  1.51152126e-02 -2.05491334e-02\n",
            " -5.42458408e-02  2.69407015e-02  1.53086847e-03  4.79719974e-02\n",
            " -2.42758393e-02 -1.29094552e-02 -3.17259096e-02 -3.46189402e-02\n",
            " -2.17012893e-02 -1.22558987e-02  1.70869790e-02 -3.99295166e-02\n",
            "  2.29649767e-02 -7.53312744e-03  1.62564479e-02  1.74986776e-02\n",
            " -3.35056819e-02  1.23959081e-02  1.45980222e-02 -3.74463350e-02\n",
            "  8.83006770e-03 -7.68489612e-04  1.16497651e-02 -7.55184609e-03\n",
            "  2.68309917e-02 -1.38792663e-03  3.41790263e-03  5.41235926e-03\n",
            " -4.83831353e-02 -2.61161588e-02  1.39932502e-02  4.04703394e-02\n",
            " -6.34268224e-02  3.27011175e-03  2.33994387e-02  3.67681384e-02\n",
            " -4.75240052e-02 -2.69392561e-02  6.26977254e-03  5.81629621e-03\n",
            " -3.75607982e-02 -3.40429693e-02  4.44595292e-02  4.20406349e-02\n",
            " -5.76664088e-03 -4.31611054e-02 -1.93924792e-02 -9.56244487e-03\n",
            "  3.61430906e-02  3.87268215e-02 -5.55112399e-02  1.51885487e-02\n",
            " -1.07582062e-02 -1.71067771e-02  1.08046401e-02 -5.17475381e-02\n",
            " -1.51908156e-02  6.36504591e-02 -1.12246098e-02  9.92561691e-04\n",
            " -3.06779593e-02 -1.49725489e-02 -5.47275366e-03 -1.83186736e-02\n",
            "  5.72859682e-03  3.56879942e-02 -3.32825705e-02 -1.92159005e-02\n",
            "  1.84926819e-02 -3.82147171e-02 -3.31558548e-02 -6.61594197e-02\n",
            "  2.57971454e-02  4.08578776e-02 -1.64707247e-02 -6.62774146e-02\n",
            " -3.16686407e-02 -2.15267055e-02 -4.51552942e-02  9.99429077e-03\n",
            "  2.89938152e-02  2.01140475e-02 -1.68565474e-03  2.07913257e-02\n",
            " -3.14247869e-02 -1.05874594e-02  1.11834267e-02 -4.43447148e-03\n",
            "  3.35601941e-02 -1.41872307e-02  9.28561985e-02  2.20954455e-02\n",
            " -6.97710142e-02  2.12861579e-02 -1.70737635e-02  3.09048854e-02\n",
            "  1.26720322e-02 -4.89383675e-02 -7.96014164e-03  1.19189154e-02\n",
            "  4.01726626e-02  3.02067958e-02 -2.16315147e-02 -1.97611954e-02\n",
            " -2.23808065e-02  2.61526853e-02 -5.05880453e-02 -1.94418505e-02]\n",
            "Word: was, Embedding: [-6.68539703e-02 -1.90528985e-02  1.73759796e-02 -9.24443547e-03\n",
            "  1.15253091e-01  3.03802229e-02  5.87059595e-02  1.73973814e-02\n",
            " -1.92054585e-02  4.10096068e-03 -2.72208117e-02  4.17695455e-02\n",
            "  1.59182365e-03 -2.78430879e-02 -2.48565571e-03  4.68735471e-02\n",
            "  1.23629104e-02  1.81246474e-02  3.24104400e-03 -3.31832170e-02\n",
            "  6.90579563e-02 -1.03091178e-02 -1.96804591e-02 -1.52312685e-03\n",
            "  6.42302400e-03 -5.43178543e-02 -3.56454477e-02 -1.21462103e-02\n",
            " -2.83027105e-02 -1.75790873e-03  2.06640996e-02 -2.37083551e-03\n",
            " -3.53653319e-02 -5.01707941e-02  5.35694882e-02  3.93597782e-02\n",
            " -6.03600182e-02  7.33832419e-02 -1.67146754e-02  1.97751708e-02\n",
            " -1.47876944e-02 -4.12105583e-02 -7.77325183e-02 -4.36516292e-02\n",
            "  2.28980221e-02 -1.16591984e-02 -3.23377177e-02  2.90804338e-02\n",
            "  5.70964180e-02  1.28802732e-01 -5.07326461e-02 -4.78104390e-02\n",
            "  3.32781896e-02  2.29085982e-02 -2.67889109e-02 -7.02742487e-02\n",
            " -1.79300066e-02 -5.29089719e-02  3.27972434e-02 -2.25519091e-02\n",
            " -2.92613897e-02 -1.11217191e-02  2.41768453e-02 -3.85296531e-02\n",
            " -1.54227717e-02  1.06242858e-02  5.98471100e-03 -2.87790177e-03\n",
            " -3.34026441e-02  6.59436211e-02  9.76576749e-03  4.36159372e-02\n",
            " -1.00827836e-01 -6.79243281e-02 -1.38709638e-02 -4.10302021e-02\n",
            " -1.28836231e-02  1.61047778e-04 -2.44747270e-02 -5.67016415e-02\n",
            "  8.45675450e-03  7.54510844e-03  3.86927947e-02  2.14232337e-02\n",
            "  3.13879102e-02 -4.13611811e-03  2.09930819e-03 -2.38718484e-02\n",
            "  6.96503744e-02  5.45458030e-03 -4.00260724e-02  8.39607641e-02\n",
            " -3.06269689e-03 -2.95768622e-02 -5.36956172e-03  4.93720658e-02\n",
            "  6.47898614e-02 -8.56042560e-03 -2.27491707e-02 -7.82454479e-03\n",
            " -1.93971209e-02  2.84853410e-02  2.71352883e-02 -3.65423523e-02\n",
            " -8.57400429e-03  3.72908101e-03  1.39460033e-02  1.87452529e-02\n",
            "  1.30178649e-02  1.45131089e-02  5.26091531e-02 -3.78981642e-02\n",
            "  9.53290332e-03  2.00935304e-02 -6.05780110e-02  1.71630960e-02\n",
            "  2.44528335e-03  6.73748776e-02  3.49501856e-02  3.00059337e-02\n",
            "  5.11891954e-02 -5.67669645e-02  1.01254368e-02  8.66855308e-03\n",
            " -2.79448796e-02 -7.60043878e-03 -1.45067498e-02  4.93642651e-02\n",
            "  5.08078188e-02 -5.26138768e-02 -2.64442489e-02  5.49956858e-02\n",
            " -4.98799956e-04 -4.11022380e-02 -2.49587037e-02  1.14523433e-02\n",
            " -4.70545366e-02  3.84506062e-02  4.72552925e-02  1.63263306e-02\n",
            " -5.22930138e-02  3.56690697e-02  1.27958385e-02 -4.49586697e-02\n",
            "  4.24188450e-02 -5.14596840e-03 -3.90171930e-02  3.08868047e-02\n",
            " -2.20748540e-02  4.90983836e-02 -2.56662499e-02 -5.09625627e-03\n",
            "  8.28005224e-02 -5.87867387e-02 -1.93847362e-02  2.20765639e-02\n",
            " -1.17225600e-02  2.58818851e-03  3.54938544e-02 -9.46291909e-03\n",
            " -3.62498052e-02  3.94438580e-02 -1.56242140e-02 -1.70518048e-02\n",
            "  4.15409729e-03 -4.61797267e-02 -2.04166267e-02 -4.76761628e-03\n",
            " -8.46061762e-03  2.73121279e-02  1.77693961e-03  7.83905759e-02\n",
            " -1.67733748e-02 -3.15790847e-02 -2.03760117e-02  7.46135181e-03\n",
            "  2.83496138e-02  2.76144817e-02 -9.72450431e-03 -3.62159945e-02\n",
            " -1.14143258e-02 -2.82406695e-02  6.36845306e-02 -5.97227514e-02\n",
            " -3.55986319e-02 -4.86779250e-02 -3.60957696e-03  2.77136657e-02\n",
            " -3.67912799e-02 -5.65053485e-02  3.29958834e-02  1.14470264e-02\n",
            " -6.20101346e-03  7.81351924e-02 -3.45009542e-03 -1.79782975e-03\n",
            "  2.48369705e-02 -4.77358326e-02  6.31939946e-03 -2.66410857e-02\n",
            " -5.54582430e-03 -2.86645796e-02 -1.88829508e-02  1.47868162e-02\n",
            " -1.90182198e-02 -2.26817802e-02  1.37833580e-02  4.24987525e-02\n",
            "  1.81997083e-02  7.08437860e-02 -4.92040217e-02  7.80638773e-03\n",
            " -1.65369045e-02 -2.13273745e-02 -5.36256544e-02  1.10673402e-02\n",
            " -2.57081278e-02  3.97523567e-02  8.82377625e-02  4.79921922e-02\n",
            "  6.95155859e-02  5.69258183e-02 -2.40841247e-02 -5.30859903e-02\n",
            " -8.70795734e-03 -1.96576472e-02 -1.14464313e-02 -3.87088992e-02\n",
            " -1.34891961e-02 -4.09092940e-02 -5.63203869e-03 -7.89866969e-03\n",
            "  2.82801837e-02  4.14477810e-02 -5.56653589e-02  6.33431505e-03\n",
            "  7.76552781e-02 -8.01363401e-03  4.36591581e-02 -3.51949893e-02\n",
            " -2.63543166e-02  2.29127817e-02 -4.73893695e-02 -1.79066695e-02\n",
            "  3.35972197e-02 -5.53384516e-03 -3.28527354e-02  6.26622811e-02\n",
            " -1.68195590e-02  1.25499830e-01  9.46426857e-03  4.92390841e-02\n",
            " -5.08924164e-02  8.05887952e-03 -3.84367295e-02  3.57224308e-02\n",
            "  5.50650246e-02  4.18842398e-02 -2.08264943e-02  2.24752910e-02\n",
            " -9.40211117e-03 -2.09098700e-02 -3.29501531e-03 -2.34902045e-03\n",
            " -2.27701850e-02 -3.88703160e-02  4.05440144e-02 -2.75360812e-02\n",
            "  4.54147831e-02 -3.16689201e-02  3.79732773e-02  4.14816253e-02\n",
            " -5.41234761e-02  5.40057197e-03 -1.16517292e-02  4.35542024e-05\n",
            " -6.39151111e-02  4.62237969e-02  1.22751361e-02 -4.60348018e-02\n",
            "  3.42113525e-02  6.30914047e-02  1.85847897e-02 -1.25165395e-02\n",
            " -2.73189857e-03 -1.64186619e-02  1.73478238e-02  3.69751863e-02\n",
            " -4.21874709e-02 -3.63771096e-02 -2.70475652e-02  4.36497219e-02\n",
            "  3.84741649e-02  4.19565439e-02  1.01643587e-02 -4.30111401e-02\n",
            "  4.99367639e-02 -1.40156923e-02  8.36284310e-02 -8.93406123e-02]\n",
            "Word: as, Embedding: [-0.00881906 -0.04287719 -0.0236694  -0.03507484  0.06075155  0.00386188\n",
            "  0.03198792 -0.00700106 -0.02956266 -0.00700081 -0.04023191  0.02605887\n",
            " -0.00262216 -0.05057663 -0.03113217  0.00889013  0.06022727 -0.01387488\n",
            "  0.03732946 -0.0569262  -0.03269346  0.0496413   0.03865723  0.04869691\n",
            " -0.05173044 -0.01435066  0.02602821  0.04588638 -0.00528751  0.00764241\n",
            "  0.02517553 -0.03689156 -0.03445142 -0.03816032 -0.04025992 -0.01177851\n",
            "  0.00898635  0.04487368  0.01871589  0.01288978 -0.02151495  0.03285421\n",
            " -0.02590181  0.03818429 -0.01360105 -0.02435152  0.02236572 -0.01042002\n",
            " -0.00503193 -0.0066896   0.0273231   0.00461894  0.0017932  -0.01779395\n",
            "  0.03887519  0.04690307  0.00979573  0.09515356  0.00146973 -0.03782324\n",
            " -0.01608986 -0.07016981 -0.01068543  0.00882078  0.03391542 -0.05228743\n",
            " -0.00663406 -0.03532148  0.03748523 -0.02197417 -0.02409041  0.03092452\n",
            " -0.02567749 -0.00668721 -0.03378567  0.02427655  0.00075303  0.02619048\n",
            " -0.02358653 -0.02166549 -0.03197755  0.00709594  0.02142175  0.00538324\n",
            " -0.02660805 -0.00570645  0.04272574 -0.04095811  0.02437367 -0.07786172\n",
            "  0.05421903 -0.05331138 -0.01922588  0.01317699  0.03214628  0.04014934\n",
            " -0.04112248 -0.02129277  0.04566206 -0.01556244 -0.032055   -0.04798326\n",
            "  0.03588961 -0.06317437 -0.05132955 -0.00733539 -0.03994174 -0.00295669\n",
            " -0.02989123  0.01583422  0.04029592 -0.04100699 -0.01171761  0.04962152\n",
            " -0.02803687  0.07370868 -0.03033981 -0.00930404  0.00132861 -0.02102726\n",
            "  0.02469852  0.03233678  0.03370887 -0.04555628  0.04625264  0.04795435\n",
            "  0.04873368  0.03667788 -0.04004862 -0.01014467  0.00546022 -0.02485509\n",
            "  0.02266178  0.06663412 -0.02438397  0.02229339 -0.02785033  0.04312545\n",
            "  0.0461092  -0.01356073  0.02502731  0.00599249 -0.02754732 -0.01508002\n",
            " -0.01020491 -0.00336658  0.04533013 -0.01534094  0.01835497 -0.01843485\n",
            "  0.02165155 -0.0160551   0.00650882  0.00721316  0.02344538 -0.0044649\n",
            " -0.05385852 -0.02493632 -0.03833364  0.03535525  0.02393292 -0.03643491\n",
            "  0.03534024  0.01913991  0.04823375 -0.05137346 -0.04430291  0.00018784\n",
            " -0.01785503  0.02687334  0.00921085  0.03688064  0.02052405  0.0541954\n",
            " -0.02734005  0.00533559  0.02486763 -0.045954   -0.03637928 -0.01911394\n",
            "  0.00214424  0.01611218  0.03616099 -0.02084708  0.01031116 -0.00316712\n",
            "  0.01669264 -0.00812664 -0.03584414 -0.01495212  0.0387243  -0.04106557\n",
            "  0.02746997 -0.10011125 -0.01165789  0.04036797 -0.02272293 -0.01747791\n",
            " -0.01309094 -0.01766929  0.03895972  0.00072653 -0.00014693 -0.03811369\n",
            "  0.01030107  0.02126377 -0.03752479  0.03875113 -0.01602082 -0.10423203\n",
            " -0.01705895 -0.02742495  0.00472042  0.03421597 -0.04620622 -0.03625265\n",
            " -0.02764492  0.03936597  0.01967033 -0.01579996 -0.00604127  0.04040689\n",
            " -0.03835487  0.02493464 -0.00888346 -0.02807785  0.02226325 -0.02707686\n",
            " -0.04803411  0.03283292 -0.01995316 -0.0024731   0.00821386 -0.0143387\n",
            " -0.01069328  0.00471151 -0.05173416  0.00093056 -0.01455555  0.02773171\n",
            " -0.0499685  -0.01960483 -0.02068347  0.05161652  0.0331823   0.03679597\n",
            " -0.03120896 -0.02631072  0.05915108 -0.00803134 -0.03589661 -0.03717137\n",
            "  0.04741564 -0.05143625  0.05283844  0.00122153 -0.0259609   0.02208405\n",
            "  0.03938735 -0.03885316 -0.00177721  0.01573214 -0.0023302   0.01831486\n",
            "  0.02886606  0.01700471 -0.00605135  0.02905913  0.05011739 -0.03431861\n",
            " -0.02153626  0.01840299 -0.04394761 -0.02601348 -0.02246167 -0.04969326\n",
            "  0.00879371 -0.01222927 -0.02582692  0.02215976  0.02602832  0.02902698\n",
            " -0.045584   -0.0003815   0.0311235   0.01470697  0.03601877  0.01300666\n",
            "  0.04421808  0.03959873 -0.00590761  0.05065294  0.01624852 -0.00061934\n",
            " -0.00258428 -0.02863561 -0.01185007 -0.038877   -0.02224161  0.01814702]\n",
            "Word: with, Embedding: [-0.06769328  0.01176252 -0.02133268 -0.02886486 -0.0219854  -0.01855854\n",
            "  0.00740641 -0.01436113  0.00353934 -0.01648093  0.02784881 -0.0213864\n",
            "  0.00379053  0.02920874 -0.02404548 -0.00453804  0.00996407  0.01504869\n",
            "  0.04277267 -0.03073925 -0.0336868   0.03477017 -0.00100086 -0.01674536\n",
            "  0.0353041   0.01880362 -0.02651856 -0.04586279 -0.05986734  0.01263801\n",
            " -0.04864369 -0.00753462 -0.03657431  0.0039446   0.00274878 -0.00228128\n",
            "  0.00500864 -0.01425603  0.03495573 -0.05281354  0.0151508   0.01581081\n",
            "  0.00639372 -0.03583658 -0.03596878 -0.02304968 -0.03067102  0.034228\n",
            " -0.00249477  0.03313168 -0.00769041  0.04286968 -0.00795742 -0.02432026\n",
            " -0.00441894  0.01276041  0.04200771 -0.05295923 -0.03631778  0.00784304\n",
            " -0.02770127 -0.05606876  0.02728172 -0.03539023  0.0145481   0.03645967\n",
            "  0.03738587  0.00983389 -0.03403414  0.04385958  0.03746802 -0.00297341\n",
            "  0.08823912 -0.0186216  -0.00569653  0.03995099  0.02945345  0.03060934\n",
            "  0.00444374  0.0019242  -0.02409102  0.00755784 -0.02106529 -0.05223094\n",
            " -0.03961294  0.05188791  0.03223109  0.00721513 -0.0248285   0.00096422\n",
            " -0.01423705 -0.0080758   0.03464504  0.0364834   0.01342805  0.01224268\n",
            "  0.06841936  0.02381762  0.00302362  0.03872874  0.0218187  -0.03156857\n",
            " -0.02773333 -0.04158989 -0.0116198   0.06675921  0.03772389 -0.01057124\n",
            " -0.01378501  0.03728518 -0.02298985 -0.02895833  0.0442402   0.03691423\n",
            " -0.01894271  0.03727241 -0.00156131 -0.04708899  0.02238378  0.01724828\n",
            " -0.03361522  0.06151174  0.02564625  0.05104592 -0.00472205 -0.04997091\n",
            "  0.06684405 -0.02845288 -0.03221698 -0.02149055  0.00839343  0.02483225\n",
            " -0.02793184  0.03666678  0.00996239  0.0438936   0.0269253   0.02524117\n",
            "  0.03717746 -0.00286435  0.05721487  0.03605513  0.01814065  0.08173268\n",
            "  0.03264607  0.04369706 -0.00088691 -0.00654427 -0.01684574 -0.01803212\n",
            " -0.05728378 -0.00259816 -0.03133468 -0.04918226  0.02782836 -0.02437173\n",
            " -0.03864508 -0.01505094 -0.02347566  0.03208237  0.04488375  0.03517703\n",
            " -0.03321771 -0.01426979  0.03048665 -0.01945612  0.0057451   0.00786497\n",
            " -0.03187005 -0.00567031 -0.01549354 -0.011682   -0.01119889  0.02829704\n",
            "  0.02005246 -0.00892689 -0.0519649  -0.0269844  -0.04402268  0.01411422\n",
            "  0.00698465  0.0497077  -0.03186482  0.04778878 -0.03473784 -0.03719278\n",
            "  0.03518512 -0.00789066 -0.00030604  0.04965317 -0.04624153  0.02265163\n",
            " -0.0412261  -0.04364746  0.03788769 -0.03964948  0.04915686  0.03299537\n",
            "  0.03380486 -0.03233377 -0.0313301  -0.03649881  0.02921514  0.05846217\n",
            " -0.03090054  0.00789794 -0.00235621 -0.03250508 -0.01452093  0.01782315\n",
            "  0.0395219  -0.01069016 -0.01121871 -0.02200482  0.05138551  0.01667137\n",
            " -0.01941765  0.01643148  0.04589526 -0.00410507 -0.0667474   0.03923875\n",
            " -0.00315703  0.03337728 -0.03386426  0.03255897  0.03514994 -0.0275457\n",
            "  0.04557993  0.04555773 -0.00329841 -0.01217205 -0.02144198 -0.00079153\n",
            " -0.04742122  0.00948132 -0.01234241 -0.00822904 -0.05630665  0.02952994\n",
            "  0.03245384 -0.03165314  0.0033602   0.02787059 -0.06880283  0.01484108\n",
            " -0.02027068  0.00909451 -0.0462633  -0.00305102 -0.03649487 -0.03736975\n",
            " -0.01004904  0.02714114 -0.0292304  -0.01171312 -0.04899307 -0.02487162\n",
            " -0.01516242 -0.03721841 -0.00022089  0.034908    0.00682814  0.00947636\n",
            " -0.04335474  0.04167686 -0.0083593   0.04127343  0.01122071 -0.01928636\n",
            "  0.0231993  -0.00747105 -0.03401126  0.04240131 -0.02586017  0.04077853\n",
            "  0.01888611 -0.00537062  0.00289726 -0.03264622 -0.00393906  0.04294796\n",
            "  0.05408668  0.01371838 -0.02749622  0.0417606   0.0015711  -0.02249732\n",
            "  0.04685951 -0.01262897 -0.00865234 -0.04072592 -0.05046776 -0.04517002\n",
            "  0.02870833  0.03501481  0.01509368  0.02226391  0.00207556 -0.01861942]\n"
          ]
        }
      ]
    },
    {
      "cell_type": "code",
      "source": [
        "word_embeddings['good']"
      ],
      "metadata": {
        "colab": {
          "base_uri": "https://localhost:8080/"
        },
        "id": "nekxZic6yXLZ",
        "outputId": "74f59482-5a1d-496d-a896-79d430f80021"
      },
      "execution_count": 45,
      "outputs": [
        {
          "output_type": "execute_result",
          "data": {
            "text/plain": [
              "array([ 0.06350393,  0.00067502,  0.02192595,  0.01426579,  0.03351908,\n",
              "        0.05234223,  0.00104904,  0.02680966,  0.03030318, -0.04553887,\n",
              "        0.00551062,  0.02396228,  0.0305665 , -0.01814475,  0.00964894,\n",
              "        0.03333849, -0.00019453,  0.00850854, -0.00123757,  0.01457866,\n",
              "       -0.04432176, -0.01656258,  0.03194575, -0.00561726, -0.05521175,\n",
              "        0.02958415, -0.00816367, -0.05078987, -0.00079042,  0.06101362,\n",
              "       -0.03150417,  0.02762431,  0.01701283,  0.06158182, -0.05484222,\n",
              "       -0.06425846, -0.055809  ,  0.01942469, -0.02189567,  0.02848111,\n",
              "        0.00120583, -0.00581923, -0.00374039, -0.03899815,  0.03400095,\n",
              "        0.04431776, -0.04683483,  0.0411395 , -0.05120998,  0.02064977,\n",
              "       -0.00542242,  0.01063838, -0.04299626, -0.07393159,  0.00366555,\n",
              "       -0.03824726,  0.02371001,  0.01854894, -0.02519264,  0.01534188,\n",
              "        0.06040534, -0.08149768,  0.05007304, -0.05455255, -0.03003257,\n",
              "       -0.06575117,  0.01197545,  0.02827532,  0.01569667, -0.06944048,\n",
              "       -0.07233515, -0.00540851,  0.05170769, -0.01094562, -0.04297177,\n",
              "       -0.00793283, -0.02697046,  0.05975359, -0.02313744, -0.05747172,\n",
              "       -0.05206123, -0.02950902,  0.00526083, -0.01291343, -0.04927058,\n",
              "       -0.01586527,  0.02365795, -0.04502152,  0.01354377, -0.07331146,\n",
              "       -0.04829219, -0.0194793 , -0.00383336,  0.00736496,  0.00268669,\n",
              "       -0.03988745,  0.00028411, -0.03015895,  0.07027324, -0.04054901,\n",
              "       -0.00393335, -0.02985266, -0.01978849, -0.01989558, -0.04921792,\n",
              "       -0.04256641,  0.05651072, -0.07249456, -0.05989253,  0.03991145,\n",
              "        0.02003444,  0.01674389,  0.00231414,  0.05848388, -0.08591361,\n",
              "       -0.04357386,  0.01009446, -0.04428369,  0.04512645, -0.07509629,\n",
              "       -0.05097429,  0.05388753, -0.02271491, -0.02713457,  0.02052418,\n",
              "       -0.06340005,  0.02966028, -0.01976414,  0.00870762,  0.05602695,\n",
              "        0.03356325, -0.00089218,  0.02410829, -0.03041751, -0.06543694,\n",
              "       -0.03869039,  0.07635228, -0.04195027, -0.05482413,  0.01697039,\n",
              "        0.00570998, -0.06458167,  0.00230613,  0.02581235, -0.05168305,\n",
              "       -0.05251293,  0.01450044, -0.05703335, -0.00689739,  0.04736083,\n",
              "        0.03223471,  0.04603833, -0.03254379,  0.01292613, -0.02721448,\n",
              "       -0.03889349, -0.05637652,  0.00656182, -0.04408314,  0.00643668,\n",
              "        0.02527521, -0.03835981, -0.01769227, -0.00933139, -0.06012097,\n",
              "       -0.01769685,  0.01696501, -0.04037457,  0.00954832, -0.0784178 ,\n",
              "        0.00858581,  0.03332349, -0.02330903,  0.02386544, -0.00891488,\n",
              "        0.04724626,  0.01144708, -0.03827179,  0.00196574, -0.00686556,\n",
              "       -0.0680849 , -0.05294538,  0.00167757,  0.05240433, -0.02040494,\n",
              "        0.04168767,  0.05171328, -0.03713324,  0.03022172, -0.06901731,\n",
              "       -0.0167403 ,  0.01543687, -0.00833512, -0.05138294,  0.02591268,\n",
              "        0.04816375,  0.00994731,  0.04148656,  0.02095882,  0.00473749,\n",
              "       -0.00208198, -0.01675439,  0.01039168, -0.00382675, -0.03769045,\n",
              "        0.03281907, -0.03121597, -0.04953782,  0.00591225, -0.00772361,\n",
              "        0.05267834, -0.03847691,  0.02280452, -0.00407105,  0.010298  ,\n",
              "       -0.00874273,  0.04846827,  0.05980809, -0.02074765, -0.05552722,\n",
              "       -0.01187755,  0.02438712, -0.01150875,  0.03298454, -0.03984598,\n",
              "        0.00883812,  0.01960954,  0.00916291, -0.00267042,  0.0499404 ,\n",
              "       -0.03798853, -0.00161282,  0.00701645,  0.02214583, -0.03415826,\n",
              "        0.02501711, -0.01627906, -0.0217764 , -0.05463282, -0.01536888,\n",
              "        0.02495112,  0.05197228,  0.0091368 , -0.06529384,  0.00087997,\n",
              "       -0.01072206, -0.0366643 , -0.03510276, -0.00047426, -0.00341197,\n",
              "        0.02596647, -0.02032807,  0.05232277,  0.01365279,  0.00464485,\n",
              "        0.03216398,  0.06503755, -0.01504405, -0.01663688,  0.0009521 ,\n",
              "        0.05346694,  0.02212675,  0.00602327,  0.03506455, -0.0495165 ,\n",
              "       -0.0224616 , -0.03290594, -0.00233993,  0.06847616, -0.05353675,\n",
              "       -0.02356664, -0.03940493, -0.0096357 , -0.00646719, -0.0371558 ,\n",
              "        0.00534222,  0.05281159, -0.02171872,  0.03953985,  0.07118016,\n",
              "       -0.01224345,  0.00355081,  0.02840295, -0.01288361,  0.05889264,\n",
              "        0.05546719, -0.03310687,  0.03813682,  0.06500243,  0.00541265,\n",
              "        0.02317101,  0.04543699, -0.01268772, -0.01966352, -0.01386647,\n",
              "       -0.02481562, -0.03938433, -0.00078119,  0.04844886, -0.00938568],\n",
              "      dtype=float32)"
            ]
          },
          "metadata": {},
          "execution_count": 45
        }
      ]
    },
    {
      "cell_type": "code",
      "source": [
        "model = tf.keras.models.Sequential()\n",
        "model.add(tf.keras.layers.Embedding(input_dim = VOCAB_SIZE,output_dim = EMBEDDING_DIM,input_length = MAX_SEQUENCE_LENGTH))\n",
        "model.add(tf.keras.layers.Bidirectional(tf.keras.layers.LSTM(256,return_sequences=True)))\n",
        "model.add(tf.keras.layers.Bidirectional(tf.keras.layers.LSTM(128,return_sequences=False)))\n",
        "model.add(tf.keras.layers.Dense(256,activation = 'relu'))\n",
        "model.add(tf.keras.layers.Dense(1,activation='sigmoid'))\n",
        "\n",
        "model.compile(loss = 'binary_crossentropy',optimizer = 'adam', metrics = ['accuracy'])"
      ],
      "metadata": {
        "id": "5TQiWtGSyeQQ"
      },
      "execution_count": 47,
      "outputs": []
    },
    {
      "cell_type": "code",
      "source": [
        "model.fit(X_train,y_train,epochs =2,batch_size = 100,shuffle = True,validation_data=(X_test,y_test))"
      ],
      "metadata": {
        "colab": {
          "base_uri": "https://localhost:8080/"
        },
        "id": "cK3GwpNTy9RM",
        "outputId": "94481452-fb94-45e6-f5d4-5a6334d7efff"
      },
      "execution_count": 48,
      "outputs": [
        {
          "output_type": "stream",
          "name": "stdout",
          "text": [
            "Epoch 1/2\n",
            "\u001b[1m350/350\u001b[0m \u001b[32m━━━━━━━━━━━━━━━━━━━━\u001b[0m\u001b[37m\u001b[0m \u001b[1m232s\u001b[0m 647ms/step - accuracy: 0.7457 - loss: 0.4938 - val_accuracy: 0.8273 - val_loss: 0.4309\n",
            "Epoch 2/2\n",
            "\u001b[1m350/350\u001b[0m \u001b[32m━━━━━━━━━━━━━━━━━━━━\u001b[0m\u001b[37m\u001b[0m \u001b[1m226s\u001b[0m 647ms/step - accuracy: 0.9060 - loss: 0.2487 - val_accuracy: 0.7145 - val_loss: 0.5689\n"
          ]
        },
        {
          "output_type": "execute_result",
          "data": {
            "text/plain": [
              "<keras.src.callbacks.history.History at 0x7af3ce06e2f0>"
            ]
          },
          "metadata": {},
          "execution_count": 48
        }
      ]
    },
    {
      "cell_type": "code",
      "source": [],
      "metadata": {
        "id": "JXh7I7G9zBGd"
      },
      "execution_count": null,
      "outputs": []
    }
  ]
}