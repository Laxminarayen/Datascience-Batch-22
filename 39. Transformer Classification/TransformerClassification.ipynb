{
  "nbformat": 4,
  "nbformat_minor": 0,
  "metadata": {
    "colab": {
      "provenance": []
    },
    "kernelspec": {
      "name": "python3",
      "display_name": "Python 3"
    },
    "language_info": {
      "name": "python"
    }
  },
  "cells": [
    {
      "cell_type": "code",
      "execution_count": 1,
      "metadata": {
        "id": "tO6izz5djqD8"
      },
      "outputs": [],
      "source": [
        "import keras\n",
        "from keras import ops\n",
        "from keras import layers"
      ]
    },
    {
      "cell_type": "code",
      "source": [
        "class TransformerBlock(layers.Layer):\n",
        "  def __init__(self, embed_dim, num_heads, ff_dim, rate = 0.1):\n",
        "    super().__init__()\n",
        "    self.att = layers.MultiHeadAttention(num_heads = num_heads, key_dim = embed_dim)\n",
        "    self.ffn = keras.Sequential([layers.Dense(ff_dim,activation = 'relu'), layers.Dense(embed_dim)])\n",
        "    self.layernorm1 = layers.LayerNormalization(epsilon=1e-6)\n",
        "    self.layernorm2 = layers.LayerNormalization(epsilon=1e-6)\n",
        "    self.dropout1 = layers.Dropout(rate)\n",
        "    self.dropout2 = layers.Dropout(rate)\n",
        "\n",
        "  def call(self,input):\n",
        "    attn_output = self.att(input,input)\n",
        "    attn_output = self.dropout1(attn_output)\n",
        "    out1 = self.layernorm1(input+attn_output)\n",
        "    ffn_output = self.ffn(out1)\n",
        "    ffn_output = self.dropout2(ffn_output)\n",
        "    return self.layernorm2(out1 + ffn_output)"
      ],
      "metadata": {
        "id": "B88Lau5bsgAe"
      },
      "execution_count": 19,
      "outputs": []
    },
    {
      "cell_type": "code",
      "source": [
        "class TokenAndPositionEmbedding(layers.Layer):\n",
        "  def __init__(self,maxlen,vocab_size, embed_dim):\n",
        "    super().__init__()\n",
        "    self.token_emb = layers.Embedding(input_dim = vocab_size, output_dim = embed_dim)\n",
        "    self.pos_emb = layers.Embedding(input_dim = maxlen, output_dim = embed_dim)\n",
        "  def call(self,x):\n",
        "    maxlen = ops.shape(x)[-1]\n",
        "    position = ops.arange(start = 0, stop = maxlen,step = 1)\n",
        "    position = self.pos_emb(position)\n",
        "    x = self.token_emb(x)\n",
        "    return x + position"
      ],
      "metadata": {
        "id": "IyKo0LNbvVyn"
      },
      "execution_count": 15,
      "outputs": []
    },
    {
      "cell_type": "code",
      "source": [
        "vocab_size = 30000\n",
        "maxlen = 200\n",
        "(x_train,y_train), (x_val,y_val) = keras.datasets.imdb.load_data(num_words = vocab_size)"
      ],
      "metadata": {
        "id": "glJAHDhIvTNF"
      },
      "execution_count": 11,
      "outputs": []
    },
    {
      "cell_type": "code",
      "source": [
        "y_train"
      ],
      "metadata": {
        "colab": {
          "base_uri": "https://localhost:8080/"
        },
        "id": "9RiVBMA_yImy",
        "outputId": "2f3475d5-b137-4ef6-cc6b-3d354011e489"
      },
      "execution_count": 22,
      "outputs": [
        {
          "output_type": "execute_result",
          "data": {
            "text/plain": [
              "array([1, 0, 0, ..., 0, 1, 0])"
            ]
          },
          "metadata": {},
          "execution_count": 22
        }
      ]
    },
    {
      "cell_type": "code",
      "source": [
        "x_train = keras.utils.pad_sequences(x_train, maxlen = maxlen)\n",
        "x_val = keras.utils.pad_sequences(x_val, maxlen = maxlen)"
      ],
      "metadata": {
        "id": "Agf9r7S2yIj8"
      },
      "execution_count": 13,
      "outputs": []
    },
    {
      "cell_type": "code",
      "source": [
        "embed_dim = 32\n",
        "num_heads = 2\n",
        "ff_dim = 32\n",
        "\n",
        "inputs = layers.Input(shape = (maxlen,))\n",
        "embedding_layer = TokenAndPositionEmbedding(maxlen, vocab_size, embed_dim)\n",
        "x = embedding_layer(inputs)\n",
        "transformer_block = TransformerBlock(embed_dim, num_heads, ff_dim)\n",
        "x = transformer_block(x)\n",
        "x = layers.GlobalAveragePooling1D()(x)\n",
        "x = layers.Dropout(0.1)(x)\n",
        "x = layers.Dense(20,activation = 'relu')(x)\n",
        "x = layers.Dropout(0.1)(x)\n",
        "outputs = layers.Dense(2,activation= 'softmax')(x)\n",
        "\n",
        "model = keras.Model(inputs = inputs, outputs = outputs)"
      ],
      "metadata": {
        "id": "y96oOJRvzEv_"
      },
      "execution_count": 21,
      "outputs": []
    },
    {
      "cell_type": "code",
      "source": [
        "model.compile(optimizer = 'adam',loss= 'sparse_categorical_crossentropy',metrics = ['accuracy'] )\n",
        "history = model.fit(x_train, y_train, batch_size = 32, epochs = 2, validation_data = (x_val, y_val))"
      ],
      "metadata": {
        "colab": {
          "base_uri": "https://localhost:8080/"
        },
        "id": "X_tUkf0V0RJt",
        "outputId": "30e41efd-efaa-4a59-9829-78abe63d2da1"
      },
      "execution_count": 23,
      "outputs": [
        {
          "output_type": "stream",
          "name": "stdout",
          "text": [
            "Epoch 1/2\n",
            "\u001b[1m782/782\u001b[0m \u001b[32m━━━━━━━━━━━━━━━━━━━━\u001b[0m\u001b[37m\u001b[0m \u001b[1m123s\u001b[0m 149ms/step - accuracy: 0.6707 - loss: 0.5491 - val_accuracy: 0.8812 - val_loss: 0.2816\n",
            "Epoch 2/2\n",
            "\u001b[1m782/782\u001b[0m \u001b[32m━━━━━━━━━━━━━━━━━━━━\u001b[0m\u001b[37m\u001b[0m \u001b[1m137s\u001b[0m 143ms/step - accuracy: 0.9318 - loss: 0.1814 - val_accuracy: 0.8552 - val_loss: 0.3785\n"
          ]
        }
      ]
    },
    {
      "cell_type": "code",
      "source": [],
      "metadata": {
        "id": "70lGjOur1R0-"
      },
      "execution_count": null,
      "outputs": []
    }
  ]
}