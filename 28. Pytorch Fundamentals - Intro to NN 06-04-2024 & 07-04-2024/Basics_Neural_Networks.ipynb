{
  "cells": [
    {
      "cell_type": "markdown",
      "metadata": {
        "id": "Ntyr5m8-DOlr"
      },
      "source": [
        "# Basics of MLP\n",
        "- Objective: create vanilla neural networks (i.e., Multilayer perceptrons) for simple regression/classification tasks with Keras"
      ]
    },
    {
      "cell_type": "markdown",
      "metadata": {
        "id": "5JEsMD0wDOlt"
      },
      "source": [
        "## MLP Structures\n",
        "- Each MLP model is consisted of one input layer, several hidden layers, and one output layer\n",
        "- Number of neurons in each layer is not limited\n",
        "<img src=\"http://cs231n.github.io/assets/nn1/neural_net.jpeg\" style=\"width: 300px\"/>\n",
        "<br>\n",
        "<center>**MLP with one hidden layer**</center>\n",
        "- Number of input neurons: 3\n",
        "- Number of hidden neurons: 4\n",
        "- Number of output neurons: 2\n"
      ]
    },
    {
      "cell_type": "markdown",
      "metadata": {
        "id": "lS2o_gxnDOlu"
      },
      "source": [
        "<img src=\"http://cs231n.github.io/assets/nn1/neural_net2.jpeg\" style=\"width: 500px\"/>\n",
        "<br>\n",
        "<center>**MLP with two hidden layers**</center>\n",
        "- Number of input neurons: 3\n",
        "- Number of hidden neurons: (4, 4)\n",
        "- Number of output neurons: 1\n"
      ]
    },
    {
      "cell_type": "markdown",
      "metadata": {
        "id": "3miFUZWRDOlu"
      },
      "source": [
        "## MLP for Regression tasks\n",
        "- When the target (**y**) is continuous (real)\n",
        "- For loss function and evaluation metric, mean squared error (MSE) is commonly used"
      ]
    },
    {
      "cell_type": "code",
      "execution_count": null,
      "metadata": {
        "colab": {
          "base_uri": "https://localhost:8080/"
        },
        "id": "KWHO2tIxDOlv",
        "outputId": "c282d82d-08f8-46a6-e7aa-f95e24271939"
      },
      "outputs": [
        {
          "name": "stdout",
          "output_type": "stream",
          "text": [
            "Downloading data from https://storage.googleapis.com/tensorflow/tf-keras-datasets/boston_housing.npz\n",
            "57344/57026 [==============================] - 0s 0us/step\n",
            "65536/57026 [==================================] - 0s 0us/step\n"
          ]
        }
      ],
      "source": [
        "from keras.datasets import boston_housing\n",
        "(x_train, y_train),(x_test,y_test) = boston_housing.load_data()"
      ]
    },
    {
      "cell_type": "code",
      "execution_count": null,
      "metadata": {
        "colab": {
          "base_uri": "https://localhost:8080/"
        },
        "id": "q_5E8_VcDOlw",
        "outputId": "1a20c392-4518-4222-fbdf-d04397612419"
      },
      "outputs": [
        {
          "data": {
            "text/plain": [
              "404"
            ]
          },
          "execution_count": 4,
          "metadata": {},
          "output_type": "execute_result"
        }
      ],
      "source": [
        "len(x_train)"
      ]
    },
    {
      "cell_type": "markdown",
      "metadata": {
        "id": "NsWNL_nUDOlw"
      },
      "source": [
        "### Dataset Description\n",
        "- Boston housing dataset has total 506 data instances (404 training & 102 test)\n",
        "- 13 attributes (features) to predict \"the median values of the houses at a location\"\n",
        "- Doc: https://keras.io/datasets/"
      ]
    },
    {
      "cell_type": "code",
      "execution_count": null,
      "metadata": {
        "colab": {
          "base_uri": "https://localhost:8080/"
        },
        "id": "n7N88vnvDOlx",
        "outputId": "520ddd28-e95b-4cd9-c803-8c41d19d2c6f"
      },
      "outputs": [
        {
          "name": "stdout",
          "output_type": "stream",
          "text": [
            "(404, 13)\n",
            "(102, 13)\n"
          ]
        }
      ],
      "source": [
        "print(x_train.shape)\n",
        "print(x_test.shape)"
      ]
    },
    {
      "cell_type": "markdown",
      "metadata": {
        "id": "Y9W-wf1dDOlx"
      },
      "source": [
        "### 1. Creating a model\n",
        "- Keras model object can be created with Sequential class\n",
        "- At the outset, the model is empty per se. It is completed by **'adding'** additional layers and compilation\n",
        "- Doc: https://keras.io/models/sequential/"
      ]
    },
    {
      "cell_type": "code",
      "execution_count": null,
      "metadata": {
        "id": "h2RLIEESDOlx"
      },
      "outputs": [],
      "source": [
        "from keras.models import Sequential"
      ]
    },
    {
      "cell_type": "code",
      "execution_count": null,
      "metadata": {
        "id": "2Jq0ojbNDOly"
      },
      "outputs": [],
      "source": [
        "model = Sequential()"
      ]
    },
    {
      "cell_type": "markdown",
      "metadata": {
        "id": "_to0wX81DOly"
      },
      "source": [
        "### 1-1. Adding layers\n",
        "- Keras layers can be **added** to the model\n",
        "- Adding layers are like stacking lego blocks one by one\n",
        "- Doc: https://keras.io/layers/core/"
      ]
    },
    {
      "cell_type": "code",
      "execution_count": null,
      "metadata": {
        "id": "MB61Vqx8DOly"
      },
      "outputs": [],
      "source": [
        "from keras.layers import Dense, Activation"
      ]
    },
    {
      "cell_type": "code",
      "execution_count": null,
      "metadata": {
        "id": "ZE90ZsqHDOlz"
      },
      "outputs": [],
      "source": [
        "model.add(Dense(10,input_shape = (13,),activation='sigmoid'))\n",
        "model.add(Dense(10,activation='sigmoid'))\n",
        "model.add(Dense(10,activation='sigmoid'))\n",
        "model.add(Dense(1))"
      ]
    },
    {
      "cell_type": "markdown",
      "metadata": {
        "id": "Mkp2y9uNDOlz"
      },
      "source": [
        "### 1-2. Model compile\n",
        "- Keras model should be \"compiled\" prior to training\n",
        "- Types of loss (function) and optimizer should be designated\n",
        "    - Doc (optimizers): https://keras.io/optimizers/\n",
        "    - Doc (losses): https://keras.io/losses/"
      ]
    },
    {
      "cell_type": "code",
      "execution_count": null,
      "metadata": {
        "id": "wMZ9jRtcDOlz"
      },
      "outputs": [],
      "source": [
        "import tensorflow as tf\n",
        "from keras import optimizers\n",
        "gd = tf.keras.optimizers.SGD(learning_rate = 0.01)"
      ]
    },
    {
      "cell_type": "code",
      "execution_count": null,
      "metadata": {
        "id": "3Dm3TGvODOl0"
      },
      "outputs": [],
      "source": [
        "model.compile(optimizer = gd,loss ='mean_squared_error',metrics = ['mse'])"
      ]
    },
    {
      "cell_type": "markdown",
      "metadata": {
        "id": "GfMt8mi5DOl0"
      },
      "source": [
        "### Summary of the model"
      ]
    },
    {
      "cell_type": "code",
      "execution_count": null,
      "metadata": {
        "colab": {
          "base_uri": "https://localhost:8080/"
        },
        "id": "4fNlLormDOl0",
        "outputId": "65c46137-6863-407e-cc88-87630db2173c",
        "scrolled": false
      },
      "outputs": [
        {
          "name": "stdout",
          "output_type": "stream",
          "text": [
            "Model: \"sequential\"\n",
            "_________________________________________________________________\n",
            " Layer (type)                Output Shape              Param #   \n",
            "=================================================================\n",
            " dense (Dense)               (None, 10)                140       \n",
            "                                                                 \n",
            " dense_1 (Dense)             (None, 10)                110       \n",
            "                                                                 \n",
            " dense_2 (Dense)             (None, 10)                110       \n",
            "                                                                 \n",
            " dense_3 (Dense)             (None, 1)                 11        \n",
            "                                                                 \n",
            "=================================================================\n",
            "Total params: 371\n",
            "Trainable params: 371\n",
            "Non-trainable params: 0\n",
            "_________________________________________________________________\n"
          ]
        }
      ],
      "source": [
        "model.summary()"
      ]
    },
    {
      "cell_type": "markdown",
      "metadata": {
        "id": "sNx9IvVBDOl1"
      },
      "source": [
        "### 2. Training\n",
        "- Training the model with training data provided"
      ]
    },
    {
      "cell_type": "code",
      "execution_count": null,
      "metadata": {
        "colab": {
          "base_uri": "https://localhost:8080/"
        },
        "id": "Dm0FLG0vDOl1",
        "outputId": "942cc69c-c424-4edd-da1f-7acbef857e26"
      },
      "outputs": [
        {
          "name": "stdout",
          "output_type": "stream",
          "text": [
            "Epoch 1/100\n",
            "11/11 [==============================] - 0s 9ms/step - loss: 84.5700 - mse: 84.5700 - val_loss: 93.3662 - val_mse: 93.3662\n",
            "Epoch 2/100\n",
            "11/11 [==============================] - 0s 4ms/step - loss: 84.9189 - mse: 84.9189 - val_loss: 88.2852 - val_mse: 88.2852\n",
            "Epoch 3/100\n",
            "11/11 [==============================] - 0s 6ms/step - loss: 84.3896 - mse: 84.3896 - val_loss: 88.9679 - val_mse: 88.9679\n",
            "Epoch 4/100\n",
            "11/11 [==============================] - 0s 6ms/step - loss: 84.5675 - mse: 84.5675 - val_loss: 89.7445 - val_mse: 89.7445\n",
            "Epoch 5/100\n",
            "11/11 [==============================] - 0s 6ms/step - loss: 84.5642 - mse: 84.5642 - val_loss: 93.2356 - val_mse: 93.2356\n",
            "Epoch 6/100\n",
            "11/11 [==============================] - 0s 5ms/step - loss: 85.1746 - mse: 85.1746 - val_loss: 84.6271 - val_mse: 84.6271\n",
            "Epoch 7/100\n",
            "11/11 [==============================] - 0s 6ms/step - loss: 84.9881 - mse: 84.9881 - val_loss: 86.9963 - val_mse: 86.9963\n",
            "Epoch 8/100\n",
            "11/11 [==============================] - 0s 4ms/step - loss: 84.6408 - mse: 84.6408 - val_loss: 90.2134 - val_mse: 90.2134\n",
            "Epoch 9/100\n",
            "11/11 [==============================] - 0s 5ms/step - loss: 84.6315 - mse: 84.6315 - val_loss: 94.8267 - val_mse: 94.8267\n",
            "Epoch 10/100\n",
            "11/11 [==============================] - 0s 6ms/step - loss: 85.3596 - mse: 85.3596 - val_loss: 86.2793 - val_mse: 86.2793\n",
            "Epoch 11/100\n",
            "11/11 [==============================] - 0s 5ms/step - loss: 84.3072 - mse: 84.3072 - val_loss: 85.9975 - val_mse: 85.9975\n",
            "Epoch 12/100\n",
            "11/11 [==============================] - 0s 5ms/step - loss: 84.5117 - mse: 84.5117 - val_loss: 85.7964 - val_mse: 85.7964\n",
            "Epoch 13/100\n",
            "11/11 [==============================] - 0s 6ms/step - loss: 84.5532 - mse: 84.5532 - val_loss: 90.5922 - val_mse: 90.5922\n",
            "Epoch 14/100\n",
            "11/11 [==============================] - 0s 5ms/step - loss: 85.0940 - mse: 85.0940 - val_loss: 92.7838 - val_mse: 92.7838\n",
            "Epoch 15/100\n",
            "11/11 [==============================] - 0s 6ms/step - loss: 84.7138 - mse: 84.7138 - val_loss: 84.9639 - val_mse: 84.9639\n",
            "Epoch 16/100\n",
            "11/11 [==============================] - 0s 5ms/step - loss: 85.1876 - mse: 85.1876 - val_loss: 87.2367 - val_mse: 87.2367\n",
            "Epoch 17/100\n",
            "11/11 [==============================] - 0s 5ms/step - loss: 84.6140 - mse: 84.6140 - val_loss: 88.4811 - val_mse: 88.4811\n",
            "Epoch 18/100\n",
            "11/11 [==============================] - 0s 4ms/step - loss: 84.4198 - mse: 84.4198 - val_loss: 84.9323 - val_mse: 84.9323\n",
            "Epoch 19/100\n",
            "11/11 [==============================] - 0s 6ms/step - loss: 84.1881 - mse: 84.1881 - val_loss: 93.6033 - val_mse: 93.6033\n",
            "Epoch 20/100\n",
            "11/11 [==============================] - 0s 6ms/step - loss: 85.3398 - mse: 85.3398 - val_loss: 90.6044 - val_mse: 90.6044\n",
            "Epoch 21/100\n",
            "11/11 [==============================] - 0s 6ms/step - loss: 84.7593 - mse: 84.7593 - val_loss: 87.9721 - val_mse: 87.9721\n",
            "Epoch 22/100\n",
            "11/11 [==============================] - 0s 5ms/step - loss: 84.9317 - mse: 84.9317 - val_loss: 86.1570 - val_mse: 86.1570\n",
            "Epoch 23/100\n",
            "11/11 [==============================] - 0s 4ms/step - loss: 84.7579 - mse: 84.7579 - val_loss: 84.5863 - val_mse: 84.5863\n",
            "Epoch 24/100\n",
            "11/11 [==============================] - 0s 5ms/step - loss: 85.1887 - mse: 85.1887 - val_loss: 85.8610 - val_mse: 85.8610\n",
            "Epoch 25/100\n",
            "11/11 [==============================] - 0s 6ms/step - loss: 84.4981 - mse: 84.4981 - val_loss: 86.4233 - val_mse: 86.4233\n",
            "Epoch 26/100\n",
            "11/11 [==============================] - 0s 6ms/step - loss: 84.4541 - mse: 84.4541 - val_loss: 84.5973 - val_mse: 84.5973\n",
            "Epoch 27/100\n",
            "11/11 [==============================] - 0s 5ms/step - loss: 85.6426 - mse: 85.6426 - val_loss: 87.0005 - val_mse: 87.0005\n",
            "Epoch 28/100\n",
            "11/11 [==============================] - 0s 5ms/step - loss: 84.6211 - mse: 84.6211 - val_loss: 93.4339 - val_mse: 93.4339\n",
            "Epoch 29/100\n",
            "11/11 [==============================] - 0s 7ms/step - loss: 85.0921 - mse: 85.0921 - val_loss: 89.5887 - val_mse: 89.5887\n",
            "Epoch 30/100\n",
            "11/11 [==============================] - 0s 6ms/step - loss: 85.1441 - mse: 85.1441 - val_loss: 84.6704 - val_mse: 84.6704\n",
            "Epoch 31/100\n",
            "11/11 [==============================] - 0s 5ms/step - loss: 84.4666 - mse: 84.4666 - val_loss: 89.0689 - val_mse: 89.0689\n",
            "Epoch 32/100\n",
            "11/11 [==============================] - 0s 7ms/step - loss: 84.5919 - mse: 84.5919 - val_loss: 93.7765 - val_mse: 93.7765\n",
            "Epoch 33/100\n",
            "11/11 [==============================] - 0s 6ms/step - loss: 84.8148 - mse: 84.8148 - val_loss: 85.4645 - val_mse: 85.4645\n",
            "Epoch 34/100\n",
            "11/11 [==============================] - 0s 6ms/step - loss: 84.4362 - mse: 84.4362 - val_loss: 84.6153 - val_mse: 84.6153\n",
            "Epoch 35/100\n",
            "11/11 [==============================] - 0s 5ms/step - loss: 85.9958 - mse: 85.9958 - val_loss: 89.6215 - val_mse: 89.6215\n",
            "Epoch 36/100\n",
            "11/11 [==============================] - 0s 4ms/step - loss: 84.6474 - mse: 84.6474 - val_loss: 90.1487 - val_mse: 90.1487\n",
            "Epoch 37/100\n",
            "11/11 [==============================] - 0s 6ms/step - loss: 84.6576 - mse: 84.6576 - val_loss: 84.5216 - val_mse: 84.5216\n",
            "Epoch 38/100\n",
            "11/11 [==============================] - 0s 6ms/step - loss: 85.1759 - mse: 85.1759 - val_loss: 88.6746 - val_mse: 88.6746\n",
            "Epoch 39/100\n",
            "11/11 [==============================] - 0s 6ms/step - loss: 84.4630 - mse: 84.4630 - val_loss: 86.3948 - val_mse: 86.3948\n",
            "Epoch 40/100\n",
            "11/11 [==============================] - 0s 6ms/step - loss: 84.6423 - mse: 84.6423 - val_loss: 84.5230 - val_mse: 84.5230\n",
            "Epoch 41/100\n",
            "11/11 [==============================] - 0s 7ms/step - loss: 85.1798 - mse: 85.1798 - val_loss: 87.7581 - val_mse: 87.7581\n",
            "Epoch 42/100\n",
            "11/11 [==============================] - 0s 5ms/step - loss: 84.8406 - mse: 84.8406 - val_loss: 85.1604 - val_mse: 85.1604\n",
            "Epoch 43/100\n",
            "11/11 [==============================] - 0s 5ms/step - loss: 84.5937 - mse: 84.5937 - val_loss: 85.4874 - val_mse: 85.4874\n",
            "Epoch 44/100\n",
            "11/11 [==============================] - 0s 4ms/step - loss: 85.0950 - mse: 85.0950 - val_loss: 84.5216 - val_mse: 84.5216\n",
            "Epoch 45/100\n",
            "11/11 [==============================] - 0s 4ms/step - loss: 85.1121 - mse: 85.1121 - val_loss: 90.3904 - val_mse: 90.3904\n",
            "Epoch 46/100\n",
            "11/11 [==============================] - 0s 7ms/step - loss: 85.1166 - mse: 85.1166 - val_loss: 84.6307 - val_mse: 84.6307\n",
            "Epoch 47/100\n",
            "11/11 [==============================] - 0s 6ms/step - loss: 84.8160 - mse: 84.8160 - val_loss: 87.4975 - val_mse: 87.4975\n",
            "Epoch 48/100\n",
            "11/11 [==============================] - 0s 5ms/step - loss: 84.2221 - mse: 84.2221 - val_loss: 87.9654 - val_mse: 87.9654\n",
            "Epoch 49/100\n",
            "11/11 [==============================] - 0s 6ms/step - loss: 84.2719 - mse: 84.2719 - val_loss: 86.7607 - val_mse: 86.7607\n",
            "Epoch 50/100\n",
            "11/11 [==============================] - 0s 6ms/step - loss: 84.3611 - mse: 84.3611 - val_loss: 86.4054 - val_mse: 86.4054\n",
            "Epoch 51/100\n",
            "11/11 [==============================] - 0s 5ms/step - loss: 87.2251 - mse: 87.2251 - val_loss: 90.5395 - val_mse: 90.5395\n",
            "Epoch 52/100\n",
            "11/11 [==============================] - 0s 5ms/step - loss: 85.2509 - mse: 85.2509 - val_loss: 87.5065 - val_mse: 87.5065\n",
            "Epoch 53/100\n",
            "11/11 [==============================] - 0s 6ms/step - loss: 84.3857 - mse: 84.3857 - val_loss: 84.5527 - val_mse: 84.5527\n",
            "Epoch 54/100\n",
            "11/11 [==============================] - 0s 6ms/step - loss: 85.2137 - mse: 85.2137 - val_loss: 85.4020 - val_mse: 85.4020\n",
            "Epoch 55/100\n",
            "11/11 [==============================] - 0s 6ms/step - loss: 84.7568 - mse: 84.7568 - val_loss: 89.2679 - val_mse: 89.2679\n",
            "Epoch 56/100\n",
            "11/11 [==============================] - 0s 6ms/step - loss: 84.8081 - mse: 84.8081 - val_loss: 92.0799 - val_mse: 92.0799\n",
            "Epoch 57/100\n",
            "11/11 [==============================] - 0s 6ms/step - loss: 85.0160 - mse: 85.0160 - val_loss: 93.9615 - val_mse: 93.9615\n",
            "Epoch 58/100\n",
            "11/11 [==============================] - 0s 5ms/step - loss: 85.3484 - mse: 85.3484 - val_loss: 86.7252 - val_mse: 86.7252\n",
            "Epoch 59/100\n",
            "11/11 [==============================] - 0s 8ms/step - loss: 84.2265 - mse: 84.2265 - val_loss: 90.1041 - val_mse: 90.1041\n",
            "Epoch 60/100\n",
            "11/11 [==============================] - 0s 6ms/step - loss: 84.6663 - mse: 84.6663 - val_loss: 86.8561 - val_mse: 86.8561\n",
            "Epoch 61/100\n",
            "11/11 [==============================] - 0s 5ms/step - loss: 84.3894 - mse: 84.3894 - val_loss: 85.8274 - val_mse: 85.8274\n",
            "Epoch 62/100\n",
            "11/11 [==============================] - 0s 6ms/step - loss: 84.2903 - mse: 84.2903 - val_loss: 92.4284 - val_mse: 92.4284\n",
            "Epoch 63/100\n",
            "11/11 [==============================] - 0s 7ms/step - loss: 85.0501 - mse: 85.0501 - val_loss: 91.8235 - val_mse: 91.8235\n",
            "Epoch 64/100\n",
            "11/11 [==============================] - 0s 5ms/step - loss: 84.8252 - mse: 84.8252 - val_loss: 87.9120 - val_mse: 87.9120\n",
            "Epoch 65/100\n",
            "11/11 [==============================] - 0s 6ms/step - loss: 84.4728 - mse: 84.4728 - val_loss: 84.5298 - val_mse: 84.5298\n",
            "Epoch 66/100\n",
            "11/11 [==============================] - 0s 6ms/step - loss: 85.2956 - mse: 85.2956 - val_loss: 85.4352 - val_mse: 85.4352\n",
            "Epoch 67/100\n",
            "11/11 [==============================] - 0s 7ms/step - loss: 84.5474 - mse: 84.5474 - val_loss: 87.3446 - val_mse: 87.3446\n",
            "Epoch 68/100\n",
            "11/11 [==============================] - 0s 6ms/step - loss: 88.0739 - mse: 88.0739 - val_loss: 85.8760 - val_mse: 85.8760\n",
            "Epoch 69/100\n",
            "11/11 [==============================] - 0s 5ms/step - loss: 84.7063 - mse: 84.7063 - val_loss: 86.3133 - val_mse: 86.3133\n",
            "Epoch 70/100\n",
            "11/11 [==============================] - 0s 6ms/step - loss: 84.5631 - mse: 84.5631 - val_loss: 87.9146 - val_mse: 87.9146\n",
            "Epoch 71/100\n",
            "11/11 [==============================] - 0s 6ms/step - loss: 84.5867 - mse: 84.5867 - val_loss: 90.2350 - val_mse: 90.2350\n",
            "Epoch 72/100\n",
            "11/11 [==============================] - 0s 6ms/step - loss: 84.6806 - mse: 84.6806 - val_loss: 86.2491 - val_mse: 86.2491\n",
            "Epoch 73/100\n",
            "11/11 [==============================] - 0s 6ms/step - loss: 84.5027 - mse: 84.5027 - val_loss: 87.7107 - val_mse: 87.7107\n",
            "Epoch 74/100\n",
            "11/11 [==============================] - 0s 6ms/step - loss: 84.2255 - mse: 84.2255 - val_loss: 88.4744 - val_mse: 88.4744\n",
            "Epoch 75/100\n",
            "11/11 [==============================] - 0s 6ms/step - loss: 84.5225 - mse: 84.5225 - val_loss: 93.5442 - val_mse: 93.5442\n",
            "Epoch 76/100\n",
            "11/11 [==============================] - 0s 4ms/step - loss: 85.2012 - mse: 85.2012 - val_loss: 94.2803 - val_mse: 94.2803\n",
            "Epoch 77/100\n",
            "11/11 [==============================] - 0s 4ms/step - loss: 85.9492 - mse: 85.9492 - val_loss: 91.7230 - val_mse: 91.7230\n",
            "Epoch 78/100\n",
            "11/11 [==============================] - 0s 5ms/step - loss: 85.3171 - mse: 85.3171 - val_loss: 88.6925 - val_mse: 88.6925\n",
            "Epoch 79/100\n",
            "11/11 [==============================] - 0s 5ms/step - loss: 84.8264 - mse: 84.8264 - val_loss: 91.0489 - val_mse: 91.0489\n",
            "Epoch 80/100\n",
            "11/11 [==============================] - 0s 7ms/step - loss: 84.9849 - mse: 84.9849 - val_loss: 91.6887 - val_mse: 91.6887\n",
            "Epoch 81/100\n",
            "11/11 [==============================] - 0s 4ms/step - loss: 85.2231 - mse: 85.2231 - val_loss: 87.4083 - val_mse: 87.4083\n",
            "Epoch 82/100\n",
            "11/11 [==============================] - 0s 6ms/step - loss: 84.4442 - mse: 84.4442 - val_loss: 93.7340 - val_mse: 93.7340\n",
            "Epoch 83/100\n",
            "11/11 [==============================] - 0s 5ms/step - loss: 85.4431 - mse: 85.4431 - val_loss: 94.4271 - val_mse: 94.4271\n",
            "Epoch 84/100\n",
            "11/11 [==============================] - 0s 4ms/step - loss: 84.5237 - mse: 84.5237 - val_loss: 85.0678 - val_mse: 85.0678\n",
            "Epoch 85/100\n",
            "11/11 [==============================] - 0s 5ms/step - loss: 84.3211 - mse: 84.3211 - val_loss: 96.4612 - val_mse: 96.4612\n",
            "Epoch 86/100\n",
            "11/11 [==============================] - 0s 6ms/step - loss: 85.6963 - mse: 85.6963 - val_loss: 89.2266 - val_mse: 89.2266\n",
            "Epoch 87/100\n",
            "11/11 [==============================] - 0s 5ms/step - loss: 85.6194 - mse: 85.6194 - val_loss: 86.9137 - val_mse: 86.9137\n",
            "Epoch 88/100\n",
            "11/11 [==============================] - 0s 5ms/step - loss: 84.5105 - mse: 84.5105 - val_loss: 84.5598 - val_mse: 84.5598\n",
            "Epoch 89/100\n",
            "11/11 [==============================] - 0s 5ms/step - loss: 85.3065 - mse: 85.3065 - val_loss: 86.1618 - val_mse: 86.1618\n",
            "Epoch 90/100\n",
            "11/11 [==============================] - 0s 4ms/step - loss: 84.5934 - mse: 84.5934 - val_loss: 85.0610 - val_mse: 85.0610\n",
            "Epoch 91/100\n",
            "11/11 [==============================] - 0s 5ms/step - loss: 84.3613 - mse: 84.3613 - val_loss: 92.9541 - val_mse: 92.9541\n",
            "Epoch 92/100\n",
            "11/11 [==============================] - 0s 5ms/step - loss: 84.8511 - mse: 84.8511 - val_loss: 86.1280 - val_mse: 86.1280\n",
            "Epoch 93/100\n",
            "11/11 [==============================] - 0s 7ms/step - loss: 84.3907 - mse: 84.3907 - val_loss: 87.5803 - val_mse: 87.5803\n",
            "Epoch 94/100\n",
            "11/11 [==============================] - 0s 5ms/step - loss: 84.7299 - mse: 84.7299 - val_loss: 93.8042 - val_mse: 93.8042\n",
            "Epoch 95/100\n",
            "11/11 [==============================] - 0s 6ms/step - loss: 85.3768 - mse: 85.3768 - val_loss: 88.6519 - val_mse: 88.6519\n",
            "Epoch 96/100\n",
            "11/11 [==============================] - 0s 4ms/step - loss: 84.1938 - mse: 84.1938 - val_loss: 84.5565 - val_mse: 84.5565\n",
            "Epoch 97/100\n",
            "11/11 [==============================] - 0s 4ms/step - loss: 85.4505 - mse: 85.4505 - val_loss: 85.7676 - val_mse: 85.7676\n",
            "Epoch 98/100\n",
            "11/11 [==============================] - 0s 6ms/step - loss: 86.3420 - mse: 86.3420 - val_loss: 84.6586 - val_mse: 84.6586\n",
            "Epoch 99/100\n",
            "11/11 [==============================] - 0s 6ms/step - loss: 84.7475 - mse: 84.7475 - val_loss: 85.9080 - val_mse: 85.9080\n",
            "Epoch 100/100\n",
            "11/11 [==============================] - 0s 5ms/step - loss: 86.4826 - mse: 86.4826 - val_loss: 85.0411 - val_mse: 85.0411\n"
          ]
        },
        {
          "data": {
            "text/plain": [
              "<keras.callbacks.History at 0x7f9238222350>"
            ]
          },
          "execution_count": 18,
          "metadata": {},
          "output_type": "execute_result"
        }
      ],
      "source": [
        "model.fit(x_train,y_train, batch_size = 32, epochs = 100,verbose = 1,validation_split = 0.20)"
      ]
    },
    {
      "cell_type": "markdown",
      "metadata": {
        "id": "zXsaBLGxDOl1"
      },
      "source": [
        "### 3. Evaluation\n",
        "- Keras model can be evaluated with evaluate() function\n",
        "- Evaluation results are contained in a list\n",
        "    - Doc (metrics): https://keras.io/metrics/"
      ]
    },
    {
      "cell_type": "code",
      "execution_count": null,
      "metadata": {
        "colab": {
          "base_uri": "https://localhost:8080/"
        },
        "id": "y8Hvx8nMDOl1",
        "outputId": "7be1f41c-4974-4f93-e745-c0c5cac5c8d2"
      },
      "outputs": [
        {
          "name": "stdout",
          "output_type": "stream",
          "text": [
            "4/4 [==============================] - 0s 3ms/step - loss: 83.2682 - mse: 83.2682\n",
            "['loss', 'mse']\n",
            "[83.26820373535156, 83.26820373535156]\n"
          ]
        }
      ],
      "source": [
        "results = model.evaluate(x_test,y_test)\n",
        "print(model.metrics_names)\n",
        "print(results)"
      ]
    },
    {
      "cell_type": "markdown",
      "metadata": {
        "id": "cWnhb2UCDOl2"
      },
      "source": [
        "## MLP for classification tasks\n",
        "- When the target (**y**) is discrete (categorical)\n",
        "- For loss function, cross-entropy is used and for evaluation metric, accuracy is commonly used"
      ]
    },
    {
      "cell_type": "code",
      "execution_count": null,
      "metadata": {
        "id": "C2uvyXf5DOl2"
      },
      "outputs": [],
      "source": [
        "from sklearn.datasets import load_breast_cancer\n",
        "from sklearn.model_selection import train_test_split"
      ]
    },
    {
      "cell_type": "code",
      "execution_count": null,
      "metadata": {
        "id": "eIGBWN1IlXlu"
      },
      "outputs": [],
      "source": [
        "data = load_breast_cancer()"
      ]
    },
    {
      "cell_type": "code",
      "execution_count": 39,
      "metadata": {
        "colab": {
          "base_uri": "https://localhost:8080/"
        },
        "id": "lNq9a3g7mLuY",
        "outputId": "12cda49b-1fe5-4c2c-d4d1-650f2e6268df"
      },
      "outputs": [
        {
          "data": {
            "text/plain": [
              "{'DESCR': '.. _breast_cancer_dataset:\\n\\nBreast cancer wisconsin (diagnostic) dataset\\n--------------------------------------------\\n\\n**Data Set Characteristics:**\\n\\n    :Number of Instances: 569\\n\\n    :Number of Attributes: 30 numeric, predictive attributes and the class\\n\\n    :Attribute Information:\\n        - radius (mean of distances from center to points on the perimeter)\\n        - texture (standard deviation of gray-scale values)\\n        - perimeter\\n        - area\\n        - smoothness (local variation in radius lengths)\\n        - compactness (perimeter^2 / area - 1.0)\\n        - concavity (severity of concave portions of the contour)\\n        - concave points (number of concave portions of the contour)\\n        - symmetry\\n        - fractal dimension (\"coastline approximation\" - 1)\\n\\n        The mean, standard error, and \"worst\" or largest (mean of the three\\n        worst/largest values) of these features were computed for each image,\\n        resulting in 30 features.  For instance, field 0 is Mean Radius, field\\n        10 is Radius SE, field 20 is Worst Radius.\\n\\n        - class:\\n                - WDBC-Malignant\\n                - WDBC-Benign\\n\\n    :Summary Statistics:\\n\\n    ===================================== ====== ======\\n                                           Min    Max\\n    ===================================== ====== ======\\n    radius (mean):                        6.981  28.11\\n    texture (mean):                       9.71   39.28\\n    perimeter (mean):                     43.79  188.5\\n    area (mean):                          143.5  2501.0\\n    smoothness (mean):                    0.053  0.163\\n    compactness (mean):                   0.019  0.345\\n    concavity (mean):                     0.0    0.427\\n    concave points (mean):                0.0    0.201\\n    symmetry (mean):                      0.106  0.304\\n    fractal dimension (mean):             0.05   0.097\\n    radius (standard error):              0.112  2.873\\n    texture (standard error):             0.36   4.885\\n    perimeter (standard error):           0.757  21.98\\n    area (standard error):                6.802  542.2\\n    smoothness (standard error):          0.002  0.031\\n    compactness (standard error):         0.002  0.135\\n    concavity (standard error):           0.0    0.396\\n    concave points (standard error):      0.0    0.053\\n    symmetry (standard error):            0.008  0.079\\n    fractal dimension (standard error):   0.001  0.03\\n    radius (worst):                       7.93   36.04\\n    texture (worst):                      12.02  49.54\\n    perimeter (worst):                    50.41  251.2\\n    area (worst):                         185.2  4254.0\\n    smoothness (worst):                   0.071  0.223\\n    compactness (worst):                  0.027  1.058\\n    concavity (worst):                    0.0    1.252\\n    concave points (worst):               0.0    0.291\\n    symmetry (worst):                     0.156  0.664\\n    fractal dimension (worst):            0.055  0.208\\n    ===================================== ====== ======\\n\\n    :Missing Attribute Values: None\\n\\n    :Class Distribution: 212 - Malignant, 357 - Benign\\n\\n    :Creator:  Dr. William H. Wolberg, W. Nick Street, Olvi L. Mangasarian\\n\\n    :Donor: Nick Street\\n\\n    :Date: November, 1995\\n\\nThis is a copy of UCI ML Breast Cancer Wisconsin (Diagnostic) datasets.\\nhttps://goo.gl/U2Uwz2\\n\\nFeatures are computed from a digitized image of a fine needle\\naspirate (FNA) of a breast mass.  They describe\\ncharacteristics of the cell nuclei present in the image.\\n\\nSeparating plane described above was obtained using\\nMultisurface Method-Tree (MSM-T) [K. P. Bennett, \"Decision Tree\\nConstruction Via Linear Programming.\" Proceedings of the 4th\\nMidwest Artificial Intelligence and Cognitive Science Society,\\npp. 97-101, 1992], a classification method which uses linear\\nprogramming to construct a decision tree.  Relevant features\\nwere selected using an exhaustive search in the space of 1-4\\nfeatures and 1-3 separating planes.\\n\\nThe actual linear program used to obtain the separating plane\\nin the 3-dimensional space is that described in:\\n[K. P. Bennett and O. L. Mangasarian: \"Robust Linear\\nProgramming Discrimination of Two Linearly Inseparable Sets\",\\nOptimization Methods and Software 1, 1992, 23-34].\\n\\nThis database is also available through the UW CS ftp server:\\n\\nftp ftp.cs.wisc.edu\\ncd math-prog/cpo-dataset/machine-learn/WDBC/\\n\\n.. topic:: References\\n\\n   - W.N. Street, W.H. Wolberg and O.L. Mangasarian. Nuclear feature extraction \\n     for breast tumor diagnosis. IS&T/SPIE 1993 International Symposium on \\n     Electronic Imaging: Science and Technology, volume 1905, pages 861-870,\\n     San Jose, CA, 1993.\\n   - O.L. Mangasarian, W.N. Street and W.H. Wolberg. Breast cancer diagnosis and \\n     prognosis via linear programming. Operations Research, 43(4), pages 570-577, \\n     July-August 1995.\\n   - W.H. Wolberg, W.N. Street, and O.L. Mangasarian. Machine learning techniques\\n     to diagnose breast cancer from fine-needle aspirates. Cancer Letters 77 (1994) \\n     163-171.',\n",
              " 'data': array([[1.799e+01, 1.038e+01, 1.228e+02, ..., 2.654e-01, 4.601e-01,\n",
              "         1.189e-01],\n",
              "        [2.057e+01, 1.777e+01, 1.329e+02, ..., 1.860e-01, 2.750e-01,\n",
              "         8.902e-02],\n",
              "        [1.969e+01, 2.125e+01, 1.300e+02, ..., 2.430e-01, 3.613e-01,\n",
              "         8.758e-02],\n",
              "        ...,\n",
              "        [1.660e+01, 2.808e+01, 1.083e+02, ..., 1.418e-01, 2.218e-01,\n",
              "         7.820e-02],\n",
              "        [2.060e+01, 2.933e+01, 1.401e+02, ..., 2.650e-01, 4.087e-01,\n",
              "         1.240e-01],\n",
              "        [7.760e+00, 2.454e+01, 4.792e+01, ..., 0.000e+00, 2.871e-01,\n",
              "         7.039e-02]]),\n",
              " 'data_module': 'sklearn.datasets.data',\n",
              " 'feature_names': array(['mean radius', 'mean texture', 'mean perimeter', 'mean area',\n",
              "        'mean smoothness', 'mean compactness', 'mean concavity',\n",
              "        'mean concave points', 'mean symmetry', 'mean fractal dimension',\n",
              "        'radius error', 'texture error', 'perimeter error', 'area error',\n",
              "        'smoothness error', 'compactness error', 'concavity error',\n",
              "        'concave points error', 'symmetry error',\n",
              "        'fractal dimension error', 'worst radius', 'worst texture',\n",
              "        'worst perimeter', 'worst area', 'worst smoothness',\n",
              "        'worst compactness', 'worst concavity', 'worst concave points',\n",
              "        'worst symmetry', 'worst fractal dimension'], dtype='<U23'),\n",
              " 'filename': 'breast_cancer.csv',\n",
              " 'frame': None,\n",
              " 'target': array([0, 0, 0, 0, 0, 0, 0, 0, 0, 0, 0, 0, 0, 0, 0, 0, 0, 0, 0, 1, 1, 1,\n",
              "        0, 0, 0, 0, 0, 0, 0, 0, 0, 0, 0, 0, 0, 0, 0, 1, 0, 0, 0, 0, 0, 0,\n",
              "        0, 0, 1, 0, 1, 1, 1, 1, 1, 0, 0, 1, 0, 0, 1, 1, 1, 1, 0, 1, 0, 0,\n",
              "        1, 1, 1, 1, 0, 1, 0, 0, 1, 0, 1, 0, 0, 1, 1, 1, 0, 0, 1, 0, 0, 0,\n",
              "        1, 1, 1, 0, 1, 1, 0, 0, 1, 1, 1, 0, 0, 1, 1, 1, 1, 0, 1, 1, 0, 1,\n",
              "        1, 1, 1, 1, 1, 1, 1, 0, 0, 0, 1, 0, 0, 1, 1, 1, 0, 0, 1, 0, 1, 0,\n",
              "        0, 1, 0, 0, 1, 1, 0, 1, 1, 0, 1, 1, 1, 1, 0, 1, 1, 1, 1, 1, 1, 1,\n",
              "        1, 1, 0, 1, 1, 1, 1, 0, 0, 1, 0, 1, 1, 0, 0, 1, 1, 0, 0, 1, 1, 1,\n",
              "        1, 0, 1, 1, 0, 0, 0, 1, 0, 1, 0, 1, 1, 1, 0, 1, 1, 0, 0, 1, 0, 0,\n",
              "        0, 0, 1, 0, 0, 0, 1, 0, 1, 0, 1, 1, 0, 1, 0, 0, 0, 0, 1, 1, 0, 0,\n",
              "        1, 1, 1, 0, 1, 1, 1, 1, 1, 0, 0, 1, 1, 0, 1, 1, 0, 0, 1, 0, 1, 1,\n",
              "        1, 1, 0, 1, 1, 1, 1, 1, 0, 1, 0, 0, 0, 0, 0, 0, 0, 0, 0, 0, 0, 0,\n",
              "        0, 0, 1, 1, 1, 1, 1, 1, 0, 1, 0, 1, 1, 0, 1, 1, 0, 1, 0, 0, 1, 1,\n",
              "        1, 1, 1, 1, 1, 1, 1, 1, 1, 1, 1, 0, 1, 1, 0, 1, 0, 1, 1, 1, 1, 1,\n",
              "        1, 1, 1, 1, 1, 1, 1, 1, 1, 0, 1, 1, 1, 0, 1, 0, 1, 1, 1, 1, 0, 0,\n",
              "        0, 1, 1, 1, 1, 0, 1, 0, 1, 0, 1, 1, 1, 0, 1, 1, 1, 1, 1, 1, 1, 0,\n",
              "        0, 0, 1, 1, 1, 1, 1, 1, 1, 1, 1, 1, 1, 0, 0, 1, 0, 0, 0, 1, 0, 0,\n",
              "        1, 1, 1, 1, 1, 0, 1, 1, 1, 1, 1, 0, 1, 1, 1, 0, 1, 1, 0, 0, 1, 1,\n",
              "        1, 1, 1, 1, 0, 1, 1, 1, 1, 1, 1, 1, 0, 1, 1, 1, 1, 1, 0, 1, 1, 0,\n",
              "        1, 1, 1, 1, 1, 1, 1, 1, 1, 1, 1, 1, 0, 1, 0, 0, 1, 0, 1, 1, 1, 1,\n",
              "        1, 0, 1, 1, 0, 1, 0, 1, 1, 0, 1, 0, 1, 1, 1, 1, 1, 1, 1, 1, 0, 0,\n",
              "        1, 1, 1, 1, 1, 1, 0, 1, 1, 1, 1, 1, 1, 1, 1, 1, 1, 0, 1, 1, 1, 1,\n",
              "        1, 1, 1, 0, 1, 0, 1, 1, 0, 1, 1, 1, 1, 1, 0, 0, 1, 0, 1, 0, 1, 1,\n",
              "        1, 1, 1, 0, 1, 1, 0, 1, 0, 1, 0, 0, 1, 1, 1, 0, 1, 1, 1, 1, 1, 1,\n",
              "        1, 1, 1, 1, 1, 0, 1, 0, 0, 1, 1, 1, 1, 1, 1, 1, 1, 1, 1, 1, 1, 1,\n",
              "        1, 1, 1, 1, 1, 1, 1, 1, 1, 1, 1, 1, 0, 0, 0, 0, 0, 0, 1]),\n",
              " 'target_names': array(['malignant', 'benign'], dtype='<U9')}"
            ]
          },
          "execution_count": 39,
          "metadata": {},
          "output_type": "execute_result"
        }
      ],
      "source": [
        "data"
      ]
    },
    {
      "cell_type": "code",
      "execution_count": null,
      "metadata": {
        "id": "3wasPmfCDOl2"
      },
      "outputs": [],
      "source": [
        "y = data.target"
      ]
    },
    {
      "cell_type": "code",
      "execution_count": null,
      "metadata": {
        "id": "h_KjA_EqDOl3"
      },
      "outputs": [],
      "source": [
        "x = data.data"
      ]
    },
    {
      "cell_type": "code",
      "execution_count": null,
      "metadata": {
        "id": "NULPKIXmDOl3"
      },
      "outputs": [],
      "source": [
        "x_train,x_test,y_train,y_test = train_test_split(x,y,test_size = 0.25,random_state = 60)"
      ]
    },
    {
      "cell_type": "markdown",
      "metadata": {
        "id": "1SAttWAsDOl3"
      },
      "source": [
        "### Dataset Description\n",
        "- Breast cancer dataset has total 569 data instances (212 malign, 357 benign instances)\n",
        "- 30 attributes (features) to predict the binary class (M/B)\n",
        "- Doc: http://scikit-learn.org/stable/modules/generated/sklearn.datasets.load_breast_cancer.html#sklearn.datasets.load_breast_cancer"
      ]
    },
    {
      "cell_type": "code",
      "execution_count": 30,
      "metadata": {
        "colab": {
          "base_uri": "https://localhost:8080/"
        },
        "id": "sRz6VrNLDOl4",
        "outputId": "857ef808-7d8e-468a-a0b1-d17b214567b2"
      },
      "outputs": [
        {
          "name": "stdout",
          "output_type": "stream",
          "text": [
            "(426, 30)\n",
            "(143, 30)\n"
          ]
        }
      ],
      "source": [
        "print(x_train.shape)\n",
        "print(x_test.shape)"
      ]
    },
    {
      "cell_type": "markdown",
      "metadata": {
        "id": "V7g5UTmkDOl4"
      },
      "source": [
        "### 1. Creating a model\n",
        "- Same with regression model at the outset"
      ]
    },
    {
      "cell_type": "code",
      "execution_count": 31,
      "metadata": {
        "id": "wa-Q5lgNDOl4"
      },
      "outputs": [],
      "source": [
        "from keras.models import Sequential"
      ]
    },
    {
      "cell_type": "code",
      "execution_count": 36,
      "metadata": {
        "id": "8aQ3j_A1DOl4"
      },
      "outputs": [],
      "source": [
        "model = Sequential()"
      ]
    },
    {
      "cell_type": "markdown",
      "metadata": {
        "id": "wH3vi48HDOl4"
      },
      "source": [
        "### 1-1. Adding layers\n",
        "- Keras layers can be **added** to the model\n",
        "- Adding layers are like stacking lego blocks one by one\n",
        "- It should be noted that as this is a classification problem, sigmoid layer (softmax for multi-class problems) should be added\n",
        "- Doc: https://keras.io/layers/core/"
      ]
    },
    {
      "cell_type": "code",
      "execution_count": 37,
      "metadata": {
        "id": "xEHwDnjqDOl5"
      },
      "outputs": [],
      "source": [
        "model.add(Dense(10,input_shape = (30,)))\n",
        "model.add(Activation('sigmoid'))\n",
        "model.add(Dense(10))\n",
        "model.add(Activation('sigmoid'))\n",
        "model.add(Dense(10))\n",
        "model.add(Activation('sigmoid'))\n",
        "model.add(Dense(1))\n",
        "model.add(Activation('sigmoid'))"
      ]
    },
    {
      "cell_type": "code",
      "execution_count": null,
      "metadata": {
        "id": "BZf4919kDOl5"
      },
      "outputs": [],
      "source": [
        "\"\"\"#the above cell is equivalent to \n",
        "model.add(Dense(10,input_shape = (30,),activation='sigmoid'))\n",
        "model.add(Dense(10,activation='sigmoid'))\n",
        "model.add(Dense(10,activation='sigmoid'))\n",
        "model.add(Dense(1))\"\"\""
      ]
    },
    {
      "cell_type": "markdown",
      "metadata": {
        "id": "c36hxjWcDOl5"
      },
      "source": [
        "### 1-2. Model compile\n",
        "- Keras model should be \"compiled\" prior to training\n",
        "- Types of loss (function) and optimizer should be designated\n",
        "    - Doc (optimizers): https://keras.io/optimizers/\n",
        "    - Doc (losses): https://keras.io/losses/"
      ]
    },
    {
      "cell_type": "code",
      "execution_count": 38,
      "metadata": {
        "id": "n4Ceiy9OnZSU"
      },
      "outputs": [],
      "source": [
        "import tensorflow as tf\n",
        "from keras import optimizers\n",
        "gd = tf.keras.optimizers.SGD(learning_rate = 0.01)"
      ]
    },
    {
      "cell_type": "code",
      "execution_count": 40,
      "metadata": {
        "id": "8epU1Lu8nZSU"
      },
      "outputs": [],
      "source": [
        "model.compile(optimizer = gd,loss ='binary_crossentropy',metrics = ['accuracy'])"
      ]
    },
    {
      "cell_type": "markdown",
      "metadata": {
        "id": "Y0_uGISADOl6"
      },
      "source": [
        "### Summary of the model"
      ]
    },
    {
      "cell_type": "code",
      "execution_count": 41,
      "metadata": {
        "colab": {
          "base_uri": "https://localhost:8080/"
        },
        "id": "mcQN_MtdDOl7",
        "outputId": "28590411-070e-4841-9a24-54985d173704",
        "scrolled": true
      },
      "outputs": [
        {
          "name": "stdout",
          "output_type": "stream",
          "text": [
            "Model: \"sequential_2\"\n",
            "_________________________________________________________________\n",
            " Layer (type)                Output Shape              Param #   \n",
            "=================================================================\n",
            " dense_12 (Dense)            (None, 10)                310       \n",
            "                                                                 \n",
            " activation_8 (Activation)   (None, 10)                0         \n",
            "                                                                 \n",
            " dense_13 (Dense)            (None, 10)                110       \n",
            "                                                                 \n",
            " activation_9 (Activation)   (None, 10)                0         \n",
            "                                                                 \n",
            " dense_14 (Dense)            (None, 10)                110       \n",
            "                                                                 \n",
            " activation_10 (Activation)  (None, 10)                0         \n",
            "                                                                 \n",
            " dense_15 (Dense)            (None, 1)                 11        \n",
            "                                                                 \n",
            " activation_11 (Activation)  (None, 1)                 0         \n",
            "                                                                 \n",
            "=================================================================\n",
            "Total params: 541\n",
            "Trainable params: 541\n",
            "Non-trainable params: 0\n",
            "_________________________________________________________________\n"
          ]
        }
      ],
      "source": [
        "model.summary()"
      ]
    },
    {
      "cell_type": "markdown",
      "metadata": {
        "id": "gXCmcedhDOl8"
      },
      "source": [
        "### 2. Training\n",
        "- Training the model with training data provided"
      ]
    },
    {
      "cell_type": "code",
      "execution_count": null,
      "metadata": {
        "id": "rFsDNtFLDOl8"
      },
      "outputs": [],
      "source": [
        "model.fit(x_train,y_train, batch_size = 32, epochs = 100,verbose = 1,validation_split = 0.20)"
      ]
    },
    {
      "cell_type": "markdown",
      "metadata": {
        "id": "OgBbe2MsDOl8"
      },
      "source": [
        "### 3. Evaluation\n",
        "- Keras model can be evaluated with evaluate() function\n",
        "- Evaluation results are contained in a list\n",
        "    - Doc (metrics): https://keras.io/metrics/"
      ]
    },
    {
      "cell_type": "code",
      "execution_count": 43,
      "metadata": {
        "colab": {
          "base_uri": "https://localhost:8080/"
        },
        "id": "q-1ORR5SDOl8",
        "outputId": "52153a91-80c1-41a6-8e22-e4637158a3de"
      },
      "outputs": [
        {
          "name": "stdout",
          "output_type": "stream",
          "text": [
            "5/5 [==============================] - 0s 4ms/step - loss: 0.6514 - accuracy: 0.6434\n",
            "['loss', 'accuracy']\n",
            "[0.6514446139335632, 0.6433566212654114]\n"
          ]
        }
      ],
      "source": [
        "results = model.evaluate(x_test,y_test)\n",
        "print(model.metrics_names)\n",
        "print(results)"
      ]
    },
    {
      "cell_type": "code",
      "execution_count": null,
      "metadata": {
        "id": "FqWtCyzEDOl8"
      },
      "outputs": [],
      "source": []
    },
    {
      "cell_type": "code",
      "execution_count": null,
      "metadata": {
        "id": "WEZ5OI8kDOl9"
      },
      "outputs": [],
      "source": []
    },
    {
      "cell_type": "code",
      "execution_count": null,
      "metadata": {
        "id": "lK4xupAZDOl9"
      },
      "outputs": [],
      "source": []
    }
  ],
  "metadata": {
    "colab": {
      "name": "Basics_Neural_Networks.ipynb",
      "provenance": []
    },
    "kernelspec": {
      "display_name": "Python 3",
      "language": "python",
      "name": "python3"
    },
    "language_info": {
      "codemirror_mode": {
        "name": "ipython",
        "version": 3
      },
      "file_extension": ".py",
      "mimetype": "text/x-python",
      "name": "python",
      "nbconvert_exporter": "python",
      "pygments_lexer": "ipython3",
      "version": "3.6.4"
    }
  },
  "nbformat": 4,
  "nbformat_minor": 0
}
