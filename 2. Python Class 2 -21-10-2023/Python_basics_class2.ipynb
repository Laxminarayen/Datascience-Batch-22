{
  "nbformat": 4,
  "nbformat_minor": 0,
  "metadata": {
    "colab": {
      "provenance": []
    },
    "kernelspec": {
      "name": "python3",
      "display_name": "Python 3"
    },
    "language_info": {
      "name": "python"
    }
  },
  "cells": [
    {
      "cell_type": "markdown",
      "source": [
        "## Some Starters for the class!\n",
        "Given two lists of equal sizes.. create another unique list which has elements of both the lists"
      ],
      "metadata": {
        "id": "e3uHgNbONGDF"
      }
    },
    {
      "cell_type": "code",
      "execution_count": null,
      "metadata": {
        "id": "-ZNYDD8_NCgx"
      },
      "outputs": [],
      "source": [
        "lst1 = [2,4,6,8,10]\n",
        "lst2 = [1,3,5,7,9]\n",
        "newlst = [2,4,6,8,10,1,3,5,7,9]"
      ]
    },
    {
      "cell_type": "code",
      "source": [
        "a = [1,2,4]\n",
        "b = a"
      ],
      "metadata": {
        "id": "2ndJPPIzNE55"
      },
      "execution_count": 1,
      "outputs": []
    },
    {
      "cell_type": "code",
      "source": [
        "b[2] = 0"
      ],
      "metadata": {
        "id": "e8bz3Rw2NE87"
      },
      "execution_count": 3,
      "outputs": []
    },
    {
      "cell_type": "code",
      "source": [
        "b"
      ],
      "metadata": {
        "colab": {
          "base_uri": "https://localhost:8080/"
        },
        "id": "g4pbMmOENE_y",
        "outputId": "bbab39cb-0ac1-4687-9004-c259d68caa44"
      },
      "execution_count": 4,
      "outputs": [
        {
          "output_type": "execute_result",
          "data": {
            "text/plain": [
              "[1, 2, 0]"
            ]
          },
          "metadata": {},
          "execution_count": 4
        }
      ]
    },
    {
      "cell_type": "code",
      "source": [
        "a"
      ],
      "metadata": {
        "colab": {
          "base_uri": "https://localhost:8080/"
        },
        "id": "8VZI3ZK5OR3J",
        "outputId": "31d5ebed-be5c-4456-8287-99d464a5780e"
      },
      "execution_count": 5,
      "outputs": [
        {
          "output_type": "execute_result",
          "data": {
            "text/plain": [
              "[1, 2, 0]"
            ]
          },
          "metadata": {},
          "execution_count": 5
        }
      ]
    },
    {
      "cell_type": "code",
      "source": [
        "a = [1,2,4]\n",
        "b = a.copy()\n",
        "b[2] =0\n",
        "print(\"A: \",a)\n",
        "print(\"B: \",b)"
      ],
      "metadata": {
        "colab": {
          "base_uri": "https://localhost:8080/"
        },
        "id": "MPQ0R2XqNFD9",
        "outputId": "c58eaef7-5738-4774-814a-b802dbfbe1ef"
      },
      "execution_count": 6,
      "outputs": [
        {
          "output_type": "stream",
          "name": "stdout",
          "text": [
            "A:  [1, 2, 4]\n",
            "B:  [1, 2, 0]\n"
          ]
        }
      ]
    },
    {
      "cell_type": "markdown",
      "source": [
        "### Solution"
      ],
      "metadata": {
        "id": "S_veeIX8O08r"
      }
    },
    {
      "cell_type": "code",
      "source": [
        "lst1 = [2,4,6,8,10]\n",
        "lst2 = [1,3,5,7,9]\n",
        "lst3= lst1+lst2"
      ],
      "metadata": {
        "id": "0QJpXTVNOurh"
      },
      "execution_count": 17,
      "outputs": []
    },
    {
      "cell_type": "code",
      "source": [
        "lst3[3] = 0\n",
        "lst3"
      ],
      "metadata": {
        "colab": {
          "base_uri": "https://localhost:8080/"
        },
        "id": "rjqH4EI2O9T3",
        "outputId": "b8d2f1cf-e27d-4b0e-b775-6a9b989d5efd"
      },
      "execution_count": 12,
      "outputs": [
        {
          "output_type": "execute_result",
          "data": {
            "text/plain": [
              "[2, 4, 6, 0, 10, 1, 3, 5, 7, 9]"
            ]
          },
          "metadata": {},
          "execution_count": 12
        }
      ]
    },
    {
      "cell_type": "code",
      "source": [
        "lst1.extend(lst2)"
      ],
      "metadata": {
        "id": "6jXElMbjPQR-"
      },
      "execution_count": 18,
      "outputs": []
    },
    {
      "cell_type": "code",
      "source": [
        "lst1"
      ],
      "metadata": {
        "colab": {
          "base_uri": "https://localhost:8080/"
        },
        "id": "lVJ4KMulPVLX",
        "outputId": "427f8250-e87e-4513-9dc6-9730ec4848b9"
      },
      "execution_count": 19,
      "outputs": [
        {
          "output_type": "execute_result",
          "data": {
            "text/plain": [
              "[2, 4, 6, 8, 10, 1, 3, 5, 7, 9]"
            ]
          },
          "metadata": {},
          "execution_count": 19
        }
      ]
    },
    {
      "cell_type": "markdown",
      "source": [
        "# Set\n",
        "\n",
        "#### 1. Define a set with '{}'\n",
        "#### 2. Set does not allow duplicate data to persist inside it\n",
        "#### 3. Se does not allow accessing elements using Index\n",
        "#### 4. Immutable\n",
        "#### 5. Positional Information is not there (elements ordering tend to change!)"
      ],
      "metadata": {
        "id": "yNZwwy9JP7Ml"
      }
    },
    {
      "cell_type": "code",
      "source": [
        "sample_set = {1,2,3,4,5,6,1,2,3,1,2,3,2,3}"
      ],
      "metadata": {
        "id": "G-QsLT5IPpmp"
      },
      "execution_count": 20,
      "outputs": []
    },
    {
      "cell_type": "code",
      "source": [
        "print(sample_set)"
      ],
      "metadata": {
        "colab": {
          "base_uri": "https://localhost:8080/"
        },
        "id": "x5_o5XuNQQAL",
        "outputId": "f6b4ce55-1e46-4616-dad2-48cd920a1cff"
      },
      "execution_count": 21,
      "outputs": [
        {
          "output_type": "stream",
          "name": "stdout",
          "text": [
            "{1, 2, 3, 4, 5, 6}\n"
          ]
        }
      ]
    },
    {
      "cell_type": "code",
      "source": [
        "sample_set[0]"
      ],
      "metadata": {
        "colab": {
          "base_uri": "https://localhost:8080/",
          "height": 179
        },
        "id": "_4wQnRVIQRgc",
        "outputId": "1b8907bc-8a89-42b1-f537-941ab41d599f"
      },
      "execution_count": 22,
      "outputs": [
        {
          "output_type": "error",
          "ename": "TypeError",
          "evalue": "ignored",
          "traceback": [
            "\u001b[0;31m---------------------------------------------------------------------------\u001b[0m",
            "\u001b[0;31mTypeError\u001b[0m                                 Traceback (most recent call last)",
            "\u001b[0;32m<ipython-input-22-aac88c932db3>\u001b[0m in \u001b[0;36m<cell line: 1>\u001b[0;34m()\u001b[0m\n\u001b[0;32m----> 1\u001b[0;31m \u001b[0msample_set\u001b[0m\u001b[0;34m[\u001b[0m\u001b[0;36m0\u001b[0m\u001b[0;34m]\u001b[0m\u001b[0;34m\u001b[0m\u001b[0;34m\u001b[0m\u001b[0m\n\u001b[0m",
            "\u001b[0;31mTypeError\u001b[0m: 'set' object is not subscriptable"
          ]
        }
      ]
    },
    {
      "cell_type": "code",
      "source": [
        "sample_set[1] = 2"
      ],
      "metadata": {
        "colab": {
          "base_uri": "https://localhost:8080/",
          "height": 179
        },
        "id": "fWtulzFIQxoI",
        "outputId": "1f85b041-a09f-46bd-fa40-33994925ad71"
      },
      "execution_count": 23,
      "outputs": [
        {
          "output_type": "error",
          "ename": "TypeError",
          "evalue": "ignored",
          "traceback": [
            "\u001b[0;31m---------------------------------------------------------------------------\u001b[0m",
            "\u001b[0;31mTypeError\u001b[0m                                 Traceback (most recent call last)",
            "\u001b[0;32m<ipython-input-23-db54b6e5ae45>\u001b[0m in \u001b[0;36m<cell line: 1>\u001b[0;34m()\u001b[0m\n\u001b[0;32m----> 1\u001b[0;31m \u001b[0msample_set\u001b[0m\u001b[0;34m[\u001b[0m\u001b[0;36m1\u001b[0m\u001b[0;34m]\u001b[0m \u001b[0;34m=\u001b[0m \u001b[0;36m2\u001b[0m\u001b[0;34m\u001b[0m\u001b[0;34m\u001b[0m\u001b[0m\n\u001b[0m",
            "\u001b[0;31mTypeError\u001b[0m: 'set' object does not support item assignment"
          ]
        }
      ]
    },
    {
      "cell_type": "code",
      "source": [
        "sample_set = {1,3,2,200,10,15,1,2,3,1,2,3,2,3}"
      ],
      "metadata": {
        "id": "tx00S_PeRTtA"
      },
      "execution_count": 24,
      "outputs": []
    },
    {
      "cell_type": "code",
      "source": [
        "print(sample_set)"
      ],
      "metadata": {
        "colab": {
          "base_uri": "https://localhost:8080/"
        },
        "id": "pZC8tzBeSBl9",
        "outputId": "d08ddee5-fe89-4ebd-aaf4-b540142d4cb5"
      },
      "execution_count": 25,
      "outputs": [
        {
          "output_type": "stream",
          "name": "stdout",
          "text": [
            "{1, 2, 3, 200, 10, 15}\n"
          ]
        }
      ]
    },
    {
      "cell_type": "code",
      "source": [
        "sample_set = {1,3,2,10,8,1,2,3,1,2,3,2,3}"
      ],
      "metadata": {
        "id": "Ujfi9TDjSDzB"
      },
      "execution_count": 26,
      "outputs": []
    },
    {
      "cell_type": "code",
      "source": [
        "print(sample_set)"
      ],
      "metadata": {
        "colab": {
          "base_uri": "https://localhost:8080/"
        },
        "id": "8XFMuQFCSODJ",
        "outputId": "2c6b4467-a48f-448c-e6d1-d031d50dfa25"
      },
      "execution_count": 27,
      "outputs": [
        {
          "output_type": "stream",
          "name": "stdout",
          "text": [
            "{1, 2, 3, 8, 10}\n"
          ]
        }
      ]
    },
    {
      "cell_type": "code",
      "source": [
        "type(list({1,2,3,4,5}))"
      ],
      "metadata": {
        "colab": {
          "base_uri": "https://localhost:8080/"
        },
        "id": "r3Vi1MMnSOyc",
        "outputId": "534caec0-0290-4f00-dac1-8ffd3ab4bd08"
      },
      "execution_count": 29,
      "outputs": [
        {
          "output_type": "execute_result",
          "data": {
            "text/plain": [
              "list"
            ]
          },
          "metadata": {},
          "execution_count": 29
        }
      ]
    },
    {
      "cell_type": "code",
      "source": [
        "list(set([1,3,2,10,8,1,2,3,1,2,3,2,3]))"
      ],
      "metadata": {
        "colab": {
          "base_uri": "https://localhost:8080/"
        },
        "id": "aAaIyiqeSnML",
        "outputId": "2d404a64-4582-4648-efbd-d806eb88473e"
      },
      "execution_count": 31,
      "outputs": [
        {
          "output_type": "execute_result",
          "data": {
            "text/plain": [
              "[1, 2, 3, 8, 10]"
            ]
          },
          "metadata": {},
          "execution_count": 31
        }
      ]
    },
    {
      "cell_type": "code",
      "source": [
        "s={7,8,9,1}\n",
        "s1=sorted(s)\n",
        "print(s1)"
      ],
      "metadata": {
        "colab": {
          "base_uri": "https://localhost:8080/"
        },
        "id": "hUQmFaiyTe0m",
        "outputId": "53bb2914-23ca-41aa-99bc-06038b5d6d17"
      },
      "execution_count": 32,
      "outputs": [
        {
          "output_type": "stream",
          "name": "stdout",
          "text": [
            "[1, 7, 8, 9]\n"
          ]
        }
      ]
    },
    {
      "cell_type": "markdown",
      "source": [
        "# Dictionaries Extending the usability of Sets!\n",
        "#### 1. Dictionary stores data in Key-value pairs\n",
        "#### 2. Key is unique and values can be duplicated\n",
        "#### 3. Can revieve the values using keys\n",
        "#### 4. Can change the values using keys\n",
        "#### 5. Keys are immutable"
      ],
      "metadata": {
        "id": "zdx3woJfTSyx"
      }
    },
    {
      "cell_type": "code",
      "source": [
        "#Syntax\n",
        "#{KEY : VALUE}"
      ],
      "metadata": {
        "id": "OMPay2i8S4W5"
      },
      "execution_count": 33,
      "outputs": []
    },
    {
      "cell_type": "code",
      "source": [
        "sample_dictionary = {\"Inceptez20\":36,\"Inceptez21\":40,\"Inceptez22\":32}"
      ],
      "metadata": {
        "id": "6u3U4fmEUF5-"
      },
      "execution_count": 34,
      "outputs": []
    },
    {
      "cell_type": "code",
      "source": [
        "sample_dictionary = {\"Inceptez20\":['Dinesh','Jai','Jameela'],\"Inceptez21\":['Thiayanesh','Rishi'],\"Inceptez20\":['Ganesh','Prabhu','Guru']}"
      ],
      "metadata": {
        "id": "-t-EtXWDUpGO"
      },
      "execution_count": 39,
      "outputs": []
    },
    {
      "cell_type": "code",
      "source": [
        "sample_dictionary"
      ],
      "metadata": {
        "colab": {
          "base_uri": "https://localhost:8080/"
        },
        "id": "kGOz0uejU9wn",
        "outputId": "530e71d0-c814-405c-f9cf-0bbe21e8f9fd"
      },
      "execution_count": 40,
      "outputs": [
        {
          "output_type": "execute_result",
          "data": {
            "text/plain": [
              "{'Inceptez20': ['Ganesh', 'Prabhu', 'Guru'],\n",
              " 'Inceptez21': ['Thiayanesh', 'Rishi']}"
            ]
          },
          "metadata": {},
          "execution_count": 40
        }
      ]
    },
    {
      "cell_type": "code",
      "source": [
        "sample_dictionary['Inceptez20']"
      ],
      "metadata": {
        "colab": {
          "base_uri": "https://localhost:8080/"
        },
        "id": "zgNtAM9kUhNL",
        "outputId": "3d600634-182f-4a13-b9cf-d3843d1ef1cf"
      },
      "execution_count": 35,
      "outputs": [
        {
          "output_type": "execute_result",
          "data": {
            "text/plain": [
              "36"
            ]
          },
          "metadata": {},
          "execution_count": 35
        }
      ]
    },
    {
      "cell_type": "code",
      "source": [
        "sample_dictionary[0]"
      ],
      "metadata": {
        "colab": {
          "base_uri": "https://localhost:8080/",
          "height": 179
        },
        "id": "tThgIVzcXS74",
        "outputId": "2bdc6627-e2d3-484f-fd3d-4574a32c1867"
      },
      "execution_count": 41,
      "outputs": [
        {
          "output_type": "error",
          "ename": "KeyError",
          "evalue": "ignored",
          "traceback": [
            "\u001b[0;31m---------------------------------------------------------------------------\u001b[0m",
            "\u001b[0;31mKeyError\u001b[0m                                  Traceback (most recent call last)",
            "\u001b[0;32m<ipython-input-41-5cef6e813886>\u001b[0m in \u001b[0;36m<cell line: 1>\u001b[0;34m()\u001b[0m\n\u001b[0;32m----> 1\u001b[0;31m \u001b[0msample_dictionary\u001b[0m\u001b[0;34m[\u001b[0m\u001b[0;36m0\u001b[0m\u001b[0;34m]\u001b[0m\u001b[0;34m\u001b[0m\u001b[0;34m\u001b[0m\u001b[0m\n\u001b[0m",
            "\u001b[0;31mKeyError\u001b[0m: 0"
          ]
        }
      ]
    },
    {
      "cell_type": "markdown",
      "source": [
        "### Exercise Dictionaries: Write a python program to access dictionary key elements using index. i.e Use index methods to print the first key.."
      ],
      "metadata": {
        "id": "-Lrx_jsXW1wH"
      }
    },
    {
      "cell_type": "code",
      "source": [
        "Ex: marks = {\"Physics\":80,\"Math\":90,\"CS\":50}\n",
        "\n",
        "Input: 0\n",
        "OUTPUT: Physics"
      ],
      "metadata": {
        "id": "mijwhJFjUlKR"
      },
      "execution_count": null,
      "outputs": []
    },
    {
      "cell_type": "code",
      "source": [
        "marks = {\"Physics\":80,\"Math\":90,\"CS\":50}\n",
        "list(marks)\n",
        "print(list(marks)[0])"
      ],
      "metadata": {
        "colab": {
          "base_uri": "https://localhost:8080/"
        },
        "id": "w7YNZ-dDY_aU",
        "outputId": "9e4d8fe1-32f3-40cf-903a-2a66d5ea3933"
      },
      "execution_count": 43,
      "outputs": [
        {
          "output_type": "stream",
          "name": "stdout",
          "text": [
            "Physics\n"
          ]
        }
      ]
    },
    {
      "cell_type": "code",
      "source": [
        "list(marks.keys())[0]"
      ],
      "metadata": {
        "colab": {
          "base_uri": "https://localhost:8080/",
          "height": 35
        },
        "id": "zxEnhgk4ZBiM",
        "outputId": "0bfff096-01b5-4918-b110-767ce99c6aa0"
      },
      "execution_count": 46,
      "outputs": [
        {
          "output_type": "execute_result",
          "data": {
            "text/plain": [
              "'Physics'"
            ],
            "application/vnd.google.colaboratory.intrinsic+json": {
              "type": "string"
            }
          },
          "metadata": {},
          "execution_count": 46
        }
      ]
    },
    {
      "cell_type": "code",
      "source": [
        "list(marks.values())[0]"
      ],
      "metadata": {
        "colab": {
          "base_uri": "https://localhost:8080/"
        },
        "id": "zsZAjRuFZLud",
        "outputId": "7b0925d7-2c8f-4535-a153-c94716a160c4"
      },
      "execution_count": 48,
      "outputs": [
        {
          "output_type": "execute_result",
          "data": {
            "text/plain": [
              "80"
            ]
          },
          "metadata": {},
          "execution_count": 48
        }
      ]
    },
    {
      "cell_type": "markdown",
      "source": [
        "#Tuple\n",
        "\n",
        "#### 1. Tuple allows heterogenous data\n",
        "#### 2. syntax is using '('\n",
        "#### 3. Immutable by index"
      ],
      "metadata": {
        "id": "fVN6YsUyZb9l"
      }
    },
    {
      "cell_type": "code",
      "source": [
        "sample_tuple = (1,2,3,4,4,4,4,5)"
      ],
      "metadata": {
        "id": "H7IwRTwTZbgb"
      },
      "execution_count": 54,
      "outputs": []
    },
    {
      "cell_type": "code",
      "source": [
        "type(sample_tuple)"
      ],
      "metadata": {
        "colab": {
          "base_uri": "https://localhost:8080/"
        },
        "id": "Wy8CzBM4ZSSm",
        "outputId": "60abe405-acfa-48f4-8ebd-214c7b8e6800"
      },
      "execution_count": 50,
      "outputs": [
        {
          "output_type": "execute_result",
          "data": {
            "text/plain": [
              "tuple"
            ]
          },
          "metadata": {},
          "execution_count": 50
        }
      ]
    },
    {
      "cell_type": "code",
      "source": [
        "sample_tuple[2]"
      ],
      "metadata": {
        "colab": {
          "base_uri": "https://localhost:8080/"
        },
        "id": "fqN8LJUcZ2HG",
        "outputId": "8c8ab369-e680-42fa-fbf2-735ba4aa3551"
      },
      "execution_count": 51,
      "outputs": [
        {
          "output_type": "execute_result",
          "data": {
            "text/plain": [
              "3"
            ]
          },
          "metadata": {},
          "execution_count": 51
        }
      ]
    },
    {
      "cell_type": "code",
      "source": [
        "sample_tuple[2] = 10"
      ],
      "metadata": {
        "colab": {
          "base_uri": "https://localhost:8080/",
          "height": 179
        },
        "id": "8PVfSdT2Z_Kp",
        "outputId": "0f6a4d6e-ee70-4e27-efee-fa94865c3911"
      },
      "execution_count": 53,
      "outputs": [
        {
          "output_type": "error",
          "ename": "TypeError",
          "evalue": "ignored",
          "traceback": [
            "\u001b[0;31m---------------------------------------------------------------------------\u001b[0m",
            "\u001b[0;31mTypeError\u001b[0m                                 Traceback (most recent call last)",
            "\u001b[0;32m<ipython-input-53-e48220ef14f6>\u001b[0m in \u001b[0;36m<cell line: 1>\u001b[0;34m()\u001b[0m\n\u001b[0;32m----> 1\u001b[0;31m \u001b[0msample_tuple\u001b[0m\u001b[0;34m[\u001b[0m\u001b[0;36m2\u001b[0m\u001b[0;34m]\u001b[0m \u001b[0;34m=\u001b[0m \u001b[0;36m10\u001b[0m\u001b[0;34m\u001b[0m\u001b[0;34m\u001b[0m\u001b[0m\n\u001b[0m",
            "\u001b[0;31mTypeError\u001b[0m: 'tuple' object does not support item assignment"
          ]
        }
      ]
    },
    {
      "cell_type": "code",
      "source": [
        "sample_tuple.count(4)"
      ],
      "metadata": {
        "colab": {
          "base_uri": "https://localhost:8080/"
        },
        "id": "hbO-oVvNaGQa",
        "outputId": "68ca213f-6f6d-4c4f-b53b-a06504972806"
      },
      "execution_count": 56,
      "outputs": [
        {
          "output_type": "execute_result",
          "data": {
            "text/plain": [
              "4"
            ]
          },
          "metadata": {},
          "execution_count": 56
        }
      ]
    },
    {
      "cell_type": "markdown",
      "source": [
        "## Type Conversion"
      ],
      "metadata": {
        "id": "NLB-2lEuaozD"
      }
    },
    {
      "cell_type": "code",
      "source": [
        "list()\n",
        "tuple()\n",
        "set()\n",
        "dict()"
      ],
      "metadata": {
        "id": "8ivDvZVkaaX6"
      },
      "execution_count": null,
      "outputs": []
    },
    {
      "cell_type": "code",
      "source": [
        "sample_list = list(sample_tuple)"
      ],
      "metadata": {
        "id": "1fNZMH-Ra0wv"
      },
      "execution_count": 58,
      "outputs": []
    },
    {
      "cell_type": "code",
      "source": [
        "sample_list"
      ],
      "metadata": {
        "colab": {
          "base_uri": "https://localhost:8080/"
        },
        "id": "f2tXHCbIa3Yn",
        "outputId": "90cb2a8a-81ff-41e7-af01-1ecdab1420c0"
      },
      "execution_count": 59,
      "outputs": [
        {
          "output_type": "execute_result",
          "data": {
            "text/plain": [
              "[1, 2, 3, 4, 4, 4, 4, 5]"
            ]
          },
          "metadata": {},
          "execution_count": 59
        }
      ]
    },
    {
      "cell_type": "code",
      "source": [
        "sample_list = set(sample_tuple)"
      ],
      "metadata": {
        "id": "xZQLEyPKa8Ls"
      },
      "execution_count": 60,
      "outputs": []
    },
    {
      "cell_type": "code",
      "source": [
        "sample_list"
      ],
      "metadata": {
        "colab": {
          "base_uri": "https://localhost:8080/"
        },
        "id": "nFu2dj3ra9Q6",
        "outputId": "c98c4b76-98dd-4566-b546-fd301e8d6f70"
      },
      "execution_count": 62,
      "outputs": [
        {
          "output_type": "execute_result",
          "data": {
            "text/plain": [
              "{1, 2, 3, 4, 5}"
            ]
          },
          "metadata": {},
          "execution_count": 62
        }
      ]
    },
    {
      "cell_type": "code",
      "source": [
        "dict(sample_tuple)"
      ],
      "metadata": {
        "colab": {
          "base_uri": "https://localhost:8080/",
          "height": 179
        },
        "id": "Y02z4rKWa-HK",
        "outputId": "d0d53d10-ec8e-4c42-b434-5fb14617ba18"
      },
      "execution_count": 63,
      "outputs": [
        {
          "output_type": "error",
          "ename": "TypeError",
          "evalue": "ignored",
          "traceback": [
            "\u001b[0;31m---------------------------------------------------------------------------\u001b[0m",
            "\u001b[0;31mTypeError\u001b[0m                                 Traceback (most recent call last)",
            "\u001b[0;32m<ipython-input-63-90d0f4a56ccd>\u001b[0m in \u001b[0;36m<cell line: 1>\u001b[0;34m()\u001b[0m\n\u001b[0;32m----> 1\u001b[0;31m \u001b[0mdict\u001b[0m\u001b[0;34m(\u001b[0m\u001b[0msample_tuple\u001b[0m\u001b[0;34m)\u001b[0m\u001b[0;34m\u001b[0m\u001b[0;34m\u001b[0m\u001b[0m\n\u001b[0m",
            "\u001b[0;31mTypeError\u001b[0m: cannot convert dictionary update sequence element #0 to a sequence"
          ]
        }
      ]
    },
    {
      "cell_type": "code",
      "source": [
        "sample_lst = ([1, 2], [3, 4], [4, 4], [4, 5])"
      ],
      "metadata": {
        "id": "JbuFo2rtbCGF"
      },
      "execution_count": 66,
      "outputs": []
    },
    {
      "cell_type": "code",
      "source": [
        "dict(sample_lst)"
      ],
      "metadata": {
        "colab": {
          "base_uri": "https://localhost:8080/"
        },
        "id": "xgzLPgJ8bL24",
        "outputId": "caa7ca9c-1236-4b76-dbf9-656327595b95"
      },
      "execution_count": 67,
      "outputs": [
        {
          "output_type": "execute_result",
          "data": {
            "text/plain": [
              "{1: 2, 3: 4, 4: 5}"
            ]
          },
          "metadata": {},
          "execution_count": 67
        }
      ]
    },
    {
      "cell_type": "markdown",
      "source": [
        "# LOOPS\n",
        "1. Conditional Loops: if - else loop"
      ],
      "metadata": {
        "id": "MX5wK3PUhiMb"
      }
    },
    {
      "cell_type": "code",
      "source": [
        "if(class is legit):\n",
        "  if(trainer is good):\n",
        "    if(reviews are good):\n",
        "      if(syllabus / curriculum is good):\n",
        "        if(timings match):\n",
        "          Join\n",
        "  else:\n",
        "    dont join\n",
        "else:\n",
        "  Dont Join\n"
      ],
      "metadata": {
        "id": "aaQLfU0ShhUu"
      },
      "execution_count": null,
      "outputs": []
    },
    {
      "cell_type": "code",
      "source": [
        "[Tab space] - Idendation which defines a block in python!"
      ],
      "metadata": {
        "id": "tgD0NPCTi-M_"
      },
      "execution_count": null,
      "outputs": []
    },
    {
      "cell_type": "code",
      "source": [
        "if statement:\n",
        "  jbj\n",
        "  dsds\n",
        "  ds\n",
        "  ds\n",
        "  sdsd\n",
        "  dsd\n",
        "  <IF BLOCK>\n",
        "  if statement2:\n",
        "    <SECOND IF BLOcK>\n",
        "    if statement3:\n",
        "      <THIRD IF BLOCK>\n",
        "    else:\n",
        "      <third ifs else>\n",
        "  else:\n",
        "    <SEcond ifs else>\n",
        "else:\n",
        "  <first if ELSE BLOCK>"
      ],
      "metadata": {
        "id": "gW73-vmPi1KU"
      },
      "execution_count": null,
      "outputs": []
    },
    {
      "cell_type": "code",
      "source": [
        "#BY default user input is a string\n",
        "user_input = int(input(\"Please enter a number\"))\n",
        "if user_input < 5:\n",
        "  print(\"LESS THAN FIVE\")\n",
        "else:\n",
        "  print(\"GREATER THAN FIVE\")"
      ],
      "metadata": {
        "colab": {
          "base_uri": "https://localhost:8080/"
        },
        "id": "70o3x-SlbQ7n",
        "outputId": "88d63982-5666-4f2e-b2fb-f231ef3a351f"
      },
      "execution_count": 70,
      "outputs": [
        {
          "output_type": "stream",
          "name": "stdout",
          "text": [
            "Please enter a number10\n",
            "GREATER THAN FIVE\n"
          ]
        }
      ]
    },
    {
      "cell_type": "markdown",
      "source": [
        "### Operators to be used inside IF\n",
        "1. Equal to operator: a == b\n",
        "2. Not Equal to: a != b\n",
        "3. Less than: a < b\n",
        "4. Greater than: a > b\n",
        "5. Less than or equal: a <= b\n",
        "6. Greater than or equal: a >=b\n",
        "\n",
        "### Logical Operators:\n",
        "1. and\n",
        "2. or\n",
        "3. not"
      ],
      "metadata": {
        "id": "5RLntWp3kj1x"
      }
    },
    {
      "cell_type": "code",
      "source": [
        "if (Condition):\n",
        "  some condition\n",
        "else:\n",
        "  some condition"
      ],
      "metadata": {
        "id": "TWv8GEbEki9n"
      },
      "execution_count": null,
      "outputs": []
    },
    {
      "cell_type": "code",
      "source": [
        "True -> 1\n",
        "1 and 1 -> True\n",
        "1 or 1 -> True\n",
        "False -> 0"
      ],
      "metadata": {
        "id": "VsVFT2jcjqli"
      },
      "execution_count": 69,
      "outputs": []
    },
    {
      "cell_type": "code",
      "source": [
        "if (draw1 = apple)and(draw2 = apple): #Both of this has to be true!\n",
        "  some condition\n",
        "else:\n",
        "  some condition"
      ],
      "metadata": {
        "id": "FAGwAudfjqi8"
      },
      "execution_count": 69,
      "outputs": []
    },
    {
      "cell_type": "code",
      "source": [
        "if (draw1 = apple)or(draw2 = apple): #either of this has to be true!\n",
        "  some condition\n",
        "else:\n",
        "  some condition"
      ],
      "metadata": {
        "id": "X_w0ULAXjqgC"
      },
      "execution_count": 69,
      "outputs": []
    },
    {
      "cell_type": "code",
      "source": [
        "not(people doing from inceptez)"
      ],
      "metadata": {
        "id": "keDHJUwljqdf"
      },
      "execution_count": 69,
      "outputs": []
    },
    {
      "cell_type": "code",
      "source": [
        "Not(A)=> 1 - A"
      ],
      "metadata": {
        "id": "yI1oqylsjqbK"
      },
      "execution_count": 69,
      "outputs": []
    },
    {
      "cell_type": "markdown",
      "source": [
        "## How do I give condition in my else???\n",
        "\n",
        "# ELIF"
      ],
      "metadata": {
        "id": "rDJKyhVbnA4D"
      }
    },
    {
      "cell_type": "code",
      "source": [
        "if Condition: #First check point\n",
        "  Statement\n",
        "elif Condition: #Alternate fallback second check point\n",
        "  Statement\n",
        "elif Condtion:\n",
        "  Statement\n",
        "else: #Last resort statement\n",
        "  default statement"
      ],
      "metadata": {
        "id": "vFbL0VhunDw4"
      },
      "execution_count": null,
      "outputs": []
    },
    {
      "cell_type": "code",
      "source": [
        "if Condition: #First check point\n",
        "  Statement\n",
        "if condition2: #This if will be checked irrespective of the first if being right / wrong\n",
        "  Statement\n",
        "else: #Last resort statement\n",
        "  default statement"
      ],
      "metadata": {
        "id": "CAZgxXGxnDtv"
      },
      "execution_count": null,
      "outputs": []
    },
    {
      "cell_type": "code",
      "source": [
        "get input - Mark\n",
        ">80 - A - if\n",
        ">90 - S - if\n",
        "50 - 80- included - B -elif\n",
        "else: - F"
      ],
      "metadata": {
        "id": "82K4uW_2nDqq"
      },
      "execution_count": null,
      "outputs": []
    },
    {
      "cell_type": "code",
      "source": [
        "If ladder\n",
        "if Condition:\n",
        "  <BlOck>\n",
        "if Condition:\n",
        "  <Block>\n",
        "if COnditioon:\n",
        "  <Block>"
      ],
      "metadata": {
        "id": "Pp0X2haFnDnB"
      },
      "execution_count": null,
      "outputs": []
    },
    {
      "cell_type": "code",
      "source": [
        "Nested IF:\n",
        "if condition:\n",
        "  if condition:\n",
        "    if condition:\n",
        "      if condition:\n",
        "        pass"
      ],
      "metadata": {
        "id": "XnR7CtaOnDK6"
      },
      "execution_count": null,
      "outputs": []
    },
    {
      "cell_type": "code",
      "source": [
        "name = \"Narayen\"\n",
        "if (name == \"Laxmi\"):\n",
        "  print(\"Hi Laxmi\")\n",
        "else:\n",
        "  pass"
      ],
      "metadata": {
        "id": "LJ5bFkbip7pl"
      },
      "execution_count": 73,
      "outputs": []
    },
    {
      "cell_type": "code",
      "source": [],
      "metadata": {
        "id": "73PAffjkqOtZ"
      },
      "execution_count": null,
      "outputs": []
    }
  ]
}