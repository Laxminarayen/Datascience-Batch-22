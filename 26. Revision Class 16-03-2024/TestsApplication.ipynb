{
  "nbformat": 4,
  "nbformat_minor": 0,
  "metadata": {
    "colab": {
      "provenance": []
    },
    "kernelspec": {
      "name": "python3",
      "display_name": "Python 3"
    },
    "language_info": {
      "name": "python"
    }
  },
  "cells": [
    {
      "cell_type": "markdown",
      "source": [
        "\n",
        "Tests:\n",
        "1. Normality Tests\n",
        "  a. Shapiro-Wilk Test\n",
        "\n",
        "\n",
        "https://www.youtube.com/watch?v=8Aw45HN5lnA\n",
        "\n"
      ],
      "metadata": {
        "id": "VNIOGZqjP2Ie"
      }
    },
    {
      "cell_type": "markdown",
      "source": [
        "Interpretation\n",
        "\n",
        "- H0: the sample has a Gaussian distribution.\n",
        "- H1: the sample does not have a Gaussian distribution."
      ],
      "metadata": {
        "id": "MFiC6QkoSWaF"
      }
    },
    {
      "cell_type": "code",
      "source": [
        "# Example of the Shapiro-Wilk Normality Test\n",
        "from scipy.stats import shapiro\n",
        "data = [0.873, 2.817, 0.121, -0.945, -0.055, -1.436, 0.360, -1.478, -1.637, -1.869]\n",
        "stat, p = shapiro(data)\n",
        "print('stat=%.3f, p=%.3f' % (stat, p))\n",
        "if p > 0.05:\n",
        " print('Probably Gaussian')\n",
        "else:\n",
        " print('Probably not Gaussian')"
      ],
      "metadata": {
        "colab": {
          "base_uri": "https://localhost:8080/"
        },
        "id": "JiCzOthYPrCu",
        "outputId": "81304dfc-c0c0-4ad0-ea12-097c838b5adc"
      },
      "execution_count": 2,
      "outputs": [
        {
          "output_type": "stream",
          "name": "stdout",
          "text": [
            "stat=0.895, p=0.193\n",
            "Probably Gaussian\n"
          ]
        }
      ]
    },
    {
      "cell_type": "markdown",
      "source": [
        "https://en.wikipedia.org/wiki/D%27Agostino%27s_K-squared_test"
      ],
      "metadata": {
        "id": "GwzzbgtPQp6f"
      }
    },
    {
      "cell_type": "markdown",
      "source": [
        "- H0: the sample has a Gaussian distribution.\n",
        "- H1: the sample does not have a Gaussian distribution."
      ],
      "metadata": {
        "id": "AobXLzsqSbXB"
      }
    },
    {
      "cell_type": "code",
      "source": [
        "\n",
        "# Example of the D'Agostino's K^2 Normality Test\n",
        "from scipy.stats import normaltest\n",
        "data = [0.873, 2.817, 0.121, -0.945, -0.055, -1.436, 0.360, -1.478, -1.637, -1.869]\n",
        "stat, p = normaltest(data)\n",
        "print('stat=%.3f, p=%.3f' % (stat, p))\n",
        "if p > 0.05:\n",
        " print('Probably Gaussian')\n",
        "else:\n",
        " print('Probably not Gaussian')"
      ],
      "metadata": {
        "colab": {
          "base_uri": "https://localhost:8080/"
        },
        "id": "l_QohJVdPv9L",
        "outputId": "15580751-26fd-4090-c8cd-cd4c411f70b8"
      },
      "execution_count": 5,
      "outputs": [
        {
          "output_type": "stream",
          "name": "stdout",
          "text": [
            "stat=3.392, p=0.183\n",
            "Probably Gaussian\n"
          ]
        },
        {
          "output_type": "stream",
          "name": "stderr",
          "text": [
            "/usr/local/lib/python3.10/dist-packages/scipy/stats/_stats_py.py:1806: UserWarning: kurtosistest only valid for n>=20 ... continuing anyway, n=10\n",
            "  warnings.warn(\"kurtosistest only valid for n>=20 ... continuing \"\n"
          ]
        }
      ]
    },
    {
      "cell_type": "markdown",
      "source": [
        "2. Correlation Tests\n",
        "  1. Pearson’s Correlation Coefficient\n",
        "  2. Spearman’s Rank Correlation\n",
        "  3. Chi-Squared Test"
      ],
      "metadata": {
        "id": "UadOVlrlQw_n"
      }
    },
    {
      "cell_type": "markdown",
      "source": [
        "Interpretation\n",
        "\n",
        "- H0: the two samples are independent.\n",
        "- H1: there is a dependency between the samples."
      ],
      "metadata": {
        "id": "4HUJMrynSPog"
      }
    },
    {
      "cell_type": "code",
      "source": [
        "\n",
        "# Example of the Pearson's Correlation test\n",
        "from scipy.stats import pearsonr\n",
        "data1 = [0.873, 2.817, 0.121, -0.945, -0.055, -1.436, 0.360, -1.478, -1.637, -1.869]\n",
        "data2 = [0.353, 3.517, 0.125, -7.545, -0.555, -1.536, 3.350, -1.578, -3.537, -1.579]\n",
        "stat, p = pearsonr(data1, data2)\n",
        "print('stat=%.3f, p=%.3f' % (stat, p))\n",
        "if p > 0.05:\n",
        " print('Probably independent')\n",
        "else:\n",
        " print('Probably dependent')"
      ],
      "metadata": {
        "colab": {
          "base_uri": "https://localhost:8080/"
        },
        "id": "TgplWpV-QWUw",
        "outputId": "24702e11-0607-4235-90ec-7ad2cc37d9a2"
      },
      "execution_count": 6,
      "outputs": [
        {
          "output_type": "stream",
          "name": "stdout",
          "text": [
            "stat=0.688, p=0.028\n",
            "Probably dependent\n"
          ]
        }
      ]
    },
    {
      "cell_type": "markdown",
      "source": [
        "Interpretation\n",
        "\n",
        "- H0: the two samples are independent.\n",
        "- H1: there is a dependency between the samples.\n"
      ],
      "metadata": {
        "id": "F49Kei8kSLol"
      }
    },
    {
      "cell_type": "code",
      "source": [
        "# Example of the Spearman's Rank Correlation Test\n",
        "from scipy.stats import spearmanr\n",
        "data1 = [0.873, 2.817, 0.121, -0.945, -0.055, -1.436, 0.360, -1.478, -1.637, -1.869]\n",
        "data2 = [0.353, 3.517, 0.125, -7.545, -0.555, -1.536, 3.350, -1.578, -3.537, -1.579]\n",
        "stat, p = spearmanr(data1, data2)\n",
        "print('stat=%.3f, p=%.3f' % (stat, p))\n",
        "if p > 0.05:\n",
        " print('Probably independent')\n",
        "else:\n",
        " print('Probably dependent')"
      ],
      "metadata": {
        "colab": {
          "base_uri": "https://localhost:8080/"
        },
        "id": "YywZxIiiQ4_E",
        "outputId": "41d0ae10-0e7f-4dcf-cdd7-fe7476985016"
      },
      "execution_count": 8,
      "outputs": [
        {
          "output_type": "stream",
          "name": "stdout",
          "text": [
            "stat=0.855, p=0.002\n",
            "Probably dependent\n"
          ]
        }
      ]
    },
    {
      "cell_type": "markdown",
      "source": [
        "![image.png](data:image/png;base64,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)"
      ],
      "metadata": {
        "id": "qgUiLW4hRI8a"
      }
    },
    {
      "cell_type": "markdown",
      "source": [
        "Interpretation\n",
        "\n",
        "- H0: the two samples are independent.\n",
        "- H1: there is a dependency between the samples."
      ],
      "metadata": {
        "id": "r4gKkoFBSGb_"
      }
    },
    {
      "cell_type": "code",
      "source": [
        "\n",
        "# Example of the Chi-Squared Test\n",
        "from scipy.stats import chi2_contingency\n",
        "table = [[35, 15, 50],[10,  30,  60]]\n",
        "stat, p, dof, expected = chi2_contingency(table)\n",
        "print('stat=%.3f, p=%.3f' % (stat, p))\n",
        "if p > 0.05:\n",
        " print('Probably independent')\n",
        "else:\n",
        " print('Probably dependent')"
      ],
      "metadata": {
        "colab": {
          "base_uri": "https://localhost:8080/"
        },
        "id": "jwzA7JJ3Q7R1",
        "outputId": "53950261-de07-471e-f28e-8d2d6fc79695"
      },
      "execution_count": 10,
      "outputs": [
        {
          "output_type": "stream",
          "name": "stdout",
          "text": [
            "stat=19.798, p=0.000\n",
            "Probably dependent\n"
          ]
        }
      ]
    },
    {
      "cell_type": "markdown",
      "source": [
        "3. Parametric Statistical Hypothesis Tests\n",
        "  1. Student’s t-test\n",
        "  2. Analysis of Variance Test (ANOVA)\n"
      ],
      "metadata": {
        "id": "5kp0bwV_Rg9E"
      }
    },
    {
      "cell_type": "markdown",
      "source": [
        "- Assumptions\n",
        "\n",
        "1. Observations in each sample are independent and identically distributed (iid).\n",
        "2. Observations in each sample are normally distributed.\n",
        "3. Observations in each sample have the same variance.\n",
        "4. Observations across each sample are paired.\n",
        "\n",
        "- Interpretation\n",
        "\n",
        "- H0: the means of the samples are equal.\n",
        "- H1: the means of the samples are unequal."
      ],
      "metadata": {
        "id": "PPa2stMZR35B"
      }
    },
    {
      "cell_type": "code",
      "source": [
        "\n",
        "# Example of the Student's t-test\n",
        "from scipy.stats import ttest_ind\n",
        "data1 = [0.873, 2.817, 0.121, -0.945, -0.055, -1.436, 0.360, -1.478, -1.637, -1.869]\n",
        "data2 = [1.142, -0.432, -0.938, -0.729, -0.846, -0.157, 0.500, 1.183, -1.075, -0.169]\n",
        "stat, p = ttest_ind(data1, data2)\n",
        "print('stat=%.3f, p=%.3f' % (stat, p))\n",
        "if p > 0.05:\n",
        " print('Probably the same distribution')\n",
        "else:\n",
        " print('Probably different distributions')"
      ],
      "metadata": {
        "colab": {
          "base_uri": "https://localhost:8080/"
        },
        "id": "F7jvEIZaQ-c5",
        "outputId": "e96ee7aa-2142-4add-b815-798758f9eb7e"
      },
      "execution_count": 11,
      "outputs": [
        {
          "output_type": "stream",
          "name": "stdout",
          "text": [
            "stat=-0.326, p=0.748\n",
            "Probably the same distribution\n"
          ]
        }
      ]
    },
    {
      "cell_type": "markdown",
      "source": [
        "- Assumptions\n",
        "\n",
        "1. Observations in each sample are independent and identically distributed (iid).\n",
        "2. Observations in each sample are normally distributed.\n",
        "3. Observations in each sample have the same variance.\n",
        "\n",
        "- Interpretation\n",
        "\n",
        "- H0: the means of the samples are equal.\n",
        "- H1: one or more of the means of the samples are unequal."
      ],
      "metadata": {
        "id": "rnRvNN3URtf7"
      }
    },
    {
      "cell_type": "code",
      "source": [
        "# Example of the Analysis of Variance Test\n",
        "from scipy.stats import f_oneway\n",
        "data1 = [0.873, 2.817, 0.121, -0.945, -0.055, -1.436, 0.360, -1.478, -1.637, -1.869]\n",
        "data2 = [1.142, -0.432, -0.938, -0.729, -0.846, -0.157, 0.500, 1.183, -1.075, -0.169]\n",
        "data3 = [-0.208, 0.696, 0.928, -1.148, -0.213, 0.229, 0.137, 0.269, -0.870, -1.204]\n",
        "stat, p = f_oneway(data1, data2, data3)\n",
        "print('stat=%.3f, p=%.3f' % (stat, p))\n",
        "if p > 0.05:\n",
        " print('Probably the same distribution')\n",
        "else:\n",
        " print('Probably different distributions')"
      ],
      "metadata": {
        "colab": {
          "base_uri": "https://localhost:8080/"
        },
        "id": "EELQ-G4ORqVJ",
        "outputId": "e892951f-9fac-4ef6-caef-439878623e85"
      },
      "execution_count": 12,
      "outputs": [
        {
          "output_type": "stream",
          "name": "stdout",
          "text": [
            "stat=0.096, p=0.908\n",
            "Probably the same distribution\n"
          ]
        }
      ]
    },
    {
      "cell_type": "code",
      "source": [],
      "metadata": {
        "id": "LCJbULJ3Rs_E"
      },
      "execution_count": null,
      "outputs": []
    }
  ]
}